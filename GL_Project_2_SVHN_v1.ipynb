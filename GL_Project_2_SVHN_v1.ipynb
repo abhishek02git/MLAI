{
  "nbformat": 4,
  "nbformat_minor": 0,
  "metadata": {
    "colab": {
      "name": "GL_Project_2_SVHN_v1.ipynb",
      "version": "0.3.2",
      "provenance": [],
      "collapsed_sections": [],
      "include_colab_link": true
    },
    "kernelspec": {
      "name": "python3",
      "display_name": "Python 3"
    },
    "accelerator": "GPU"
  },
  "cells": [
    {
      "cell_type": "markdown",
      "metadata": {
        "id": "view-in-github",
        "colab_type": "text"
      },
      "source": [
        "<a href=\"https://colab.research.google.com/github/GreatLearningAIML1/gurgaon-feb-batch-abhishek02git/blob/master/GL_Project_2_SVHN_v1.ipynb\" target=\"_parent\"><img src=\"https://colab.research.google.com/assets/colab-badge.svg\" alt=\"Open In Colab\"/></a>"
      ]
    },
    {
      "cell_type": "code",
      "metadata": {
        "id": "6eElXpijvlH-",
        "colab_type": "code",
        "outputId": "b82ef562-1767-479f-fc7a-cd18711a3d64",
        "colab": {
          "base_uri": "https://localhost:8080/",
          "height": 293
        }
      },
      "source": [
        "#download data file not found on local machine\n",
        "import glob\n",
        "if len(glob.glob('SVHN_single_grey1.h5'))==0:\n",
        "  ! wget 'http://h0.ai/static/SVHN_single_grey1.h5'\n",
        "! ls -al"
      ],
      "execution_count": 0,
      "outputs": [
        {
          "output_type": "stream",
          "text": [
            "--2019-08-26 09:17:05--  http://h0.ai/static/SVHN_single_grey1.h5\n",
            "Resolving h0.ai (h0.ai)... 207.180.211.174\n",
            "Connecting to h0.ai (h0.ai)|207.180.211.174|:80... connected.\n",
            "HTTP request sent, awaiting response... 200 OK\n",
            "Length: 491644096 (469M) [application/octet-stream]\n",
            "Saving to: ‘SVHN_single_grey1.h5’\n",
            "\n",
            "SVHN_single_grey1.h 100%[===================>] 468.87M  9.17MB/s    in 78s     \n",
            "\n",
            "2019-08-26 09:18:23 (6.00 MB/s) - ‘SVHN_single_grey1.h5’ saved [491644096/491644096]\n",
            "\n",
            "total 480144\n",
            "drwxr-xr-x 1 root root      4096 Aug 26 09:17 .\n",
            "drwxr-xr-x 1 root root      4096 Aug 26 08:56 ..\n",
            "drwxr-xr-x 1 root root      4096 Aug 22 16:14 .config\n",
            "drwxr-xr-x 1 root root      4096 Aug 22 16:14 sample_data\n",
            "-rw-r--r-- 1 root root 491644096 Aug 17 17:30 SVHN_single_grey1.h5\n"
          ],
          "name": "stdout"
        }
      ]
    },
    {
      "cell_type": "code",
      "metadata": {
        "id": "F56Q5u1owddn",
        "colab_type": "code",
        "colab": {}
      },
      "source": [
        "import pandas as pd\n",
        "import numpy as np\n",
        "import seaborn as sns\n",
        "import matplotlib.pyplot as plt \n",
        "\n",
        "import h5py\n",
        "\n",
        "import tensorflow as tf\n",
        "import tensorflow.keras as keras\n",
        "from tensorflow.keras import models\n",
        "from tensorflow.keras import layers\n",
        "from tensorflow.keras import optimizers\n",
        "from tensorflow.keras import backend as K\n",
        "#from tensorflow.compact.v1.keras.backend import K\n",
        "\n",
        "\n",
        "from tensorflow.keras.layers import Dense, Activation, Input, Flatten, Reshape, MaxPool2D, BatchNormalization \n",
        "\n",
        "from tensorflow.keras.layers import Conv2D\n",
        "from tensorflow.keras.layers import MaxPooling2D\n",
        "from tensorflow.keras.layers import AveragePooling2D\n",
        "from tensorflow.keras.layers import BatchNormalization\n",
        "from tensorflow.keras.layers import Flatten\n",
        "from tensorflow.keras.layers import Dropout\n",
        "\n",
        "from tensorflow.keras.layers import LeakyReLU\n",
        "from tensorflow.keras.optimizers import Adam,Adagrad\n",
        "from tensorflow.keras.preprocessing.image import ImageDataGenerator\n",
        "\n",
        "from sklearn.neighbors import KNeighborsClassifier\n",
        "from sklearn import metrics\n",
        "from sklearn.model_selection import cross_val_score"
      ],
      "execution_count": 0,
      "outputs": []
    },
    {
      "cell_type": "code",
      "metadata": {
        "id": "pa4YVJv4x0eu",
        "colab_type": "code",
        "outputId": "dcc68ba4-2eba-41da-8269-6e82c7837be9",
        "colab": {
          "base_uri": "https://localhost:8080/",
          "height": 66
        }
      },
      "source": [
        "#Load and Prepare Data\n",
        "dset = h5py.File('SVHN_single_grey1.h5','r')\n",
        "X_train = np.array(dset['X_train'])\n",
        "X_test = np.array(dset['X_test'])\n",
        "X_val = np.array(dset['X_val'])\n",
        "y_train = np.array(dset['y_train'])\n",
        "y_test  = np.array(dset['y_test'])\n",
        "y_val = np.array(dset['y_val'])\n",
        "\n",
        "print (\"Training \", X_train.shape)\n",
        "print (\"Testing \", X_test.shape)\n",
        "print (\"Validation \", X_val.shape)"
      ],
      "execution_count": 0,
      "outputs": [
        {
          "output_type": "stream",
          "text": [
            "Training  (42000, 32, 32)\n",
            "Testing  (18000, 32, 32)\n",
            "Validation  (60000, 32, 32)\n"
          ],
          "name": "stdout"
        }
      ]
    },
    {
      "cell_type": "code",
      "metadata": {
        "colab_type": "code",
        "id": "Hb-xwiYWwVz3",
        "colab": {}
      },
      "source": [
        "# Prepare data for NN training\n",
        "X_train_nn = X_train.reshape(X_train.shape[0],X_train.shape[1],X_train.shape[2],1)\n",
        "X_test_nn = X_test.reshape(X_test.shape[0],X_test.shape[1],X_test.shape[2],1)\n",
        "X_val_nn = X_val.reshape(X_val.shape[0],X_train.shape[1],X_val.shape[2],1)\n",
        "y_train_nn = keras.utils.to_categorical(y_train)\n",
        "y_test_nn  = keras.utils.to_categorical(y_test)\n",
        "y_val_nn = keras.utils.to_categorical(y_val)"
      ],
      "execution_count": 0,
      "outputs": []
    },
    {
      "cell_type": "code",
      "metadata": {
        "id": "MugPYKh_bRJr",
        "colab_type": "code",
        "outputId": "f00fc9bb-137b-4654-a70e-b322d412a965",
        "colab": {
          "base_uri": "https://localhost:8080/",
          "height": 342
        }
      },
      "source": [
        "# Implement KNN\n",
        "from sklearn.metrics import classification_report \n",
        "X_train_flat = X_train.reshape(X_train.shape[0],X_train.shape[1]*X_train.shape[2])\n",
        "X_test_flat = X_test.reshape(X_test.shape[0],X_test.shape[1]*X_test.shape[2])\n",
        "print (\"Running KNN on K = 25\")\n",
        "knn = KNeighborsClassifier(n_neighbors = 25,n_jobs=-1)\n",
        "knn.fit(X_train_flat,y_train)\n",
        "y_pred = knn.predict(X_test_flat)\n",
        "score = metrics.accuracy_score(y_test,y_pred)\n",
        "print (\"Accuracy Score\", score)\n",
        "print (\"Classification Report at K =25\")\n",
        "print (classification_report(y_test,y_pred))\n",
        "\n",
        "# Did not run KNN for multiple values as this was very slow. Its took 30+ mins for one K value"
      ],
      "execution_count": 0,
      "outputs": [
        {
          "output_type": "stream",
          "text": [
            "Running KNN on K = 25\n",
            "Accuracy Score 0.5296666666666666\n",
            "Classification Report at K =25\n",
            "              precision    recall  f1-score   support\n",
            "\n",
            "           0       0.45      0.71      0.55      1814\n",
            "           1       0.46      0.73      0.56      1828\n",
            "           2       0.63      0.54      0.58      1803\n",
            "           3       0.46      0.42      0.44      1719\n",
            "           4       0.64      0.65      0.65      1812\n",
            "           5       0.52      0.39      0.45      1768\n",
            "           6       0.50      0.41      0.45      1832\n",
            "           7       0.71      0.63      0.67      1808\n",
            "           8       0.47      0.37      0.41      1812\n",
            "           9       0.55      0.44      0.49      1804\n",
            "\n",
            "    accuracy                           0.53     18000\n",
            "   macro avg       0.54      0.53      0.52     18000\n",
            "weighted avg       0.54      0.53      0.53     18000\n",
            "\n"
          ],
          "name": "stdout"
        }
      ]
    },
    {
      "cell_type": "code",
      "metadata": {
        "colab_type": "code",
        "outputId": "61071125-1e2d-41da-9890-a27377d6fd75",
        "id": "GcIFF2ohwVG6",
        "colab": {
          "base_uri": "https://localhost:8080/",
          "height": 302
        }
      },
      "source": [
        "print (y_train_nn[11])\n",
        "plt.imshow(X_train_nn[11].reshape(32,32),cmap='gray')"
      ],
      "execution_count": 0,
      "outputs": [
        {
          "output_type": "stream",
          "text": [
            "[1. 0. 0. 0. 0. 0. 0. 0. 0. 0.]\n"
          ],
          "name": "stdout"
        },
        {
          "output_type": "execute_result",
          "data": {
            "text/plain": [
              "<matplotlib.image.AxesImage at 0x7f33cca4cc18>"
            ]
          },
          "metadata": {
            "tags": []
          },
          "execution_count": 17
        },
        {
          "output_type": "display_data",
          "data": {
            "image/png": "[encoded data removed]",
            "text/plain": [
              "<Figure size 432x288 with 1 Axes>"
            ]
          },
          "metadata": {
            "tags": []
          }
        }
      ]
    },
    {
      "cell_type": "code",
      "metadata": {
        "id": "_cT5v29SWmGd",
        "colab_type": "code",
        "colab": {}
      },
      "source": [
        "# Network parameters\n",
        "latent_dim = 1000\n",
        "input_shape = (32,32,1)\n",
        "kernal_size = 3\n",
        "strides = 1\n",
        "layer_filters = [32,64,128,256]\n",
        "dnn_units = [latent_dim,1000,500,100]\n",
        "output_unit = 10"
      ],
      "execution_count": 0,
      "outputs": []
    },
    {
      "cell_type": "code",
      "metadata": {
        "id": "K-gieE4FWodj",
        "colab_type": "code",
        "outputId": "694ed356-f4f8-4431-a8f6-f5d91c3ec80c",
        "colab": {
          "base_uri": "https://localhost:8080/",
          "height": 882
        }
      },
      "source": [
        "inputs = keras.layers.Input(shape=input_shape,name='Input')\n",
        "conv = inputs\n",
        "for filters in layer_filters:\n",
        "  conv = keras.layers.Conv2D(filters=filters,kernel_size=kernal_size,kernel_initializer='he_uniform', strides=strides,padding='same')(conv)\n",
        "  conv = keras.layers.LeakyReLU(alpha=0.3)(conv)\n",
        "  conv = keras.layers.AveragePooling2D(pool_size=(2,2))(conv)\n",
        "  conv = keras.layers.BatchNormalization()(conv)\n",
        "\n",
        "# Shape info needed to build Decoder Model\n",
        "shape = K.int_shape(conv)\n",
        "\n",
        "flat = keras.layers.Flatten()(conv)\n",
        "latent = keras.layers.Dense(units=latent_dim, name='Latent_vector')(flat)\n",
        "encoder = keras.models.Model(inputs,latent,name='encoder')\n",
        "print (\"Encoder Model\")\n",
        "print(encoder.summary())"
      ],
      "execution_count": 0,
      "outputs": [
        {
          "output_type": "stream",
          "text": [
            "WARNING: Logging before flag parsing goes to stderr.\n",
            "W0826 10:48:56.031989 139861901346688 deprecation.py:506] From /usr/local/lib/python3.6/dist-packages/tensorflow/python/ops/init_ops.py:1251: calling VarianceScaling.__init__ (from tensorflow.python.ops.init_ops) with dtype is deprecated and will be removed in a future version.\n",
            "Instructions for updating:\n",
            "Call initializer instance with the dtype argument instead of passing it to the constructor\n"
          ],
          "name": "stderr"
        },
        {
          "output_type": "stream",
          "text": [
            "Encoder Model\n",
            "Model: \"encoder\"\n",
            "_________________________________________________________________\n",
            "Layer (type)                 Output Shape              Param #   \n",
            "=================================================================\n",
            "Input (InputLayer)           [(None, 32, 32, 1)]       0         \n",
            "_________________________________________________________________\n",
            "conv2d (Conv2D)              (None, 32, 32, 32)        320       \n",
            "_________________________________________________________________\n",
            "leaky_re_lu (LeakyReLU)      (None, 32, 32, 32)        0         \n",
            "_________________________________________________________________\n",
            "average_pooling2d (AveragePo (None, 16, 16, 32)        0         \n",
            "_________________________________________________________________\n",
            "batch_normalization (BatchNo (None, 16, 16, 32)        128       \n",
            "_________________________________________________________________\n",
            "conv2d_1 (Conv2D)            (None, 16, 16, 64)        18496     \n",
            "_________________________________________________________________\n",
            "leaky_re_lu_1 (LeakyReLU)    (None, 16, 16, 64)        0         \n",
            "_________________________________________________________________\n",
            "average_pooling2d_1 (Average (None, 8, 8, 64)          0         \n",
            "_________________________________________________________________\n",
            "batch_normalization_1 (Batch (None, 8, 8, 64)          256       \n",
            "_________________________________________________________________\n",
            "conv2d_2 (Conv2D)            (None, 8, 8, 128)         73856     \n",
            "_________________________________________________________________\n",
            "leaky_re_lu_2 (LeakyReLU)    (None, 8, 8, 128)         0         \n",
            "_________________________________________________________________\n",
            "average_pooling2d_2 (Average (None, 4, 4, 128)         0         \n",
            "_________________________________________________________________\n",
            "batch_normalization_2 (Batch (None, 4, 4, 128)         512       \n",
            "_________________________________________________________________\n",
            "conv2d_3 (Conv2D)            (None, 4, 4, 256)         295168    \n",
            "_________________________________________________________________\n",
            "leaky_re_lu_3 (LeakyReLU)    (None, 4, 4, 256)         0         \n",
            "_________________________________________________________________\n",
            "average_pooling2d_3 (Average (None, 2, 2, 256)         0         \n",
            "_________________________________________________________________\n",
            "batch_normalization_3 (Batch (None, 2, 2, 256)         1024      \n",
            "_________________________________________________________________\n",
            "flatten (Flatten)            (None, 1024)              0         \n",
            "_________________________________________________________________\n",
            "Latent_vector (Dense)        (None, 1000)              1025000   \n",
            "=================================================================\n",
            "Total params: 1,414,760\n",
            "Trainable params: 1,413,800\n",
            "Non-trainable params: 960\n",
            "_________________________________________________________________\n",
            "None\n"
          ],
          "name": "stdout"
        }
      ]
    },
    {
      "cell_type": "code",
      "metadata": {
        "id": "bznl-ql3W7XG",
        "colab_type": "code",
        "outputId": "6d0ca0e8-ea04-49b5-e0ba-701ae7ce87e8",
        "colab": {
          "base_uri": "https://localhost:8080/",
          "height": 765
        }
      },
      "source": [
        "#Create fully connected layer\n",
        "\n",
        "dnn_input = keras.layers.Input(shape=latent_dim,name='dnn_input')\n",
        "dnn = dnn_input\n",
        "for units in dnn_units:\n",
        "  dnn = keras.layers.Dense(units=units,kernel_initializer='he_uniform')(dnn)\n",
        "  dnn = keras.layers.Dropout(rate=0.2)(dnn)\n",
        "  dnn = keras.layers.LeakyReLU(alpha=0.3)(dnn)\n",
        "  dnn = keras.layers.BatchNormalization()(dnn)\n",
        "\n",
        "dnn_output = keras.layers.Dense(units=output_unit,kernel_initializer='he_uniform',activation='softmax')(dnn)\n",
        "dnn_model = keras.models.Model(inputs=dnn_input,outputs=dnn_output,name='dnn_model')\n",
        "print (\"DNN Model\")\n",
        "print (dnn_model.summary())"
      ],
      "execution_count": 0,
      "outputs": [
        {
          "output_type": "stream",
          "text": [
            "DNN Model\n",
            "Model: \"dnn_model\"\n",
            "_________________________________________________________________\n",
            "Layer (type)                 Output Shape              Param #   \n",
            "=================================================================\n",
            "dnn_input (InputLayer)       [(None, 1000)]            0         \n",
            "_________________________________________________________________\n",
            "dense (Dense)                (None, 1000)              1001000   \n",
            "_________________________________________________________________\n",
            "dropout (Dropout)            (None, 1000)              0         \n",
            "_________________________________________________________________\n",
            "leaky_re_lu_4 (LeakyReLU)    (None, 1000)              0         \n",
            "_________________________________________________________________\n",
            "batch_normalization_4 (Batch (None, 1000)              4000      \n",
            "_________________________________________________________________\n",
            "dense_1 (Dense)              (None, 1000)              1001000   \n",
            "_________________________________________________________________\n",
            "dropout_1 (Dropout)          (None, 1000)              0         \n",
            "_________________________________________________________________\n",
            "leaky_re_lu_5 (LeakyReLU)    (None, 1000)              0         \n",
            "_________________________________________________________________\n",
            "batch_normalization_5 (Batch (None, 1000)              4000      \n",
            "_________________________________________________________________\n",
            "dense_2 (Dense)              (None, 500)               500500    \n",
            "_________________________________________________________________\n",
            "dropout_2 (Dropout)          (None, 500)               0         \n",
            "_________________________________________________________________\n",
            "leaky_re_lu_6 (LeakyReLU)    (None, 500)               0         \n",
            "_________________________________________________________________\n",
            "batch_normalization_6 (Batch (None, 500)               2000      \n",
            "_________________________________________________________________\n",
            "dense_3 (Dense)              (None, 100)               50100     \n",
            "_________________________________________________________________\n",
            "dropout_3 (Dropout)          (None, 100)               0         \n",
            "_________________________________________________________________\n",
            "leaky_re_lu_7 (LeakyReLU)    (None, 100)               0         \n",
            "_________________________________________________________________\n",
            "batch_normalization_7 (Batch (None, 100)               400       \n",
            "_________________________________________________________________\n",
            "dense_4 (Dense)              (None, 10)                1010      \n",
            "=================================================================\n",
            "Total params: 2,564,010\n",
            "Trainable params: 2,558,810\n",
            "Non-trainable params: 5,200\n",
            "_________________________________________________________________\n",
            "None\n"
          ],
          "name": "stdout"
        }
      ]
    },
    {
      "cell_type": "code",
      "metadata": {
        "id": "0OHgcB0j9Uc1",
        "colab_type": "code",
        "outputId": "f8071d81-735e-477b-f785-56e52f077f77",
        "colab": {
          "base_uri": "https://localhost:8080/",
          "height": 245
        }
      },
      "source": [
        "#Create ConvNet Model  = encoder + dnn_model\n",
        "cnn_model = keras.models.Model(inputs=inputs,outputs=dnn_model(encoder(inputs)),name='CNN_Model')\n",
        "cnn_model.summary()"
      ],
      "execution_count": 0,
      "outputs": [
        {
          "output_type": "stream",
          "text": [
            "Model: \"CNN_Model\"\n",
            "_________________________________________________________________\n",
            "Layer (type)                 Output Shape              Param #   \n",
            "=================================================================\n",
            "Input (InputLayer)           [(None, 32, 32, 1)]       0         \n",
            "_________________________________________________________________\n",
            "encoder (Model)              (None, 1000)              1414760   \n",
            "_________________________________________________________________\n",
            "dnn_model (Model)            (None, 10)                2564010   \n",
            "=================================================================\n",
            "Total params: 3,978,770\n",
            "Trainable params: 3,972,610\n",
            "Non-trainable params: 6,160\n",
            "_________________________________________________________________\n"
          ],
          "name": "stdout"
        }
      ]
    },
    {
      "cell_type": "code",
      "metadata": {
        "id": "0BVrUBe5eSCw",
        "colab_type": "code",
        "colab": {}
      },
      "source": [
        "cnn_model.compile(optimizer='adam',loss ='categorical_crossentropy',metrics = ['accuracy'])\n",
        "#autoencoder.compile(optimizer='adam',loss ='mse',metrics = ['accuracy'])"
      ],
      "execution_count": 0,
      "outputs": []
    },
    {
      "cell_type": "code",
      "metadata": {
        "colab_type": "code",
        "outputId": "5dbc0520-0a21-47bb-a656-9a3ddfb1f8e7",
        "id": "V1lQuAyYeQpV",
        "colab": {
          "base_uri": "https://localhost:8080/",
          "height": 70
        }
      },
      "source": [
        "train_datagen = ImageDataGenerator(\n",
        "      featurewise_std_normalization=True,\n",
        "      samplewise_std_normalization = False,\n",
        "      rotation_range=30,\n",
        "      width_shift_range=0.2,\n",
        "      height_shift_range=0.2,\n",
        "      horizontal_flip=False,\n",
        "      vertical_flip=False,\n",
        "      fill_mode='nearest',\n",
        "      zoom_range=0.2,\n",
        "      zca_whitening=False\n",
        "      )\n",
        "\n",
        "train_datagen.fit(X_train_nn)\n"
      ],
      "execution_count": 0,
      "outputs": [
        {
          "output_type": "stream",
          "text": [
            "/usr/local/lib/python3.6/dist-packages/keras_preprocessing/image/image_data_generator.py:348: UserWarning: This ImageDataGenerator specifies `featurewise_std_normalization`, which overrides setting of `featurewise_center`.\n",
            "  warnings.warn('This ImageDataGenerator specifies '\n"
          ],
          "name": "stderr"
        }
      ]
    },
    {
      "cell_type": "code",
      "metadata": {
        "id": "TJPPtiuq76Nl",
        "colab_type": "code",
        "outputId": "0513e53e-6697-4bf9-e5b8-3abd4d98a07c",
        "colab": {
          "base_uri": "https://localhost:8080/",
          "height": 221
        }
      },
      "source": [
        "DataGen = False\n",
        "for i in range (1):\n",
        "  if DataGen:\n",
        "    cnn_model.fit_generator(train_datagen.flow(X_train_nn, y_train_nn,batch_size=32),\n",
        "                      epochs=5, \n",
        "                      steps_per_epoch= X_train_nn.shape[0]/32,\n",
        "                      validation_data=(X_test_nn, y_test_nn),\n",
        "                      callbacks=[])\n",
        "    \n",
        "  else:\n",
        "    print (\"Training without agumentation\")\n",
        "    cnn_model.fit(X_train_nn,y_train_nn,\n",
        "          batch_size=32,\n",
        "          epochs=5,\n",
        "          validation_data=(X_test_nn,y_test_nn),\n",
        "          )\n",
        "\n",
        "  cnn_model.save('cnn_model.h5')"
      ],
      "execution_count": 25,
      "outputs": [
        {
          "output_type": "stream",
          "text": [
            "Training without agumentation\n",
            "Train on 42000 samples, validate on 18000 samples\n",
            "Epoch 1/5\n",
            "42000/42000 [==============================] - 46s 1ms/sample - loss: 0.0085 - acc: 0.9971 - val_loss: 0.5143 - val_acc: 0.9244\n",
            "Epoch 2/5\n",
            "42000/42000 [==============================] - 46s 1ms/sample - loss: 0.0093 - acc: 0.9973 - val_loss: 0.5346 - val_acc: 0.9211\n",
            "Epoch 3/5\n",
            "42000/42000 [==============================] - 46s 1ms/sample - loss: 0.0078 - acc: 0.9977 - val_loss: 0.5140 - val_acc: 0.9231\n",
            "Epoch 4/5\n",
            "42000/42000 [==============================] - 45s 1ms/sample - loss: 0.0089 - acc: 0.9975 - val_loss: 0.5067 - val_acc: 0.9251\n",
            "Epoch 5/5\n",
            "42000/42000 [==============================] - 46s 1ms/sample - loss: 0.0096 - acc: 0.9971 - val_loss: 0.5381 - val_acc: 0.9254\n"
          ],
          "name": "stdout"
        }
      ]
    },
    {
      "cell_type": "code",
      "metadata": {
        "id": "6RPDjWknKE_G",
        "colab_type": "code",
        "colab": {}
      },
      "source": [
        "y_pred_nn = cnn_model.predict(X_val_nn)"
      ],
      "execution_count": 0,
      "outputs": []
    },
    {
      "cell_type": "code",
      "metadata": {
        "id": "iquAcCD2G23W",
        "colab_type": "code",
        "colab": {}
      },
      "source": [
        "y_pred_argmax = [np.argmax(x) for x in y_pred_nn]"
      ],
      "execution_count": 0,
      "outputs": []
    },
    {
      "cell_type": "code",
      "metadata": {
        "id": "lC3OneryGiv_",
        "colab_type": "code",
        "colab": {
          "base_uri": "https://localhost:8080/",
          "height": 306
        },
        "outputId": "458b2783-d4d3-4257-d3af-01fdcdd6967e"
      },
      "source": [
        "print (classification_report(y_val,y_pred_argmax))"
      ],
      "execution_count": 76,
      "outputs": [
        {
          "output_type": "stream",
          "text": [
            "              precision    recall  f1-score   support\n",
            "\n",
            "           0       0.98      0.98      0.98      6000\n",
            "           1       0.98      0.97      0.97      6000\n",
            "           2       0.99      0.98      0.98      6000\n",
            "           3       0.97      0.97      0.97      6000\n",
            "           4       0.98      0.98      0.98      6000\n",
            "           5       0.97      0.98      0.98      6000\n",
            "           6       0.97      0.97      0.97      6000\n",
            "           7       0.98      0.98      0.98      6000\n",
            "           8       0.98      0.97      0.97      6000\n",
            "           9       0.98      0.97      0.98      6000\n",
            "\n",
            "    accuracy                           0.98     60000\n",
            "   macro avg       0.98      0.98      0.98     60000\n",
            "weighted avg       0.98      0.98      0.98     60000\n",
            "\n"
          ],
          "name": "stdout"
        }
      ]
    },
    {
      "cell_type": "code",
      "metadata": {
        "id": "Jn9Swx9gGyk1",
        "colab_type": "code",
        "colab": {}
      },
      "source": [
        "# Inference\n",
        "# KNN algorithm took around 30 minutes train on 40,000 records and predict on 18,000 that too with very bad accuracy of 53%\n",
        "# The NN model tool much lesser time - and reached accuracy 98% in less than 50 iterations. This model was able to prodict the validation data correctly with 98% accuracy\n",
        "# We can clearly see that not only the neural network model takes muchg lesser time to learn such complex data but also is able to provide very high accuracy  "
      ],
      "execution_count": 0,
      "outputs": []
    }
  ]
}