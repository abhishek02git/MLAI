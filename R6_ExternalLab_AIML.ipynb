{
  "nbformat": 4,
  "nbformat_minor": 0,
  "metadata": {
    "colab": {
      "name": "R6_ExternalLab_AIML.ipynb",
      "version": "0.3.2",
      "provenance": [],
      "collapsed_sections": [],
      "include_colab_link": true
    },
    "language_info": {
      "codemirror_mode": {
        "name": "ipython",
        "version": 3
      },
      "file_extension": ".py",
      "mimetype": "text/x-python",
      "name": "python",
      "nbconvert_exporter": "python",
      "pygments_lexer": "ipython3",
      "version": "3.6.8"
    },
    "kernelspec": {
      "name": "python3",
      "display_name": "Python 3"
    },
    "accelerator": "GPU"
  },
  "cells": [
    {
      "cell_type": "markdown",
      "metadata": {
        "id": "view-in-github",
        "colab_type": "text"
      },
      "source": [
        "<a href=\"https://colab.research.google.com/github/GreatLearningAIML1/gurgaon-feb-batch-abhishek02git/blob/master/R6_ExternalLab_AIML.ipynb\" target=\"_parent\"><img src=\"https://colab.research.google.com/assets/colab-badge.svg\" alt=\"Open In Colab\"/></a>"
      ]
    },
    {
      "cell_type": "markdown",
      "metadata": {
        "colab_type": "text",
        "id": "YYk8NG3yOIT9"
      },
      "source": [
        "### A MNIST-like fashion product database\n",
        "\n",
        "In this, we classify the images into respective classes given in the dataset. We use a Neural Net and a Deep Neural Net in Keras to solve this and check the accuracy scores."
      ]
    },
    {
      "cell_type": "markdown",
      "metadata": {
        "colab_type": "text",
        "id": "tFO6PuxzOIT_"
      },
      "source": [
        "### Load tensorflow"
      ]
    },
    {
      "cell_type": "code",
      "metadata": {
        "colab_type": "code",
        "id": "efNjNImfOIUC",
        "colab": {}
      },
      "source": [
        "import tensorflow as tf\n",
        "tf.set_random_seed(42)"
      ],
      "execution_count": 0,
      "outputs": []
    },
    {
      "cell_type": "code",
      "metadata": {
        "id": "HtLGxu5euFUY",
        "colab_type": "code",
        "colab": {}
      },
      "source": [
        "import numpy as np"
      ],
      "execution_count": 0,
      "outputs": []
    },
    {
      "cell_type": "code",
      "metadata": {
        "colab_type": "code",
        "id": "l9C4aAIGOIUH",
        "outputId": "0df8e8e3-0faf-43b3-e725-dcbb58a183d0",
        "colab": {
          "base_uri": "https://localhost:8080/",
          "height": 34
        }
      },
      "source": [
        "tf.__version__"
      ],
      "execution_count": 0,
      "outputs": [
        {
          "output_type": "execute_result",
          "data": {
            "text/plain": [
              "'1.14.0'"
            ]
          },
          "metadata": {
            "tags": []
          },
          "execution_count": 4
        }
      ]
    },
    {
      "cell_type": "markdown",
      "metadata": {
        "colab_type": "text",
        "id": "HcoZBStrOIUQ"
      },
      "source": [
        "### Collect Data"
      ]
    },
    {
      "cell_type": "code",
      "metadata": {
        "colab_type": "code",
        "id": "XA1WsFSeOIUS",
        "outputId": "d9dfc2d8-7b2e-4578-b670-12f56d260bfb",
        "colab": {
          "base_uri": "https://localhost:8080/",
          "height": 34
        }
      },
      "source": [
        "import keras"
      ],
      "execution_count": 0,
      "outputs": [
        {
          "output_type": "stream",
          "text": [
            "Using TensorFlow backend.\n"
          ],
          "name": "stderr"
        }
      ]
    },
    {
      "cell_type": "code",
      "metadata": {
        "colab_type": "code",
        "id": "qnbx7TyQOIUY",
        "outputId": "a5a3404b-a133-40e9-94fd-f5bab57a4fdc",
        "colab": {
          "base_uri": "https://localhost:8080/",
          "height": 158
        }
      },
      "source": [
        "(trainX, trainY), (testX, testY) = keras.datasets.fashion_mnist.load_data()"
      ],
      "execution_count": 0,
      "outputs": [
        {
          "output_type": "stream",
          "text": [
            "Downloading data from http://fashion-mnist.s3-website.eu-central-1.amazonaws.com/train-labels-idx1-ubyte.gz\n",
            "32768/29515 [=================================] - 0s 0us/step\n",
            "Downloading data from http://fashion-mnist.s3-website.eu-central-1.amazonaws.com/train-images-idx3-ubyte.gz\n",
            "26427392/26421880 [==============================] - 0s 0us/step\n",
            "Downloading data from http://fashion-mnist.s3-website.eu-central-1.amazonaws.com/t10k-labels-idx1-ubyte.gz\n",
            "8192/5148 [===============================================] - 0s 0us/step\n",
            "Downloading data from http://fashion-mnist.s3-website.eu-central-1.amazonaws.com/t10k-images-idx3-ubyte.gz\n",
            "4423680/4422102 [==============================] - 0s 0us/step\n"
          ],
          "name": "stdout"
        }
      ]
    },
    {
      "cell_type": "code",
      "metadata": {
        "colab_type": "code",
        "id": "UbiHj5YPOIUc",
        "outputId": "e851bdfe-f7e4-4a8f-f20c-7f79db7f9471",
        "colab": {
          "base_uri": "https://localhost:8080/",
          "height": 34
        }
      },
      "source": [
        "print(testY[0:5])"
      ],
      "execution_count": 0,
      "outputs": [
        {
          "output_type": "stream",
          "text": [
            "[9 2 1 1 6]\n"
          ],
          "name": "stdout"
        }
      ]
    },
    {
      "cell_type": "markdown",
      "metadata": {
        "colab_type": "text",
        "id": "lDAYzkwyOIUj"
      },
      "source": [
        "### Convert both training and testing labels into one-hot vectors.\n",
        "\n",
        "**Hint:** check **tf.keras.utils.to_categorical()**"
      ]
    },
    {
      "cell_type": "code",
      "metadata": {
        "colab_type": "code",
        "id": "vBlfYlANOIUk",
        "outputId": "67d88097-ef9c-4140-9280-5786316ec779",
        "colab": {
          "base_uri": "https://localhost:8080/",
          "height": 52
        }
      },
      "source": [
        "# Check unique values in Category\n",
        "print (np.unique(trainY))\n",
        "print (np.unique(testY))"
      ],
      "execution_count": 0,
      "outputs": [
        {
          "output_type": "stream",
          "text": [
            "[0 1 2 3 4 5 6 7 8 9]\n",
            "[0 1 2 3 4 5 6 7 8 9]\n"
          ],
          "name": "stdout"
        }
      ]
    },
    {
      "cell_type": "code",
      "metadata": {
        "id": "Y9GUWTe2tg4z",
        "colab_type": "code",
        "colab": {}
      },
      "source": [
        "# There are 10 Categories\n",
        "trainY = tf.keras.utils.to_categorical(trainY,num_classes=10)\n",
        "testY = tf.keras.utils.to_categorical(testY,num_classes=10)"
      ],
      "execution_count": 0,
      "outputs": []
    },
    {
      "cell_type": "code",
      "metadata": {
        "colab_type": "code",
        "id": "RHV3b9mzOIUq",
        "outputId": "46b640ab-cc65-47bf-9b57-7431a75441fd",
        "scrolled": true,
        "colab": {
          "base_uri": "https://localhost:8080/",
          "height": 123
        }
      },
      "source": [
        "print(trainY.shape)\n",
        "print('First 5 examples now are: ', trainY[0:5])"
      ],
      "execution_count": 0,
      "outputs": [
        {
          "output_type": "stream",
          "text": [
            "(60000, 10)\n",
            "First 5 examples now are:  [[0. 0. 0. 0. 0. 0. 0. 0. 0. 1.]\n",
            " [1. 0. 0. 0. 0. 0. 0. 0. 0. 0.]\n",
            " [1. 0. 0. 0. 0. 0. 0. 0. 0. 0.]\n",
            " [0. 0. 0. 1. 0. 0. 0. 0. 0. 0.]\n",
            " [1. 0. 0. 0. 0. 0. 0. 0. 0. 0.]]\n"
          ],
          "name": "stdout"
        }
      ]
    },
    {
      "cell_type": "code",
      "metadata": {
        "id": "VkspGcfyxD9V",
        "colab_type": "code",
        "outputId": "5b48f0f9-2593-4476-e90d-8a185a464b10",
        "colab": {
          "base_uri": "https://localhost:8080/",
          "height": 34
        }
      },
      "source": [
        "print (trainX.shape)"
      ],
      "execution_count": 0,
      "outputs": [
        {
          "output_type": "stream",
          "text": [
            "(60000, 28, 28)\n"
          ],
          "name": "stdout"
        }
      ]
    },
    {
      "cell_type": "code",
      "metadata": {
        "id": "VuJOwUwsxMc3",
        "colab_type": "code",
        "outputId": "4f018091-e791-4a5e-864b-b4f1d1b36697",
        "colab": {
          "base_uri": "https://localhost:8080/",
          "height": 34
        }
      },
      "source": [
        "28*28"
      ],
      "execution_count": 0,
      "outputs": [
        {
          "output_type": "execute_result",
          "data": {
            "text/plain": [
              "784"
            ]
          },
          "metadata": {
            "tags": []
          },
          "execution_count": 12
        }
      ]
    },
    {
      "cell_type": "markdown",
      "metadata": {
        "colab_type": "text",
        "id": "FwhQ8e7VOIUw"
      },
      "source": [
        "### Visualize the data\n",
        "\n",
        "Plot first 10 images in the triaining set and their labels."
      ]
    },
    {
      "cell_type": "code",
      "metadata": {
        "id": "b08OlvwLtg45",
        "colab_type": "code",
        "colab": {}
      },
      "source": [
        "import matplotlib.pyplot as plt"
      ],
      "execution_count": 0,
      "outputs": []
    },
    {
      "cell_type": "code",
      "metadata": {
        "id": "MTrTu6pqtg48",
        "colab_type": "code",
        "outputId": "eb6ee49c-66ce-4b8a-a668-48a3777bdb83",
        "colab": {
          "base_uri": "https://localhost:8080/",
          "height": 95
        }
      },
      "source": [
        "plt.figure(figsize=(10,10))\n",
        "for i in range(10):\n",
        "    plt.subplot(5,10,i+1)\n",
        "    plt.xticks([])\n",
        "    plt.yticks([])\n",
        "    plt.grid(False)\n",
        "    plt.imshow(trainX[i], cmap=plt.cm.gray)\n",
        "    plt.xlabel(int(np.where([trainY[i]==1])[1]))\n",
        "plt.show()"
      ],
      "execution_count": 0,
      "outputs": [
        {
          "output_type": "display_data",
          "data": {
            "image/png": "[encoded data removed]",
            "text/plain": [
              "<Figure size 720x720 with 10 Axes>"
            ]
          },
          "metadata": {
            "tags": []
          }
        }
      ]
    },
    {
      "cell_type": "markdown",
      "metadata": {
        "colab_type": "text",
        "id": "l4TbJGeSOIU4"
      },
      "source": [
        "### Build a neural Network with a cross entropy loss function and sgd optimizer in Keras. The output layer with 10 neurons as we have 10 classes."
      ]
    },
    {
      "cell_type": "code",
      "metadata": {
        "colab_type": "code",
        "id": "Ac06XZZTOIU6",
        "outputId": "26cbbfc6-48d8-472a-8d16-94b28485f013",
        "colab": {
          "base_uri": "https://localhost:8080/",
          "height": 107
        }
      },
      "source": [
        "#Initialize Sequential model\n",
        "model = tf.keras.models.Sequential()\n",
        "\n",
        "#Flatten the image data from 2d to 1d --> 28X28 to 784\n",
        "model.add(tf.keras.layers.Reshape((784,),input_shape=(28,28,)))\n",
        "\n",
        "#Add Dense Layer which provides 10 Outputs after applying softmax\n",
        "model.add(tf.keras.layers.Dense(10, activation='softmax'))\n",
        "\n",
        "#Comile the model\n",
        "model.compile(optimizer='sgd', loss='categorical_crossentropy', metrics=['accuracy'])"
      ],
      "execution_count": 0,
      "outputs": [
        {
          "output_type": "stream",
          "text": [
            "WARNING: Logging before flag parsing goes to stderr.\n",
            "W0719 05:12:33.090003 140581717538688 deprecation.py:506] From /usr/local/lib/python3.6/dist-packages/tensorflow/python/ops/init_ops.py:1251: calling VarianceScaling.__init__ (from tensorflow.python.ops.init_ops) with dtype is deprecated and will be removed in a future version.\n",
            "Instructions for updating:\n",
            "Call initializer instance with the dtype argument instead of passing it to the constructor\n"
          ],
          "name": "stderr"
        }
      ]
    },
    {
      "cell_type": "markdown",
      "metadata": {
        "colab_type": "text",
        "id": "3hQpLv3aOIU_"
      },
      "source": [
        "### Execute the model using model.fit()"
      ]
    },
    {
      "cell_type": "code",
      "metadata": {
        "colab_type": "code",
        "id": "O59C_-IgOIVB",
        "outputId": "fb64a113-074c-4107-fc27-b79e31d10cf7",
        "colab": {
          "base_uri": "https://localhost:8080/",
          "height": 407
        }
      },
      "source": [
        "model.fit(trainX, trainY, \n",
        "          validation_data=(testX, testY), \n",
        "          epochs=10,\n",
        "          batch_size=32)"
      ],
      "execution_count": 0,
      "outputs": [
        {
          "output_type": "stream",
          "text": [
            "Train on 60000 samples, validate on 10000 samples\n",
            "Epoch 1/10\n",
            "60000/60000 [==============================] - 7s 111us/sample - loss: 2047.3560 - acc: 0.7390 - val_loss: 1648.7828 - val_acc: 0.7582\n",
            "Epoch 2/10\n",
            "60000/60000 [==============================] - 6s 99us/sample - loss: 1631.1462 - acc: 0.7801 - val_loss: 1914.8318 - val_acc: 0.7692\n",
            "Epoch 3/10\n",
            "60000/60000 [==============================] - 6s 98us/sample - loss: 1528.2508 - acc: 0.7857 - val_loss: 1152.2556 - val_acc: 0.8047\n",
            "Epoch 4/10\n",
            "60000/60000 [==============================] - 6s 99us/sample - loss: 1555.0162 - acc: 0.7884 - val_loss: 2202.2183 - val_acc: 0.7316\n",
            "Epoch 5/10\n",
            "60000/60000 [==============================] - 6s 99us/sample - loss: 1510.6057 - acc: 0.7909 - val_loss: 1975.8904 - val_acc: 0.7634\n",
            "Epoch 6/10\n",
            "60000/60000 [==============================] - 6s 99us/sample - loss: 1467.0687 - acc: 0.7967 - val_loss: 956.2186 - val_acc: 0.8266\n",
            "Epoch 7/10\n",
            "60000/60000 [==============================] - 6s 99us/sample - loss: 1472.4562 - acc: 0.7956 - val_loss: 2850.5572 - val_acc: 0.7786\n",
            "Epoch 8/10\n",
            "60000/60000 [==============================] - 6s 99us/sample - loss: 1435.5808 - acc: 0.7981 - val_loss: 1020.8763 - val_acc: 0.8280\n",
            "Epoch 9/10\n",
            "60000/60000 [==============================] - 6s 99us/sample - loss: 1465.2050 - acc: 0.7975 - val_loss: 1681.7102 - val_acc: 0.7849\n",
            "Epoch 10/10\n",
            "60000/60000 [==============================] - 6s 98us/sample - loss: 1447.2266 - acc: 0.7987 - val_loss: 5384.7615 - val_acc: 0.6378\n"
          ],
          "name": "stdout"
        },
        {
          "output_type": "execute_result",
          "data": {
            "text/plain": [
              "<tensorflow.python.keras.callbacks.History at 0x7fdb702cd240>"
            ]
          },
          "metadata": {
            "tags": []
          },
          "execution_count": 16
        }
      ]
    },
    {
      "cell_type": "markdown",
      "metadata": {
        "colab_type": "text",
        "id": "JdzDtGwDOIVF"
      },
      "source": [
        "### In the above Neural Network model add Batch Normalization layer after the input layer and repeat the steps."
      ]
    },
    {
      "cell_type": "code",
      "metadata": {
        "colab_type": "code",
        "id": "kndfpdidOIVI",
        "colab": {}
      },
      "source": [
        "#Initialize Sequential model\n",
        "model = tf.keras.models.Sequential()\n",
        "\n",
        "#Flatten the image data from 2d to 1d --> 28X28 to 784\n",
        "model.add(tf.keras.layers.Reshape((784,),input_shape=(28,28,)))\n",
        "\n",
        "#Normalize the data\n",
        "model.add(tf.keras.layers.BatchNormalization())\n",
        "\n",
        "#Add Dense Layer which provides 10 Outputs after applying softmax\n",
        "model.add(tf.keras.layers.Dense(10, activation='softmax'))\n",
        "\n",
        "#Comile the model\n",
        "model.compile(optimizer='sgd', loss='categorical_crossentropy', metrics=['accuracy'])"
      ],
      "execution_count": 0,
      "outputs": []
    },
    {
      "cell_type": "markdown",
      "metadata": {
        "colab_type": "text",
        "id": "mwk3T5LJOIVN"
      },
      "source": [
        "### Execute the model"
      ]
    },
    {
      "cell_type": "code",
      "metadata": {
        "colab_type": "code",
        "id": "JNLR8tcBOIVP",
        "outputId": "cbe0973c-d1d3-41cf-f378-7458baf56a9c",
        "colab": {
          "base_uri": "https://localhost:8080/",
          "height": 407
        }
      },
      "source": [
        "model.fit(trainX, trainY, \n",
        "          validation_data=(testX, testY), \n",
        "          epochs=10,\n",
        "          batch_size=32)"
      ],
      "execution_count": 0,
      "outputs": [
        {
          "output_type": "stream",
          "text": [
            "Train on 60000 samples, validate on 10000 samples\n",
            "Epoch 1/10\n",
            "60000/60000 [==============================] - 7s 118us/sample - loss: 0.5921 - acc: 0.7976 - val_loss: 0.5095 - val_acc: 0.8244\n",
            "Epoch 2/10\n",
            "60000/60000 [==============================] - 7s 115us/sample - loss: 0.4884 - acc: 0.8330 - val_loss: 0.4863 - val_acc: 0.8340\n",
            "Epoch 3/10\n",
            "60000/60000 [==============================] - 7s 114us/sample - loss: 0.4659 - acc: 0.8393 - val_loss: 0.4817 - val_acc: 0.8359\n",
            "Epoch 4/10\n",
            "60000/60000 [==============================] - 7s 114us/sample - loss: 0.4559 - acc: 0.8423 - val_loss: 0.4717 - val_acc: 0.8367\n",
            "Epoch 5/10\n",
            "60000/60000 [==============================] - 7s 114us/sample - loss: 0.4487 - acc: 0.8450 - val_loss: 0.4742 - val_acc: 0.8403\n",
            "Epoch 6/10\n",
            "60000/60000 [==============================] - 7s 115us/sample - loss: 0.4425 - acc: 0.8462 - val_loss: 0.4669 - val_acc: 0.8408\n",
            "Epoch 7/10\n",
            "60000/60000 [==============================] - 7s 115us/sample - loss: 0.4376 - acc: 0.8475 - val_loss: 0.4659 - val_acc: 0.8445\n",
            "Epoch 8/10\n",
            "60000/60000 [==============================] - 7s 114us/sample - loss: 0.4348 - acc: 0.8491 - val_loss: 0.4666 - val_acc: 0.8406\n",
            "Epoch 9/10\n",
            "60000/60000 [==============================] - 7s 114us/sample - loss: 0.4324 - acc: 0.8500 - val_loss: 0.4631 - val_acc: 0.8436\n",
            "Epoch 10/10\n",
            "60000/60000 [==============================] - 7s 114us/sample - loss: 0.4299 - acc: 0.8495 - val_loss: 0.4663 - val_acc: 0.8413\n"
          ],
          "name": "stdout"
        },
        {
          "output_type": "execute_result",
          "data": {
            "text/plain": [
              "<tensorflow.python.keras.callbacks.History at 0x7fdb6fca44e0>"
            ]
          },
          "metadata": {
            "tags": []
          },
          "execution_count": 18
        }
      ]
    },
    {
      "cell_type": "markdown",
      "metadata": {
        "colab_type": "text",
        "id": "Py-KwkmjOIVU"
      },
      "source": [
        "### Customize the learning rate to 0.001 in sgd optimizer and run the model"
      ]
    },
    {
      "cell_type": "code",
      "metadata": {
        "colab_type": "code",
        "id": "yLXUE9jWOIVV",
        "colab": {}
      },
      "source": [
        "from tensorflow.keras import optimizers\n",
        "sgd = optimizers.SGD(lr=0.001)\n",
        "model.compile(optimizer=sgd, loss='categorical_crossentropy', metrics=['accuracy'])"
      ],
      "execution_count": 0,
      "outputs": []
    },
    {
      "cell_type": "code",
      "metadata": {
        "colab_type": "code",
        "id": "pJUqA5T4OIVc",
        "outputId": "4a42b950-7c6c-42a4-a800-f072e7e46331",
        "colab": {
          "base_uri": "https://localhost:8080/",
          "height": 407
        }
      },
      "source": [
        "model.fit(trainX, trainY, \n",
        "          validation_data=(testX, testY), \n",
        "          epochs=10,\n",
        "          batch_size=32)"
      ],
      "execution_count": 0,
      "outputs": [
        {
          "output_type": "stream",
          "text": [
            "Train on 60000 samples, validate on 10000 samples\n",
            "Epoch 1/10\n",
            "60000/60000 [==============================] - 7s 122us/sample - loss: 0.4162 - acc: 0.8565 - val_loss: 0.4561 - val_acc: 0.8441\n",
            "Epoch 2/10\n",
            "60000/60000 [==============================] - 7s 113us/sample - loss: 0.4172 - acc: 0.8544 - val_loss: 0.4548 - val_acc: 0.8435\n",
            "Epoch 3/10\n",
            "60000/60000 [==============================] - 7s 115us/sample - loss: 0.4158 - acc: 0.8565 - val_loss: 0.4522 - val_acc: 0.8452\n",
            "Epoch 4/10\n",
            "60000/60000 [==============================] - 7s 114us/sample - loss: 0.4142 - acc: 0.8565 - val_loss: 0.4531 - val_acc: 0.8453\n",
            "Epoch 5/10\n",
            "60000/60000 [==============================] - 7s 115us/sample - loss: 0.4137 - acc: 0.8563 - val_loss: 0.4563 - val_acc: 0.8457\n",
            "Epoch 6/10\n",
            "60000/60000 [==============================] - 7s 122us/sample - loss: 0.4146 - acc: 0.8569 - val_loss: 0.4531 - val_acc: 0.8451\n",
            "Epoch 7/10\n",
            "60000/60000 [==============================] - 7s 121us/sample - loss: 0.4145 - acc: 0.8554 - val_loss: 0.4569 - val_acc: 0.8429\n",
            "Epoch 8/10\n",
            "60000/60000 [==============================] - 7s 115us/sample - loss: 0.4137 - acc: 0.8561 - val_loss: 0.4634 - val_acc: 0.8433\n",
            "Epoch 9/10\n",
            "60000/60000 [==============================] - 7s 116us/sample - loss: 0.4128 - acc: 0.8572 - val_loss: 0.4579 - val_acc: 0.8451\n",
            "Epoch 10/10\n",
            "60000/60000 [==============================] - 7s 116us/sample - loss: 0.4116 - acc: 0.8569 - val_loss: 0.4486 - val_acc: 0.8449\n"
          ],
          "name": "stdout"
        },
        {
          "output_type": "execute_result",
          "data": {
            "text/plain": [
              "<tensorflow.python.keras.callbacks.History at 0x7fdb6065cfd0>"
            ]
          },
          "metadata": {
            "tags": []
          },
          "execution_count": 20
        }
      ]
    },
    {
      "cell_type": "markdown",
      "metadata": {
        "colab_type": "text",
        "id": "j9CSqKvpOIVk"
      },
      "source": [
        "### Build the Neural Network model with 3 Dense layers with 100,100,10 neurons respectively in each layer. Use cross entropy loss function and singmoid as activation in the hidden layers and softmax as activation function in the output layer. Use sgd optimizer with learning rate 0.03."
      ]
    },
    {
      "cell_type": "code",
      "metadata": {
        "colab_type": "code",
        "id": "GGAad54JOIVm",
        "colab": {}
      },
      "source": [
        "#Initialize Sequential model\n",
        "model = tf.keras.models.Sequential()\n",
        "\n",
        "#Flatten the image data from 2d to 1d --> 28X28 to 784\n",
        "model.add(tf.keras.layers.Reshape((784,),input_shape=(28,28,)))\n",
        "\n",
        "#Normalize the data\n",
        "model.add(tf.keras.layers.BatchNormalization())\n",
        "\n",
        "model.add(tf.keras.layers.Dense(100, activation='sigmoid'))\n",
        "\n",
        "model.add(tf.keras.layers.Dense(100, activation='sigmoid'))\n",
        "\n",
        "\n",
        "#Add Dense Layer which provides 10 Outputs after applying softmax\n",
        "model.add(tf.keras.layers.Dense(10, activation='softmax'))\n",
        "\n",
        "\n",
        "sgd = optimizers.SGD(lr=0.03)\n",
        "\n",
        "#Comile the model\n",
        "model.compile(optimizer='sgd', loss='categorical_crossentropy', metrics=['accuracy'])"
      ],
      "execution_count": 0,
      "outputs": []
    },
    {
      "cell_type": "markdown",
      "metadata": {
        "colab_type": "text",
        "id": "Nr2YsZV0OIV0"
      },
      "source": [
        "## Review model"
      ]
    },
    {
      "cell_type": "code",
      "metadata": {
        "id": "GsvxNK0X2jqC",
        "colab_type": "code",
        "outputId": "8dc4913f-b423-465e-e17a-2f896fd6f500",
        "colab": {
          "base_uri": "https://localhost:8080/",
          "height": 336
        }
      },
      "source": [
        "model.summary()"
      ],
      "execution_count": 0,
      "outputs": [
        {
          "output_type": "stream",
          "text": [
            "Model: \"sequential_2\"\n",
            "_________________________________________________________________\n",
            "Layer (type)                 Output Shape              Param #   \n",
            "=================================================================\n",
            "reshape_2 (Reshape)          (None, 784)               0         \n",
            "_________________________________________________________________\n",
            "batch_normalization_1 (Batch (None, 784)               3136      \n",
            "_________________________________________________________________\n",
            "dense_2 (Dense)              (None, 100)               78500     \n",
            "_________________________________________________________________\n",
            "dense_3 (Dense)              (None, 100)               10100     \n",
            "_________________________________________________________________\n",
            "dense_4 (Dense)              (None, 10)                1010      \n",
            "=================================================================\n",
            "Total params: 92,746\n",
            "Trainable params: 91,178\n",
            "Non-trainable params: 1,568\n",
            "_________________________________________________________________\n"
          ],
          "name": "stdout"
        }
      ]
    },
    {
      "cell_type": "markdown",
      "metadata": {
        "colab_type": "text",
        "id": "gfFGmbZLOIV5"
      },
      "source": [
        "### Run the model"
      ]
    },
    {
      "cell_type": "code",
      "metadata": {
        "colab_type": "code",
        "id": "MQ7oIymROIVp",
        "outputId": "5912d56b-cf3d-4921-878c-c2d25450c01a",
        "colab": {
          "base_uri": "https://localhost:8080/",
          "height": 407
        }
      },
      "source": [
        "model.fit(trainX, trainY, \n",
        "          validation_data=(testX, testY), \n",
        "          epochs=10,\n",
        "          batch_size=32)"
      ],
      "execution_count": 0,
      "outputs": [
        {
          "output_type": "stream",
          "text": [
            "Train on 60000 samples, validate on 10000 samples\n",
            "Epoch 1/10\n",
            "60000/60000 [==============================] - 8s 131us/sample - loss: 1.5523 - acc: 0.5863 - val_loss: 1.0571 - val_acc: 0.6933\n",
            "Epoch 2/10\n",
            "60000/60000 [==============================] - 8s 128us/sample - loss: 0.8906 - acc: 0.7281 - val_loss: 0.7486 - val_acc: 0.7554\n",
            "Epoch 3/10\n",
            "60000/60000 [==============================] - 8s 129us/sample - loss: 0.7003 - acc: 0.7616 - val_loss: 0.6366 - val_acc: 0.7789\n",
            "Epoch 4/10\n",
            "60000/60000 [==============================] - 8s 130us/sample - loss: 0.6156 - acc: 0.7831 - val_loss: 0.5757 - val_acc: 0.7923\n",
            "Epoch 5/10\n",
            "60000/60000 [==============================] - 8s 129us/sample - loss: 0.5645 - acc: 0.7990 - val_loss: 0.5364 - val_acc: 0.8056\n",
            "Epoch 6/10\n",
            "60000/60000 [==============================] - 8s 129us/sample - loss: 0.5305 - acc: 0.8120 - val_loss: 0.5093 - val_acc: 0.8154\n",
            "Epoch 7/10\n",
            "60000/60000 [==============================] - 8s 129us/sample - loss: 0.5025 - acc: 0.8213 - val_loss: 0.4891 - val_acc: 0.8241\n",
            "Epoch 8/10\n",
            "60000/60000 [==============================] - 8s 129us/sample - loss: 0.4834 - acc: 0.8279 - val_loss: 0.4753 - val_acc: 0.8288\n",
            "Epoch 9/10\n",
            "60000/60000 [==============================] - 8s 129us/sample - loss: 0.4700 - acc: 0.8318 - val_loss: 0.4649 - val_acc: 0.8337\n",
            "Epoch 10/10\n",
            "60000/60000 [==============================] - 8s 129us/sample - loss: 0.4562 - acc: 0.8365 - val_loss: 0.4542 - val_acc: 0.8373\n"
          ],
          "name": "stdout"
        },
        {
          "output_type": "execute_result",
          "data": {
            "text/plain": [
              "<tensorflow.python.keras.callbacks.History at 0x7fdb604a6d68>"
            ]
          },
          "metadata": {
            "tags": []
          },
          "execution_count": 23
        }
      ]
    },
    {
      "cell_type": "code",
      "metadata": {
        "id": "54DxTFd35zzT",
        "colab_type": "code",
        "colab": {}
      },
      "source": [
        "model.save('ex5')"
      ],
      "execution_count": 0,
      "outputs": []
    },
    {
      "cell_type": "code",
      "metadata": {
        "colab_type": "code",
        "id": "X-O-fFxnOIVt",
        "colab": {}
      },
      "source": [
        "predY = model.predict_classes(testX)"
      ],
      "execution_count": 0,
      "outputs": []
    },
    {
      "cell_type": "code",
      "metadata": {
        "colab_type": "code",
        "id": "BiP7IL52OIVw",
        "colab": {}
      },
      "source": [
        "from sklearn.metrics import confusion_matrix\n",
        "from sklearn.metrics import classification_report\n",
        "import pylab as pl\n",
        "import seaborn as sns"
      ],
      "execution_count": 0,
      "outputs": []
    },
    {
      "cell_type": "code",
      "metadata": {
        "id": "Xm6Nx1jM6nlR",
        "colab_type": "code",
        "colab": {}
      },
      "source": [
        ""
      ],
      "execution_count": 0,
      "outputs": []
    }
  ]
}