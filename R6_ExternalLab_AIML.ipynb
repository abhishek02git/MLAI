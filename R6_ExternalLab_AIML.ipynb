{
  "nbformat": 4,
  "nbformat_minor": 0,
  "metadata": {
    "colab": {
      "name": "R6_ExternalLab_AIML.ipynb",
      "version": "0.3.2",
      "provenance": [],
      "collapsed_sections": [],
      "include_colab_link": true
    },
    "language_info": {
      "codemirror_mode": {
        "name": "ipython",
        "version": 3
      },
      "file_extension": ".py",
      "mimetype": "text/x-python",
      "name": "python",
      "nbconvert_exporter": "python",
      "pygments_lexer": "ipython3",
      "version": "3.6.8"
    },
    "kernelspec": {
      "name": "python3",
      "display_name": "Python 3"
    },
    "accelerator": "GPU"
  },
  "cells": [
    {
      "cell_type": "markdown",
      "metadata": {
        "id": "view-in-github",
        "colab_type": "text"
      },
      "source": [
        "<a href=\"https://colab.research.google.com/github/abhishek02git/MLAI/blob/master/R6_ExternalLab_AIML.ipynb\" target=\"_parent\"><img src=\"https://colab.research.google.com/assets/colab-badge.svg\" alt=\"Open In Colab\"/></a>"
      ]
    },
    {
      "cell_type": "markdown",
      "metadata": {
        "colab_type": "text",
        "id": "YYk8NG3yOIT9"
      },
      "source": [
        "### A MNIST-like fashion product database\n",
        "\n",
        "In this, we classify the images into respective classes given in the dataset. We use a Neural Net and a Deep Neural Net in Keras to solve this and check the accuracy scores."
      ]
    },
    {
      "cell_type": "markdown",
      "metadata": {
        "colab_type": "text",
        "id": "tFO6PuxzOIT_"
      },
      "source": [
        "### Load tensorflow"
      ]
    },
    {
      "cell_type": "code",
      "metadata": {
        "colab_type": "code",
        "id": "efNjNImfOIUC",
        "colab": {}
      },
      "source": [
        "import tensorflow as tf\n",
        "tf.set_random_seed(42)"
      ],
      "execution_count": 0,
      "outputs": []
    },
    {
      "cell_type": "code",
      "metadata": {
        "id": "HtLGxu5euFUY",
        "colab_type": "code",
        "colab": {}
      },
      "source": [
        "import numpy as np"
      ],
      "execution_count": 0,
      "outputs": []
    },
    {
      "cell_type": "code",
      "metadata": {
        "colab_type": "code",
        "id": "l9C4aAIGOIUH",
        "outputId": "ebfb4bc9-59db-4792-d834-74a917386baf",
        "colab": {
          "base_uri": "https://localhost:8080/",
          "height": 34
        }
      },
      "source": [
        "tf.__version__"
      ],
      "execution_count": 2,
      "outputs": [
        {
          "output_type": "execute_result",
          "data": {
            "text/plain": [
              "'1.14.0'"
            ]
          },
          "metadata": {
            "tags": []
          },
          "execution_count": 2
        }
      ]
    },
    {
      "cell_type": "markdown",
      "metadata": {
        "colab_type": "text",
        "id": "HcoZBStrOIUQ"
      },
      "source": [
        "### Collect Data"
      ]
    },
    {
      "cell_type": "code",
      "metadata": {
        "colab_type": "code",
        "id": "XA1WsFSeOIUS",
        "colab": {
          "base_uri": "https://localhost:8080/",
          "height": 34
        },
        "outputId": "221d5ded-697b-4396-e9fe-d92411184898"
      },
      "source": [
        "import keras"
      ],
      "execution_count": 3,
      "outputs": [
        {
          "output_type": "stream",
          "text": [
            "Using TensorFlow backend.\n"
          ],
          "name": "stderr"
        }
      ]
    },
    {
      "cell_type": "code",
      "metadata": {
        "colab_type": "code",
        "id": "qnbx7TyQOIUY",
        "colab": {}
      },
      "source": [
        "(trainX, trainY), (testX, testY) = keras.datasets.fashion_mnist.load_data()"
      ],
      "execution_count": 0,
      "outputs": []
    },
    {
      "cell_type": "code",
      "metadata": {
        "colab_type": "code",
        "id": "UbiHj5YPOIUc",
        "outputId": "db1d8a40-bdb4-4d45-c800-881813e07164",
        "colab": {
          "base_uri": "https://localhost:8080/",
          "height": 34
        }
      },
      "source": [
        "print(testY[0:5])"
      ],
      "execution_count": 5,
      "outputs": [
        {
          "output_type": "stream",
          "text": [
            "[9 2 1 1 6]\n"
          ],
          "name": "stdout"
        }
      ]
    },
    {
      "cell_type": "markdown",
      "metadata": {
        "colab_type": "text",
        "id": "lDAYzkwyOIUj"
      },
      "source": [
        "### Convert both training and testing labels into one-hot vectors.\n",
        "\n",
        "**Hint:** check **tf.keras.utils.to_categorical()**"
      ]
    },
    {
      "cell_type": "code",
      "metadata": {
        "colab_type": "code",
        "id": "vBlfYlANOIUk",
        "colab": {
          "base_uri": "https://localhost:8080/",
          "height": 51
        },
        "outputId": "e142ce13-0826-4fb6-ca8f-5caf3430545a"
      },
      "source": [
        "# Check unique values in Category\n",
        "print (np.unique(trainY))\n",
        "print (np.unique(testY))"
      ],
      "execution_count": 8,
      "outputs": [
        {
          "output_type": "stream",
          "text": [
            "[0 1 2 3 4 5 6 7 8 9]\n",
            "[0 1 2 3 4 5 6 7 8 9]\n"
          ],
          "name": "stdout"
        }
      ]
    },
    {
      "cell_type": "code",
      "metadata": {
        "id": "Y9GUWTe2tg4z",
        "colab_type": "code",
        "colab": {}
      },
      "source": [
        "# There are 10 Categories\n",
        "trainY = tf.keras.utils.to_categorical(trainY,num_classes=10)\n",
        "testY = tf.keras.utils.to_categorical(testY,num_classes=10)"
      ],
      "execution_count": 0,
      "outputs": []
    },
    {
      "cell_type": "code",
      "metadata": {
        "colab_type": "code",
        "id": "RHV3b9mzOIUq",
        "outputId": "858f7b04-4a83-4a69-dcba-8dcc3f59bbe8",
        "scrolled": true,
        "colab": {
          "base_uri": "https://localhost:8080/",
          "height": 119
        }
      },
      "source": [
        "print(trainY.shape)\n",
        "print('First 5 examples now are: ', trainY[0:5])"
      ],
      "execution_count": 10,
      "outputs": [
        {
          "output_type": "stream",
          "text": [
            "(60000, 10)\n",
            "First 5 examples now are:  [[0. 0. 0. 0. 0. 0. 0. 0. 0. 1.]\n",
            " [1. 0. 0. 0. 0. 0. 0. 0. 0. 0.]\n",
            " [1. 0. 0. 0. 0. 0. 0. 0. 0. 0.]\n",
            " [0. 0. 0. 1. 0. 0. 0. 0. 0. 0.]\n",
            " [1. 0. 0. 0. 0. 0. 0. 0. 0. 0.]]\n"
          ],
          "name": "stdout"
        }
      ]
    },
    {
      "cell_type": "code",
      "metadata": {
        "id": "VkspGcfyxD9V",
        "colab_type": "code",
        "colab": {
          "base_uri": "https://localhost:8080/",
          "height": 34
        },
        "outputId": "82e3e26e-acb7-448b-a2ef-5292a4010318"
      },
      "source": [
        "print (trainX.shape)"
      ],
      "execution_count": 35,
      "outputs": [
        {
          "output_type": "stream",
          "text": [
            "(60000, 28, 28)\n"
          ],
          "name": "stdout"
        }
      ]
    },
    {
      "cell_type": "code",
      "metadata": {
        "id": "VuJOwUwsxMc3",
        "colab_type": "code",
        "colab": {
          "base_uri": "https://localhost:8080/",
          "height": 34
        },
        "outputId": "cf08d389-8f03-44ba-871d-b217bb2d8d88"
      },
      "source": [
        "28*28"
      ],
      "execution_count": 36,
      "outputs": [
        {
          "output_type": "execute_result",
          "data": {
            "text/plain": [
              "784"
            ]
          },
          "metadata": {
            "tags": []
          },
          "execution_count": 36
        }
      ]
    },
    {
      "cell_type": "markdown",
      "metadata": {
        "colab_type": "text",
        "id": "FwhQ8e7VOIUw"
      },
      "source": [
        "### Visualize the data\n",
        "\n",
        "Plot first 10 images in the triaining set and their labels."
      ]
    },
    {
      "cell_type": "code",
      "metadata": {
        "id": "b08OlvwLtg45",
        "colab_type": "code",
        "colab": {}
      },
      "source": [
        "import matplotlib.pyplot as plt"
      ],
      "execution_count": 0,
      "outputs": []
    },
    {
      "cell_type": "code",
      "metadata": {
        "id": "MTrTu6pqtg48",
        "colab_type": "code",
        "colab": {
          "base_uri": "https://localhost:8080/",
          "height": 96
        },
        "outputId": "37d88cc8-7742-497e-db78-fa97238d16ac"
      },
      "source": [
        "plt.figure(figsize=(10,10))\n",
        "for i in range(10):\n",
        "    plt.subplot(5,10,i+1)\n",
        "    plt.xticks([])\n",
        "    plt.yticks([])\n",
        "    plt.grid(False)\n",
        "    plt.imshow(trainX[i], cmap=plt.cm.gray)\n",
        "    plt.xlabel(int(np.where([trainY[i]==1])[1]))\n",
        "plt.show()"
      ],
      "execution_count": 34,
      "outputs": [
        {
          "output_type": "display_data",
          "data": {
            "image/png": "[encoded data removed]",
            "text/plain": [
              "<Figure size 720x720 with 10 Axes>"
            ]
          },
          "metadata": {
            "tags": []
          }
        }
      ]
    },
    {
      "cell_type": "markdown",
      "metadata": {
        "colab_type": "text",
        "id": "l4TbJGeSOIU4"
      },
      "source": [
        "### Build a neural Network with a cross entropy loss function and sgd optimizer in Keras. The output layer with 10 neurons as we have 10 classes."
      ]
    },
    {
      "cell_type": "code",
      "metadata": {
        "colab_type": "code",
        "id": "Ac06XZZTOIU6",
        "colab": {
          "base_uri": "https://localhost:8080/",
          "height": 105
        },
        "outputId": "46e11246-39a7-4dad-d87c-eb1501ff7d25"
      },
      "source": [
        "#Initialize Sequential model\n",
        "model = tf.keras.models.Sequential()\n",
        "\n",
        "#Flatten the image data from 2d to 1d --> 28X28 to 784\n",
        "model.add(tf.keras.layers.Reshape((784,),input_shape=(28,28,)))\n",
        "\n",
        "#Add Dense Layer which provides 10 Outputs after applying softmax\n",
        "model.add(tf.keras.layers.Dense(10, activation='softmax'))\n",
        "\n",
        "#Comile the model\n",
        "model.compile(optimizer='sgd', loss='categorical_crossentropy', metrics=['accuracy'])"
      ],
      "execution_count": 37,
      "outputs": [
        {
          "output_type": "stream",
          "text": [
            "WARNING: Logging before flag parsing goes to stderr.\n",
            "W0703 17:06:03.938211 139975254472576 deprecation.py:506] From /usr/local/lib/python3.6/dist-packages/tensorflow/python/ops/init_ops.py:1251: calling VarianceScaling.__init__ (from tensorflow.python.ops.init_ops) with dtype is deprecated and will be removed in a future version.\n",
            "Instructions for updating:\n",
            "Call initializer instance with the dtype argument instead of passing it to the constructor\n"
          ],
          "name": "stderr"
        }
      ]
    },
    {
      "cell_type": "markdown",
      "metadata": {
        "colab_type": "text",
        "id": "3hQpLv3aOIU_"
      },
      "source": [
        "### Execute the model using model.fit()"
      ]
    },
    {
      "cell_type": "code",
      "metadata": {
        "colab_type": "code",
        "id": "O59C_-IgOIVB",
        "colab": {
          "base_uri": "https://localhost:8080/",
          "height": 391
        },
        "outputId": "85b0cec3-904c-4b18-9606-96d8bc9f89f0"
      },
      "source": [
        "model.fit(trainX, trainY, \n",
        "          validation_data=(testX, testY), \n",
        "          epochs=10,\n",
        "          batch_size=32)"
      ],
      "execution_count": 38,
      "outputs": [
        {
          "output_type": "stream",
          "text": [
            "Train on 60000 samples, validate on 10000 samples\n",
            "Epoch 1/10\n",
            "60000/60000 [==============================] - 5s 81us/sample - loss: 2018.5549 - acc: 0.7412 - val_loss: 2842.1957 - val_acc: 0.6661\n",
            "Epoch 2/10\n",
            "60000/60000 [==============================] - 4s 68us/sample - loss: 1588.7519 - acc: 0.7796 - val_loss: 2459.4804 - val_acc: 0.7448\n",
            "Epoch 3/10\n",
            "60000/60000 [==============================] - 4s 67us/sample - loss: 1511.8865 - acc: 0.7890 - val_loss: 1066.9607 - val_acc: 0.8052\n",
            "Epoch 4/10\n",
            "60000/60000 [==============================] - 4s 68us/sample - loss: 1480.4085 - acc: 0.7902 - val_loss: 1270.9464 - val_acc: 0.8057\n",
            "Epoch 5/10\n",
            "60000/60000 [==============================] - 4s 68us/sample - loss: 1488.7219 - acc: 0.7914 - val_loss: 1355.6780 - val_acc: 0.7826\n",
            "Epoch 6/10\n",
            "60000/60000 [==============================] - 4s 68us/sample - loss: 1466.1140 - acc: 0.7954 - val_loss: 1159.3882 - val_acc: 0.8039\n",
            "Epoch 7/10\n",
            "60000/60000 [==============================] - 4s 68us/sample - loss: 1484.9439 - acc: 0.7956 - val_loss: 1958.7868 - val_acc: 0.7509\n",
            "Epoch 8/10\n",
            "60000/60000 [==============================] - 4s 67us/sample - loss: 1464.5265 - acc: 0.7979 - val_loss: 1343.7054 - val_acc: 0.7846\n",
            "Epoch 9/10\n",
            "60000/60000 [==============================] - 4s 68us/sample - loss: 1453.2696 - acc: 0.7986 - val_loss: 2920.4316 - val_acc: 0.7631\n",
            "Epoch 10/10\n",
            "60000/60000 [==============================] - 4s 68us/sample - loss: 1452.1589 - acc: 0.7987 - val_loss: 1141.6346 - val_acc: 0.8040\n"
          ],
          "name": "stdout"
        },
        {
          "output_type": "execute_result",
          "data": {
            "text/plain": [
              "<tensorflow.python.keras.callbacks.History at 0x7f4e3d05bba8>"
            ]
          },
          "metadata": {
            "tags": []
          },
          "execution_count": 38
        }
      ]
    },
    {
      "cell_type": "markdown",
      "metadata": {
        "colab_type": "text",
        "id": "JdzDtGwDOIVF"
      },
      "source": [
        "### In the above Neural Network model add Batch Normalization layer after the input layer and repeat the steps."
      ]
    },
    {
      "cell_type": "code",
      "metadata": {
        "colab_type": "code",
        "id": "kndfpdidOIVI",
        "colab": {}
      },
      "source": [
        "#Initialize Sequential model\n",
        "model = tf.keras.models.Sequential()\n",
        "\n",
        "#Flatten the image data from 2d to 1d --> 28X28 to 784\n",
        "model.add(tf.keras.layers.Reshape((784,),input_shape=(28,28,)))\n",
        "\n",
        "#Normalize the data\n",
        "model.add(tf.keras.layers.BatchNormalization())\n",
        "\n",
        "#Add Dense Layer which provides 10 Outputs after applying softmax\n",
        "model.add(tf.keras.layers.Dense(10, activation='softmax'))\n",
        "\n",
        "#Comile the model\n",
        "model.compile(optimizer='sgd', loss='categorical_crossentropy', metrics=['accuracy'])"
      ],
      "execution_count": 0,
      "outputs": []
    },
    {
      "cell_type": "markdown",
      "metadata": {
        "colab_type": "text",
        "id": "mwk3T5LJOIVN"
      },
      "source": [
        "### Execute the model"
      ]
    },
    {
      "cell_type": "code",
      "metadata": {
        "colab_type": "code",
        "id": "JNLR8tcBOIVP",
        "colab": {
          "base_uri": "https://localhost:8080/",
          "height": 391
        },
        "outputId": "f920ea52-f567-4695-bacf-d72d1c88f2ef"
      },
      "source": [
        "model.fit(trainX, trainY, \n",
        "          validation_data=(testX, testY), \n",
        "          epochs=10,\n",
        "          batch_size=32)"
      ],
      "execution_count": 42,
      "outputs": [
        {
          "output_type": "stream",
          "text": [
            "Train on 60000 samples, validate on 10000 samples\n",
            "Epoch 1/10\n",
            "60000/60000 [==============================] - 5s 82us/sample - loss: 0.5918 - acc: 0.7976 - val_loss: 0.5223 - val_acc: 0.8224\n",
            "Epoch 2/10\n",
            "60000/60000 [==============================] - 5s 78us/sample - loss: 0.4906 - acc: 0.8304 - val_loss: 0.5054 - val_acc: 0.8278\n",
            "Epoch 3/10\n",
            "60000/60000 [==============================] - 5s 77us/sample - loss: 0.4720 - acc: 0.8375 - val_loss: 0.4883 - val_acc: 0.8329\n",
            "Epoch 4/10\n",
            "60000/60000 [==============================] - 5s 77us/sample - loss: 0.4581 - acc: 0.8426 - val_loss: 0.4808 - val_acc: 0.8361\n",
            "Epoch 5/10\n",
            "60000/60000 [==============================] - 5s 78us/sample - loss: 0.4490 - acc: 0.8454 - val_loss: 0.4768 - val_acc: 0.8347\n",
            "Epoch 6/10\n",
            "60000/60000 [==============================] - 5s 77us/sample - loss: 0.4455 - acc: 0.8459 - val_loss: 0.4763 - val_acc: 0.8374\n",
            "Epoch 7/10\n",
            "60000/60000 [==============================] - 5s 77us/sample - loss: 0.4404 - acc: 0.8480 - val_loss: 0.4757 - val_acc: 0.8409\n",
            "Epoch 8/10\n",
            "60000/60000 [==============================] - 5s 78us/sample - loss: 0.4360 - acc: 0.8493 - val_loss: 0.4824 - val_acc: 0.8374\n",
            "Epoch 9/10\n",
            "60000/60000 [==============================] - 5s 77us/sample - loss: 0.4342 - acc: 0.8492 - val_loss: 0.4713 - val_acc: 0.8411\n",
            "Epoch 10/10\n",
            "60000/60000 [==============================] - 5s 78us/sample - loss: 0.4305 - acc: 0.8490 - val_loss: 0.4681 - val_acc: 0.8376\n"
          ],
          "name": "stdout"
        },
        {
          "output_type": "execute_result",
          "data": {
            "text/plain": [
              "<tensorflow.python.keras.callbacks.History at 0x7f4e3d204390>"
            ]
          },
          "metadata": {
            "tags": []
          },
          "execution_count": 42
        }
      ]
    },
    {
      "cell_type": "markdown",
      "metadata": {
        "colab_type": "text",
        "id": "Py-KwkmjOIVU"
      },
      "source": [
        "### Customize the learning rate to 0.001 in sgd optimizer and run the model"
      ]
    },
    {
      "cell_type": "code",
      "metadata": {
        "colab_type": "code",
        "id": "yLXUE9jWOIVV",
        "colab": {}
      },
      "source": [
        "from tensorflow.keras import optimizers\n",
        "sgd = optimizers.SGD(lr=0.001)\n",
        "model.compile(optimizer=sgd, loss='categorical_crossentropy', metrics=['accuracy'])"
      ],
      "execution_count": 0,
      "outputs": []
    },
    {
      "cell_type": "code",
      "metadata": {
        "colab_type": "code",
        "id": "pJUqA5T4OIVc",
        "colab": {
          "base_uri": "https://localhost:8080/",
          "height": 391
        },
        "outputId": "7223d942-799d-4c91-d16d-911cfe1f6306"
      },
      "source": [
        "model.fit(trainX, trainY, \n",
        "          validation_data=(testX, testY), \n",
        "          epochs=10,\n",
        "          batch_size=32)"
      ],
      "execution_count": 51,
      "outputs": [
        {
          "output_type": "stream",
          "text": [
            "Train on 60000 samples, validate on 10000 samples\n",
            "Epoch 1/10\n",
            "60000/60000 [==============================] - 5s 82us/sample - loss: 0.4176 - acc: 0.8547 - val_loss: 0.4641 - val_acc: 0.8435\n",
            "Epoch 2/10\n",
            "60000/60000 [==============================] - 5s 78us/sample - loss: 0.4158 - acc: 0.8547 - val_loss: 0.4646 - val_acc: 0.8418\n",
            "Epoch 3/10\n",
            "60000/60000 [==============================] - 5s 78us/sample - loss: 0.4153 - acc: 0.8558 - val_loss: 0.4720 - val_acc: 0.8402\n",
            "Epoch 4/10\n",
            "60000/60000 [==============================] - 5s 78us/sample - loss: 0.4158 - acc: 0.8559 - val_loss: 0.4610 - val_acc: 0.8416\n",
            "Epoch 5/10\n",
            "60000/60000 [==============================] - 5s 78us/sample - loss: 0.4154 - acc: 0.8571 - val_loss: 0.4579 - val_acc: 0.8425\n",
            "Epoch 6/10\n",
            "60000/60000 [==============================] - 5s 78us/sample - loss: 0.4146 - acc: 0.8570 - val_loss: 0.4689 - val_acc: 0.8419\n",
            "Epoch 7/10\n",
            "60000/60000 [==============================] - 5s 78us/sample - loss: 0.4154 - acc: 0.8567 - val_loss: 0.4688 - val_acc: 0.8419\n",
            "Epoch 8/10\n",
            "60000/60000 [==============================] - 5s 78us/sample - loss: 0.4161 - acc: 0.8558 - val_loss: 0.4659 - val_acc: 0.8407\n",
            "Epoch 9/10\n",
            "60000/60000 [==============================] - 5s 78us/sample - loss: 0.4134 - acc: 0.8577 - val_loss: 0.4752 - val_acc: 0.8404\n",
            "Epoch 10/10\n",
            "60000/60000 [==============================] - 5s 78us/sample - loss: 0.4121 - acc: 0.8579 - val_loss: 0.4731 - val_acc: 0.8408\n"
          ],
          "name": "stdout"
        },
        {
          "output_type": "execute_result",
          "data": {
            "text/plain": [
              "<tensorflow.python.keras.callbacks.History at 0x7f4e3a50a860>"
            ]
          },
          "metadata": {
            "tags": []
          },
          "execution_count": 51
        }
      ]
    },
    {
      "cell_type": "markdown",
      "metadata": {
        "colab_type": "text",
        "id": "j9CSqKvpOIVk"
      },
      "source": [
        "### Build the Neural Network model with 3 Dense layers with 100,100,10 neurons respectively in each layer. Use cross entropy loss function and singmoid as activation in the hidden layers and softmax as activation function in the output layer. Use sgd optimizer with learning rate 0.03."
      ]
    },
    {
      "cell_type": "code",
      "metadata": {
        "colab_type": "code",
        "id": "GGAad54JOIVm",
        "colab": {}
      },
      "source": [
        "#Initialize Sequential model\n",
        "model = tf.keras.models.Sequential()\n",
        "\n",
        "#Flatten the image data from 2d to 1d --> 28X28 to 784\n",
        "model.add(tf.keras.layers.Reshape((784,),input_shape=(28,28,)))\n",
        "\n",
        "#Normalize the data\n",
        "model.add(tf.keras.layers.BatchNormalization())\n",
        "\n",
        "model.add(tf.keras.layers.Dense(100, activation='sigmoid'))\n",
        "\n",
        "model.add(tf.keras.layers.Dense(100, activation='sigmoid'))\n",
        "\n",
        "\n",
        "#Add Dense Layer which provides 10 Outputs after applying softmax\n",
        "model.add(tf.keras.layers.Dense(10, activation='softmax'))\n",
        "\n",
        "\n",
        "sgd = optimizers.SGD(lr=0.03)\n",
        "\n",
        "#Comile the model\n",
        "model.compile(optimizer='sgd', loss='categorical_crossentropy', metrics=['accuracy'])"
      ],
      "execution_count": 0,
      "outputs": []
    },
    {
      "cell_type": "markdown",
      "metadata": {
        "colab_type": "text",
        "id": "Nr2YsZV0OIV0"
      },
      "source": [
        "## Review model"
      ]
    },
    {
      "cell_type": "code",
      "metadata": {
        "id": "GsvxNK0X2jqC",
        "colab_type": "code",
        "colab": {
          "base_uri": "https://localhost:8080/",
          "height": 323
        },
        "outputId": "4a5b4ce3-1622-434b-cb8d-7e98fec20ae8"
      },
      "source": [
        "model.summary()"
      ],
      "execution_count": 56,
      "outputs": [
        {
          "output_type": "stream",
          "text": [
            "Model: \"sequential_2\"\n",
            "_________________________________________________________________\n",
            "Layer (type)                 Output Shape              Param #   \n",
            "=================================================================\n",
            "reshape_2 (Reshape)          (None, 784)               0         \n",
            "_________________________________________________________________\n",
            "batch_normalization_2 (Batch (None, 784)               3136      \n",
            "_________________________________________________________________\n",
            "dense_2 (Dense)              (None, 100)               78500     \n",
            "_________________________________________________________________\n",
            "dense_3 (Dense)              (None, 100)               10100     \n",
            "_________________________________________________________________\n",
            "dense_4 (Dense)              (None, 10)                1010      \n",
            "=================================================================\n",
            "Total params: 92,746\n",
            "Trainable params: 91,178\n",
            "Non-trainable params: 1,568\n",
            "_________________________________________________________________\n"
          ],
          "name": "stdout"
        }
      ]
    },
    {
      "cell_type": "markdown",
      "metadata": {
        "colab_type": "text",
        "id": "gfFGmbZLOIV5"
      },
      "source": [
        "### Run the model"
      ]
    },
    {
      "cell_type": "code",
      "metadata": {
        "colab_type": "code",
        "id": "MQ7oIymROIVp",
        "colab": {
          "base_uri": "https://localhost:8080/",
          "height": 1000
        },
        "outputId": "5c4e3cde-fb36-45b5-ee14-c786cfe6fbce"
      },
      "source": [
        "model.fit(trainX, trainY, \n",
        "          validation_data=(testX, testY), \n",
        "          epochs=100,\n",
        "          batch_size=32)"
      ],
      "execution_count": 55,
      "outputs": [
        {
          "output_type": "stream",
          "text": [
            "Train on 60000 samples, validate on 10000 samples\n",
            "Epoch 1/100\n",
            "60000/60000 [==============================] - 5s 87us/sample - loss: 0.3918 - acc: 0.8613 - val_loss: 0.4039 - val_acc: 0.8527\n",
            "Epoch 2/100\n",
            "60000/60000 [==============================] - 5s 88us/sample - loss: 0.3868 - acc: 0.8621 - val_loss: 0.4013 - val_acc: 0.8548\n",
            "Epoch 3/100\n",
            "60000/60000 [==============================] - 5s 88us/sample - loss: 0.3830 - acc: 0.8617 - val_loss: 0.3985 - val_acc: 0.8549\n",
            "Epoch 4/100\n",
            "60000/60000 [==============================] - 5s 87us/sample - loss: 0.3785 - acc: 0.8659 - val_loss: 0.3949 - val_acc: 0.8560\n",
            "Epoch 5/100\n",
            "60000/60000 [==============================] - 5s 88us/sample - loss: 0.3753 - acc: 0.8652 - val_loss: 0.3934 - val_acc: 0.8567\n",
            "Epoch 6/100\n",
            "60000/60000 [==============================] - 5s 88us/sample - loss: 0.3712 - acc: 0.8677 - val_loss: 0.3910 - val_acc: 0.8577\n",
            "Epoch 7/100\n",
            "60000/60000 [==============================] - 5s 90us/sample - loss: 0.3679 - acc: 0.8685 - val_loss: 0.3869 - val_acc: 0.8597\n",
            "Epoch 8/100\n",
            "60000/60000 [==============================] - 5s 88us/sample - loss: 0.3632 - acc: 0.8696 - val_loss: 0.3841 - val_acc: 0.8611\n",
            "Epoch 9/100\n",
            "60000/60000 [==============================] - 5s 87us/sample - loss: 0.3623 - acc: 0.8702 - val_loss: 0.3827 - val_acc: 0.8605\n",
            "Epoch 10/100\n",
            "60000/60000 [==============================] - 5s 88us/sample - loss: 0.3580 - acc: 0.8727 - val_loss: 0.3799 - val_acc: 0.8618\n",
            "Epoch 11/100\n",
            "60000/60000 [==============================] - 5s 87us/sample - loss: 0.3551 - acc: 0.8738 - val_loss: 0.3791 - val_acc: 0.8637\n",
            "Epoch 12/100\n",
            "60000/60000 [==============================] - 5s 86us/sample - loss: 0.3514 - acc: 0.8738 - val_loss: 0.3743 - val_acc: 0.8643\n",
            "Epoch 13/100\n",
            "60000/60000 [==============================] - 5s 85us/sample - loss: 0.3504 - acc: 0.8751 - val_loss: 0.3733 - val_acc: 0.8652\n",
            "Epoch 14/100\n",
            "60000/60000 [==============================] - 5s 85us/sample - loss: 0.3464 - acc: 0.8760 - val_loss: 0.3725 - val_acc: 0.8640\n",
            "Epoch 15/100\n",
            "60000/60000 [==============================] - 5s 85us/sample - loss: 0.3450 - acc: 0.8772 - val_loss: 0.3726 - val_acc: 0.8634\n",
            "Epoch 16/100\n",
            "60000/60000 [==============================] - 5s 85us/sample - loss: 0.3401 - acc: 0.8789 - val_loss: 0.3687 - val_acc: 0.8655\n",
            "Epoch 17/100\n",
            "60000/60000 [==============================] - 5s 85us/sample - loss: 0.3389 - acc: 0.8782 - val_loss: 0.3661 - val_acc: 0.8678\n",
            "Epoch 18/100\n",
            "60000/60000 [==============================] - 5s 84us/sample - loss: 0.3347 - acc: 0.8814 - val_loss: 0.3667 - val_acc: 0.8672\n",
            "Epoch 19/100\n",
            "60000/60000 [==============================] - 5s 87us/sample - loss: 0.3341 - acc: 0.8795 - val_loss: 0.3631 - val_acc: 0.8685\n",
            "Epoch 20/100\n",
            "60000/60000 [==============================] - 5s 88us/sample - loss: 0.3334 - acc: 0.8796 - val_loss: 0.3609 - val_acc: 0.8709\n",
            "Epoch 21/100\n",
            "60000/60000 [==============================] - 5s 87us/sample - loss: 0.3301 - acc: 0.8814 - val_loss: 0.3607 - val_acc: 0.8695\n",
            "Epoch 22/100\n",
            "60000/60000 [==============================] - 5s 87us/sample - loss: 0.3241 - acc: 0.8837 - val_loss: 0.3572 - val_acc: 0.8709\n",
            "Epoch 23/100\n",
            "60000/60000 [==============================] - 5s 88us/sample - loss: 0.3223 - acc: 0.8846 - val_loss: 0.3590 - val_acc: 0.8682\n",
            "Epoch 24/100\n",
            "60000/60000 [==============================] - 5s 88us/sample - loss: 0.3210 - acc: 0.8844 - val_loss: 0.3569 - val_acc: 0.8706\n",
            "Epoch 25/100\n",
            "60000/60000 [==============================] - 5s 87us/sample - loss: 0.3189 - acc: 0.8867 - val_loss: 0.3544 - val_acc: 0.8721\n",
            "Epoch 26/100\n",
            "60000/60000 [==============================] - 5s 88us/sample - loss: 0.3176 - acc: 0.8861 - val_loss: 0.3527 - val_acc: 0.8726\n",
            "Epoch 27/100\n",
            "60000/60000 [==============================] - 5s 86us/sample - loss: 0.3145 - acc: 0.8873 - val_loss: 0.3504 - val_acc: 0.8732\n",
            "Epoch 28/100\n",
            "60000/60000 [==============================] - 5s 85us/sample - loss: 0.3127 - acc: 0.8869 - val_loss: 0.3486 - val_acc: 0.8754\n",
            "Epoch 29/100\n",
            "60000/60000 [==============================] - 5s 85us/sample - loss: 0.3110 - acc: 0.8880 - val_loss: 0.3497 - val_acc: 0.8735\n",
            "Epoch 30/100\n",
            "60000/60000 [==============================] - 5s 85us/sample - loss: 0.3068 - acc: 0.8907 - val_loss: 0.3467 - val_acc: 0.8749\n",
            "Epoch 31/100\n",
            "60000/60000 [==============================] - 5s 85us/sample - loss: 0.3056 - acc: 0.8898 - val_loss: 0.3453 - val_acc: 0.8749\n",
            "Epoch 32/100\n",
            "60000/60000 [==============================] - 5s 89us/sample - loss: 0.3025 - acc: 0.8917 - val_loss: 0.3447 - val_acc: 0.8751\n",
            "Epoch 33/100\n",
            "60000/60000 [==============================] - 5s 90us/sample - loss: 0.3008 - acc: 0.8916 - val_loss: 0.3457 - val_acc: 0.8747\n",
            "Epoch 34/100\n",
            "60000/60000 [==============================] - 5s 87us/sample - loss: 0.2994 - acc: 0.8925 - val_loss: 0.3416 - val_acc: 0.8755\n",
            "Epoch 35/100\n",
            "60000/60000 [==============================] - 5s 87us/sample - loss: 0.2949 - acc: 0.8932 - val_loss: 0.3406 - val_acc: 0.8758\n",
            "Epoch 36/100\n",
            "60000/60000 [==============================] - 5s 87us/sample - loss: 0.2939 - acc: 0.8938 - val_loss: 0.3396 - val_acc: 0.8770\n",
            "Epoch 37/100\n",
            "60000/60000 [==============================] - 5s 87us/sample - loss: 0.2920 - acc: 0.8953 - val_loss: 0.3444 - val_acc: 0.8722\n",
            "Epoch 38/100\n",
            "60000/60000 [==============================] - 5s 88us/sample - loss: 0.2914 - acc: 0.8963 - val_loss: 0.3378 - val_acc: 0.8768\n",
            "Epoch 39/100\n",
            "60000/60000 [==============================] - 5s 88us/sample - loss: 0.2886 - acc: 0.8968 - val_loss: 0.3384 - val_acc: 0.8773\n",
            "Epoch 40/100\n",
            "60000/60000 [==============================] - 5s 88us/sample - loss: 0.2860 - acc: 0.8971 - val_loss: 0.3361 - val_acc: 0.8783\n",
            "Epoch 41/100\n",
            "60000/60000 [==============================] - 5s 85us/sample - loss: 0.2855 - acc: 0.8974 - val_loss: 0.3375 - val_acc: 0.8787\n",
            "Epoch 42/100\n",
            "60000/60000 [==============================] - 5s 85us/sample - loss: 0.2834 - acc: 0.8977 - val_loss: 0.3367 - val_acc: 0.8783\n",
            "Epoch 43/100\n",
            "60000/60000 [==============================] - 5s 87us/sample - loss: 0.2804 - acc: 0.8997 - val_loss: 0.3329 - val_acc: 0.8790\n",
            "Epoch 44/100\n",
            "60000/60000 [==============================] - 5s 87us/sample - loss: 0.2809 - acc: 0.9001 - val_loss: 0.3328 - val_acc: 0.8778\n",
            "Epoch 45/100\n",
            "60000/60000 [==============================] - 5s 87us/sample - loss: 0.2769 - acc: 0.9006 - val_loss: 0.3348 - val_acc: 0.8789\n",
            "Epoch 46/100\n",
            "60000/60000 [==============================] - 5s 87us/sample - loss: 0.2758 - acc: 0.9007 - val_loss: 0.3325 - val_acc: 0.8791\n",
            "Epoch 47/100\n",
            "60000/60000 [==============================] - 5s 87us/sample - loss: 0.2736 - acc: 0.9015 - val_loss: 0.3311 - val_acc: 0.8784\n",
            "Epoch 48/100\n",
            "60000/60000 [==============================] - 5s 86us/sample - loss: 0.2740 - acc: 0.9025 - val_loss: 0.3334 - val_acc: 0.8788\n",
            "Epoch 49/100\n",
            "60000/60000 [==============================] - 5s 87us/sample - loss: 0.2709 - acc: 0.9035 - val_loss: 0.3306 - val_acc: 0.8807\n",
            "Epoch 50/100\n",
            "60000/60000 [==============================] - 5s 87us/sample - loss: 0.2684 - acc: 0.9039 - val_loss: 0.3281 - val_acc: 0.8820\n",
            "Epoch 51/100\n",
            "60000/60000 [==============================] - 5s 88us/sample - loss: 0.2662 - acc: 0.9041 - val_loss: 0.3312 - val_acc: 0.8787\n",
            "Epoch 52/100\n",
            "60000/60000 [==============================] - 5s 87us/sample - loss: 0.2656 - acc: 0.9035 - val_loss: 0.3292 - val_acc: 0.8807\n",
            "Epoch 53/100\n",
            "60000/60000 [==============================] - 5s 87us/sample - loss: 0.2625 - acc: 0.9064 - val_loss: 0.3293 - val_acc: 0.8819\n",
            "Epoch 54/100\n",
            "60000/60000 [==============================] - 5s 86us/sample - loss: 0.2615 - acc: 0.9061 - val_loss: 0.3289 - val_acc: 0.8781\n",
            "Epoch 55/100\n",
            "60000/60000 [==============================] - 5s 85us/sample - loss: 0.2589 - acc: 0.9079 - val_loss: 0.3295 - val_acc: 0.8809\n",
            "Epoch 56/100\n",
            "60000/60000 [==============================] - 5s 85us/sample - loss: 0.2597 - acc: 0.9075 - val_loss: 0.3267 - val_acc: 0.8811\n",
            "Epoch 57/100\n",
            "60000/60000 [==============================] - 5s 85us/sample - loss: 0.2584 - acc: 0.9067 - val_loss: 0.3271 - val_acc: 0.8813\n",
            "Epoch 58/100\n",
            "60000/60000 [==============================] - 5s 85us/sample - loss: 0.2560 - acc: 0.9073 - val_loss: 0.3258 - val_acc: 0.8809\n",
            "Epoch 59/100\n",
            "60000/60000 [==============================] - 5s 85us/sample - loss: 0.2544 - acc: 0.9079 - val_loss: 0.3254 - val_acc: 0.8795\n",
            "Epoch 60/100\n",
            "60000/60000 [==============================] - 5s 85us/sample - loss: 0.2510 - acc: 0.9100 - val_loss: 0.3263 - val_acc: 0.8807\n",
            "Epoch 61/100\n",
            "60000/60000 [==============================] - 5s 85us/sample - loss: 0.2494 - acc: 0.9115 - val_loss: 0.3252 - val_acc: 0.8822\n",
            "Epoch 62/100\n",
            "60000/60000 [==============================] - 5s 85us/sample - loss: 0.2511 - acc: 0.9092 - val_loss: 0.3239 - val_acc: 0.8813\n",
            "Epoch 63/100\n",
            "60000/60000 [==============================] - 5s 85us/sample - loss: 0.2482 - acc: 0.9122 - val_loss: 0.3231 - val_acc: 0.8805\n",
            "Epoch 64/100\n",
            "60000/60000 [==============================] - 5s 85us/sample - loss: 0.2455 - acc: 0.9115 - val_loss: 0.3234 - val_acc: 0.8816\n",
            "Epoch 65/100\n",
            "60000/60000 [==============================] - 5s 88us/sample - loss: 0.2454 - acc: 0.9119 - val_loss: 0.3239 - val_acc: 0.8814\n",
            "Epoch 66/100\n",
            "60000/60000 [==============================] - 5s 88us/sample - loss: 0.2418 - acc: 0.9139 - val_loss: 0.3271 - val_acc: 0.8811\n",
            "Epoch 67/100\n",
            "60000/60000 [==============================] - 5s 87us/sample - loss: 0.2411 - acc: 0.9138 - val_loss: 0.3239 - val_acc: 0.8818\n",
            "Epoch 68/100\n",
            "60000/60000 [==============================] - 5s 87us/sample - loss: 0.2403 - acc: 0.9142 - val_loss: 0.3232 - val_acc: 0.8829\n",
            "Epoch 69/100\n",
            "60000/60000 [==============================] - 5s 86us/sample - loss: 0.2392 - acc: 0.9129 - val_loss: 0.3221 - val_acc: 0.8835\n",
            "Epoch 70/100\n",
            "60000/60000 [==============================] - 5s 88us/sample - loss: 0.2394 - acc: 0.9132 - val_loss: 0.3271 - val_acc: 0.8788\n",
            "Epoch 71/100\n",
            "60000/60000 [==============================] - 5s 87us/sample - loss: 0.2358 - acc: 0.9153 - val_loss: 0.3206 - val_acc: 0.8834\n",
            "Epoch 72/100\n",
            "60000/60000 [==============================] - 5s 86us/sample - loss: 0.2349 - acc: 0.9147 - val_loss: 0.3201 - val_acc: 0.8837\n",
            "Epoch 73/100\n",
            "60000/60000 [==============================] - 5s 87us/sample - loss: 0.2325 - acc: 0.9160 - val_loss: 0.3216 - val_acc: 0.8819\n",
            "Epoch 74/100\n",
            "60000/60000 [==============================] - 5s 87us/sample - loss: 0.2322 - acc: 0.9159 - val_loss: 0.3209 - val_acc: 0.8828\n",
            "Epoch 75/100\n",
            "60000/60000 [==============================] - 5s 87us/sample - loss: 0.2307 - acc: 0.9168 - val_loss: 0.3235 - val_acc: 0.8828\n",
            "Epoch 76/100\n",
            "60000/60000 [==============================] - 5s 86us/sample - loss: 0.2302 - acc: 0.9168 - val_loss: 0.3253 - val_acc: 0.8815\n",
            "Epoch 77/100\n",
            "60000/60000 [==============================] - 5s 86us/sample - loss: 0.2287 - acc: 0.9186 - val_loss: 0.3222 - val_acc: 0.8833\n",
            "Epoch 78/100\n",
            "60000/60000 [==============================] - 5s 86us/sample - loss: 0.2267 - acc: 0.9174 - val_loss: 0.3219 - val_acc: 0.8825\n",
            "Epoch 79/100\n",
            "60000/60000 [==============================] - 5s 87us/sample - loss: 0.2255 - acc: 0.9186 - val_loss: 0.3219 - val_acc: 0.8831\n",
            "Epoch 80/100\n",
            "60000/60000 [==============================] - 5s 87us/sample - loss: 0.2210 - acc: 0.9202 - val_loss: 0.3231 - val_acc: 0.8835\n",
            "Epoch 81/100\n",
            "60000/60000 [==============================] - 5s 87us/sample - loss: 0.2227 - acc: 0.9199 - val_loss: 0.3255 - val_acc: 0.8809\n",
            "Epoch 82/100\n",
            "60000/60000 [==============================] - 5s 86us/sample - loss: 0.2199 - acc: 0.9206 - val_loss: 0.3256 - val_acc: 0.8812\n",
            "Epoch 83/100\n",
            "60000/60000 [==============================] - 5s 87us/sample - loss: 0.2200 - acc: 0.9209 - val_loss: 0.3253 - val_acc: 0.8832\n",
            "Epoch 84/100\n",
            "60000/60000 [==============================] - 5s 87us/sample - loss: 0.2176 - acc: 0.9212 - val_loss: 0.3230 - val_acc: 0.8816\n",
            "Epoch 85/100\n",
            "60000/60000 [==============================] - 5s 88us/sample - loss: 0.2169 - acc: 0.9222 - val_loss: 0.3272 - val_acc: 0.8815\n",
            "Epoch 86/100\n",
            "60000/60000 [==============================] - 5s 87us/sample - loss: 0.2176 - acc: 0.9203 - val_loss: 0.3275 - val_acc: 0.8829\n",
            "Epoch 87/100\n",
            "60000/60000 [==============================] - 5s 87us/sample - loss: 0.2156 - acc: 0.9227 - val_loss: 0.3244 - val_acc: 0.8809\n",
            "Epoch 88/100\n",
            "60000/60000 [==============================] - 5s 87us/sample - loss: 0.2132 - acc: 0.9236 - val_loss: 0.3226 - val_acc: 0.8822\n",
            "Epoch 89/100\n",
            "60000/60000 [==============================] - 5s 87us/sample - loss: 0.2119 - acc: 0.9241 - val_loss: 0.3218 - val_acc: 0.8812\n",
            "Epoch 90/100\n",
            "60000/60000 [==============================] - 5s 87us/sample - loss: 0.2120 - acc: 0.9236 - val_loss: 0.3239 - val_acc: 0.8835\n",
            "Epoch 91/100\n",
            "60000/60000 [==============================] - 5s 89us/sample - loss: 0.2109 - acc: 0.9243 - val_loss: 0.3259 - val_acc: 0.8831\n",
            "Epoch 92/100\n",
            "60000/60000 [==============================] - 5s 91us/sample - loss: 0.2094 - acc: 0.9246 - val_loss: 0.3245 - val_acc: 0.8856\n",
            "Epoch 93/100\n",
            "60000/60000 [==============================] - 5s 90us/sample - loss: 0.2081 - acc: 0.9258 - val_loss: 0.3233 - val_acc: 0.8828\n",
            "Epoch 94/100\n",
            "60000/60000 [==============================] - 5s 87us/sample - loss: 0.2076 - acc: 0.9258 - val_loss: 0.3256 - val_acc: 0.8839\n",
            "Epoch 95/100\n",
            "60000/60000 [==============================] - 5s 87us/sample - loss: 0.2038 - acc: 0.9258 - val_loss: 0.3266 - val_acc: 0.8844\n",
            "Epoch 96/100\n",
            "60000/60000 [==============================] - 5s 87us/sample - loss: 0.2029 - acc: 0.9273 - val_loss: 0.3250 - val_acc: 0.8857\n",
            "Epoch 97/100\n",
            "60000/60000 [==============================] - 5s 87us/sample - loss: 0.2011 - acc: 0.9281 - val_loss: 0.3253 - val_acc: 0.8849\n",
            "Epoch 98/100\n",
            "60000/60000 [==============================] - 5s 87us/sample - loss: 0.2001 - acc: 0.9285 - val_loss: 0.3261 - val_acc: 0.8859\n",
            "Epoch 99/100\n",
            "60000/60000 [==============================] - 5s 87us/sample - loss: 0.1995 - acc: 0.9290 - val_loss: 0.3300 - val_acc: 0.8854\n",
            "Epoch 100/100\n",
            "60000/60000 [==============================] - 5s 86us/sample - loss: 0.1981 - acc: 0.9291 - val_loss: 0.3281 - val_acc: 0.8832\n"
          ],
          "name": "stdout"
        },
        {
          "output_type": "execute_result",
          "data": {
            "text/plain": [
              "<tensorflow.python.keras.callbacks.History at 0x7f4e2c0bd828>"
            ]
          },
          "metadata": {
            "tags": []
          },
          "execution_count": 55
        }
      ]
    },
    {
      "cell_type": "code",
      "metadata": {
        "id": "54DxTFd35zzT",
        "colab_type": "code",
        "colab": {}
      },
      "source": [
        "model.save('ex5')"
      ],
      "execution_count": 0,
      "outputs": []
    },
    {
      "cell_type": "code",
      "metadata": {
        "colab_type": "code",
        "id": "X-O-fFxnOIVt",
        "colab": {}
      },
      "source": [
        "predY = model.predict_classes(testX)"
      ],
      "execution_count": 0,
      "outputs": []
    },
    {
      "cell_type": "code",
      "metadata": {
        "colab_type": "code",
        "id": "BiP7IL52OIVw",
        "colab": {}
      },
      "source": [
        "from sklearn.metrics import confusion_matrix\n",
        "from sklearn.metrics import classification_report\n",
        "import pylab as pl\n",
        "import seaborn as sns"
      ],
      "execution_count": 0,
      "outputs": []
    },
    {
      "cell_type": "code",
      "metadata": {
        "colab_type": "code",
        "id": "bIkbMEN5OIV7",
        "colab": {
          "base_uri": "https://localhost:8080/",
          "height": 306
        },
        "outputId": "8b905117-a9f3-43de-8477-836ff61e96dc"
      },
      "source": [
        "print(classification_report(testY, predY))"
      ],
      "execution_count": 105,
      "outputs": [
        {
          "output_type": "stream",
          "text": [
            "              precision    recall  f1-score   support\n",
            "\n",
            "           0       0.85      0.82      0.83      1000\n",
            "           1       0.99      0.97      0.98      1000\n",
            "           2       0.78      0.82      0.80      1000\n",
            "           3       0.86      0.91      0.89      1000\n",
            "           4       0.82      0.80      0.81      1000\n",
            "           5       0.96      0.95      0.95      1000\n",
            "           6       0.71      0.70      0.71      1000\n",
            "           7       0.94      0.95      0.95      1000\n",
            "           8       0.97      0.96      0.96      1000\n",
            "           9       0.94      0.96      0.95      1000\n",
            "\n",
            "    accuracy                           0.88     10000\n",
            "   macro avg       0.88      0.88      0.88     10000\n",
            "weighted avg       0.88      0.88      0.88     10000\n",
            "\n"
          ],
          "name": "stdout"
        }
      ]
    },
    {
      "cell_type": "code",
      "metadata": {
        "id": "LwUrJ2Qa7s5F",
        "colab_type": "code",
        "colab": {
          "base_uri": "https://localhost:8080/",
          "height": 323
        },
        "outputId": "4a35adcc-2303-48b9-c48f-285d3e0f82e1"
      },
      "source": [
        "# Heat map of confusion matrix\n",
        "cm = confusion_matrix(testY, predY)\n",
        "plt.figure(figsize=(10,5))\n",
        "sns.heatmap(cm, fmt='d', annot=True,linewidths=2)\n",
        "plt.show()"
      ],
      "execution_count": 107,
      "outputs": [
        {
          "output_type": "display_data",
          "data": {
            "image/png": "[encoded data removed]",
            "text/plain": [
              "<Figure size 720x360 with 2 Axes>"
            ]
          },
          "metadata": {
            "tags": []
          }
        }
      ]
    },
    {
      "cell_type": "code",
      "metadata": {
        "id": "Xm6Nx1jM6nlR",
        "colab_type": "code",
        "colab": {}
      },
      "source": [
        ""
      ],
      "execution_count": 0,
      "outputs": []
    }
  ]
}