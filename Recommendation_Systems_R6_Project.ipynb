{
  "nbformat": 4,
  "nbformat_minor": 0,
  "metadata": {
    "colab": {
      "name": "Recommendation Systems_R6_Project.ipynb",
      "version": "0.3.2",
      "provenance": [],
      "collapsed_sections": [],
      "machine_shape": "hm",
      "include_colab_link": true
    },
    "kernelspec": {
      "name": "python3",
      "display_name": "Python 3"
    },
    "accelerator": "GPU"
  },
  "cells": [
    {
      "cell_type": "markdown",
      "metadata": {
        "id": "view-in-github",
        "colab_type": "text"
      },
      "source": [
        "<a href=\"https://colab.research.google.com/github/GreatLearningAIML1/gurgaon-feb-batch-abhishek02git/blob/master/Recommendation_Systems_R6_Project.ipynb\" target=\"_parent\"><img src=\"https://colab.research.google.com/assets/colab-badge.svg\" alt=\"Open In Colab\"/></a>"
      ]
    },
    {
      "cell_type": "code",
      "metadata": {
        "id": "IMDdAzXhPsk-",
        "colab_type": "code",
        "colab": {}
      },
      "source": [
        "import pandas as pd\n",
        "import numpy as np\n",
        "import matplotlib.pyplot as plt\n",
        "import seaborn as sns\n",
        "from datetime import datetime"
      ],
      "execution_count": 0,
      "outputs": []
    },
    {
      "cell_type": "markdown",
      "metadata": {
        "id": "oSb9EoOrvuQU",
        "colab_type": "text"
      },
      "source": [
        "**1 Read and explore the given dataset.  ( Rename column/add headers, plot histograms, find data characteristics)**"
      ]
    },
    {
      "cell_type": "code",
      "metadata": {
        "id": "VpNH1wQmSW2h",
        "colab_type": "code",
        "colab": {
          "base_uri": "https://localhost:8080/",
          "height": 51
        },
        "outputId": "ca8a696b-9ec9-4968-842f-f1ec8a6d0a8a"
      },
      "source": [
        "# Load data file\n",
        "print (datetime.now())\n",
        "df = pd.read_csv('http://h0.ai/static/ratings_Electronics.csv',header=None)\n",
        "print (datetime.now())"
      ],
      "execution_count": 2,
      "outputs": [
        {
          "output_type": "stream",
          "text": [
            "2019-07-21 17:20:20.643665\n",
            "2019-07-21 17:20:44.857409\n"
          ],
          "name": "stdout"
        }
      ]
    },
    {
      "cell_type": "code",
      "metadata": {
        "id": "XYrdSZ2MbmxV",
        "colab_type": "code",
        "colab": {}
      },
      "source": [
        "# Assign column names to the table\n",
        "df.columns=['userID','productID','rating','timestamp']"
      ],
      "execution_count": 0,
      "outputs": []
    },
    {
      "cell_type": "code",
      "metadata": {
        "id": "Grib2LUcbtng",
        "colab_type": "code",
        "colab": {}
      },
      "source": [
        "# Drop timestamp as it is not required for recommendation \n",
        "df.drop(labels=['timestamp'],axis =1, inplace = True)"
      ],
      "execution_count": 0,
      "outputs": []
    },
    {
      "cell_type": "code",
      "metadata": {
        "id": "dv8UlQM8XDLY",
        "colab_type": "code",
        "outputId": "c43805f3-cfa6-490a-cf42-35c6b7e638b2",
        "colab": {
          "base_uri": "https://localhost:8080/",
          "height": 204
        }
      },
      "source": [
        "# Check data sample\n",
        "df.head()"
      ],
      "execution_count": 5,
      "outputs": [
        {
          "output_type": "execute_result",
          "data": {
            "text/html": [
              "<div>\n",
              "<style scoped>\n",
              "    .dataframe tbody tr th:only-of-type {\n",
              "        vertical-align: middle;\n",
              "    }\n",
              "\n",
              "    .dataframe tbody tr th {\n",
              "        vertical-align: top;\n",
              "    }\n",
              "\n",
              "    .dataframe thead th {\n",
              "        text-align: right;\n",
              "    }\n",
              "</style>\n",
              "<table border=\"1\" class=\"dataframe\">\n",
              "  <thead>\n",
              "    <tr style=\"text-align: right;\">\n",
              "      <th></th>\n",
              "      <th>userID</th>\n",
              "      <th>productID</th>\n",
              "      <th>rating</th>\n",
              "    </tr>\n",
              "  </thead>\n",
              "  <tbody>\n",
              "    <tr>\n",
              "      <th>0</th>\n",
              "      <td>AKM1MP6P0OYPR</td>\n",
              "      <td>0132793040</td>\n",
              "      <td>5.0</td>\n",
              "    </tr>\n",
              "    <tr>\n",
              "      <th>1</th>\n",
              "      <td>A2CX7LUOHB2NDG</td>\n",
              "      <td>0321732944</td>\n",
              "      <td>5.0</td>\n",
              "    </tr>\n",
              "    <tr>\n",
              "      <th>2</th>\n",
              "      <td>A2NWSAGRHCP8N5</td>\n",
              "      <td>0439886341</td>\n",
              "      <td>1.0</td>\n",
              "    </tr>\n",
              "    <tr>\n",
              "      <th>3</th>\n",
              "      <td>A2WNBOD3WNDNKT</td>\n",
              "      <td>0439886341</td>\n",
              "      <td>3.0</td>\n",
              "    </tr>\n",
              "    <tr>\n",
              "      <th>4</th>\n",
              "      <td>A1GI0U4ZRJA8WN</td>\n",
              "      <td>0439886341</td>\n",
              "      <td>1.0</td>\n",
              "    </tr>\n",
              "  </tbody>\n",
              "</table>\n",
              "</div>"
            ],
            "text/plain": [
              "           userID   productID  rating\n",
              "0   AKM1MP6P0OYPR  0132793040     5.0\n",
              "1  A2CX7LUOHB2NDG  0321732944     5.0\n",
              "2  A2NWSAGRHCP8N5  0439886341     1.0\n",
              "3  A2WNBOD3WNDNKT  0439886341     3.0\n",
              "4  A1GI0U4ZRJA8WN  0439886341     1.0"
            ]
          },
          "metadata": {
            "tags": []
          },
          "execution_count": 5
        }
      ]
    },
    {
      "cell_type": "code",
      "metadata": {
        "id": "oagQwujKbmYr",
        "colab_type": "code",
        "outputId": "f5862f1a-0e94-4ac3-8b25-1a5225383010",
        "colab": {
          "base_uri": "https://localhost:8080/",
          "height": 102
        }
      },
      "source": [
        "print (\"Total number of records %0.0f\" %(len(df)))\n",
        "print (\"No of unique UserID %0.0f\" %len(df['userID'].unique()))\n",
        "print (\"No of unique Product ID %0.0f\" %len(df['productID'].unique()))\n",
        "print (\"No of unique Ratings %0.0f\" %len(df['rating'].unique()))\n",
        "df['rating'].unique()"
      ],
      "execution_count": 6,
      "outputs": [
        {
          "output_type": "stream",
          "text": [
            "Total number of records 7824482\n",
            "No of unique UserID 4201696\n",
            "No of unique Product ID 476002\n",
            "No of unique Ratings 5\n"
          ],
          "name": "stdout"
        },
        {
          "output_type": "execute_result",
          "data": {
            "text/plain": [
              "array([5., 1., 3., 2., 4.])"
            ]
          },
          "metadata": {
            "tags": []
          },
          "execution_count": 6
        }
      ]
    },
    {
      "cell_type": "code",
      "metadata": {
        "id": "m8JNO9vkdGbt",
        "colab_type": "code",
        "outputId": "e93e1573-8eeb-44a7-80d1-44d297038490",
        "colab": {
          "base_uri": "https://localhost:8080/",
          "height": 300
        }
      },
      "source": [
        "# see distribution of ratings\n",
        "sns.countplot(df['rating'])"
      ],
      "execution_count": 7,
      "outputs": [
        {
          "output_type": "execute_result",
          "data": {
            "text/plain": [
              "<matplotlib.axes._subplots.AxesSubplot at 0x7f657a983da0>"
            ]
          },
          "metadata": {
            "tags": []
          },
          "execution_count": 7
        },
        {
          "output_type": "display_data",
          "data": {
            "image/png": "[encoded data removed]",
            "text/plain": [
              "<Figure size 432x288 with 1 Axes>"
            ]
          },
          "metadata": {
            "tags": []
          }
        }
      ]
    },
    {
      "cell_type": "markdown",
      "metadata": {
        "id": "PbsmvmY3wMVV",
        "colab_type": "text"
      },
      "source": [
        "\n",
        "\n",
        "\n",
        "*   5 Rating has been given most number of times\n"
      ]
    },
    {
      "cell_type": "code",
      "metadata": {
        "id": "kuJhqzPHdiiW",
        "colab_type": "code",
        "outputId": "5b553eaf-7470-4d50-e851-de1e19523afc",
        "colab": {
          "base_uri": "https://localhost:8080/",
          "height": 425
        }
      },
      "source": [
        "print(df.groupby('productID')['rating'].count().reset_index().sort_values('rating',ascending=False).head(10))\n",
        "print ('\\n')\n",
        "print(df.groupby('productID')['rating'].count().reset_index().sort_values('rating',ascending=True).head(10))"
      ],
      "execution_count": 8,
      "outputs": [
        {
          "output_type": "stream",
          "text": [
            "         productID  rating\n",
            "308398  B0074BW614   18244\n",
            "429572  B00DR0PDNE   16454\n",
            "327308  B007WTAJTO   14172\n",
            "102804  B0019EHU8G   12285\n",
            "296625  B006GWO5WK   12226\n",
            "178601  B003ELYQGG   11617\n",
            "178813  B003ES5ZUU   10276\n",
            "323013  B007R5YDYA    9907\n",
            "289775  B00622AG6S    9823\n",
            "30276   B0002L5R78    9487\n",
            "\n",
            "\n",
            "         productID  rating\n",
            "0       0132793040       1\n",
            "263166  B0058FM05U       1\n",
            "263167  B0058FM0M8       1\n",
            "263169  B0058FM320       1\n",
            "263170  B0058FM5IM       1\n",
            "263176  B0058FOLWU       1\n",
            "263183  B0058FS2DO       1\n",
            "263186  B0058FTDQE       1\n",
            "263187  B0058FU57U       1\n",
            "263188  B0058FUM3C       1\n"
          ],
          "name": "stdout"
        }
      ]
    },
    {
      "cell_type": "markdown",
      "metadata": {
        "id": "4kRSuZJsuXBV",
        "colab_type": "text"
      },
      "source": [
        "**`We can see that there are lot of Products that have been just rated once compared to other products that have been rated thounds of time`**\n",
        "\n"
      ]
    },
    {
      "cell_type": "code",
      "metadata": {
        "id": "CxNVPy8XuVmb",
        "colab_type": "code",
        "outputId": "dfeeceb4-b875-49b2-e325-dfc8563383a6",
        "colab": {
          "base_uri": "https://localhost:8080/",
          "height": 425
        }
      },
      "source": [
        "print(df.groupby('userID')['rating'].count().reset_index().sort_values('rating',ascending=False).head(10))\n",
        "print ('\\n')\n",
        "print(df.groupby('userID')['rating'].count().reset_index().sort_values('rating',ascending=True).head(10))"
      ],
      "execution_count": 9,
      "outputs": [
        {
          "output_type": "stream",
          "text": [
            "                 userID  rating\n",
            "3263531   A5JLAU2ARJ0BO     520\n",
            "3512451    ADLVFFE4VBT8     501\n",
            "2989526  A3OXHLG6DIBRW8     498\n",
            "3291008    A6FIAB28IS79     431\n",
            "3284634   A680RUE1FDO8B     406\n",
            "755206   A1ODOGXEYECQQ8     380\n",
            "2424036  A36K2N527TXXJN     314\n",
            "1451394  A2AY4YUOX2N1BQ     311\n",
            "4100926   AWPODHOB4GFWL     308\n",
            "1277963  A25C2M3QF9G7OQ     296\n",
            "\n",
            "\n",
            "                        userID  rating\n",
            "0        A00000262KYZUE4J55XGL       1\n",
            "2540191         A3AAXWDYVQ93SZ       1\n",
            "2540192         A3AAXWHVCN6VOG       1\n",
            "2540193          A3AAXX0N47FFP       1\n",
            "2540194         A3AAXY0TMZS72Y       1\n",
            "2540195         A3AAXZAK8EB9KG       1\n",
            "2540196         A3AAY0GAXS0XNA       1\n",
            "2540200         A3AAY3OP8Z7FTA       1\n",
            "2540201         A3AAY5WI5T8HN5       1\n",
            "2540203         A3AAYE1Y83YT2P       1\n"
          ],
          "name": "stdout"
        }
      ]
    },
    {
      "cell_type": "markdown",
      "metadata": {
        "id": "K3DqZN1_uWKh",
        "colab_type": "text"
      },
      "source": [
        "`We can see that there are lot of users who have rated once compared to other users who have rated 100s of time'"
      ]
    },
    {
      "cell_type": "markdown",
      "metadata": {
        "id": "tVsH8HM05VCA",
        "colab_type": "text"
      },
      "source": [
        "**Take a subset of the dataset to make it less sparse/ denser. ( For example, keep the users only who has given 50 or more number of ratings )**"
      ]
    },
    {
      "cell_type": "code",
      "metadata": {
        "id": "93zmoDG0vLWg",
        "colab_type": "code",
        "colab": {}
      },
      "source": [
        "# Keep users' records that have rated more than 50 time and Books that have been rated more than 50 times\n",
        "min_user_rating = 50\n",
        "min_book_rating = 50\n",
        "\n",
        "users2keep = df['userID'].value_counts() > min_user_rating\n",
        "users2keep = users2keep[users2keep].index.tolist()\n",
        "\n",
        "books2keep = df['productID'].value_counts() > min_user_rating\n",
        "books2keep = books2keep[books2keep].index.tolist()"
      ],
      "execution_count": 0,
      "outputs": []
    },
    {
      "cell_type": "code",
      "metadata": {
        "id": "QmsERL6CG1qs",
        "colab_type": "code",
        "colab": {}
      },
      "source": [
        "rating_df = df[(df['userID'].isin(users2keep)) & (df['productID'].isin(books2keep))]"
      ],
      "execution_count": 0,
      "outputs": []
    },
    {
      "cell_type": "code",
      "metadata": {
        "id": "mNPtn-kU_4Gq",
        "colab_type": "code",
        "outputId": "798139bf-3515-4e40-9079-2c09e8d84325",
        "colab": {
          "base_uri": "https://localhost:8080/",
          "height": 221
        }
      },
      "source": [
        "# Check no of remaining records\n",
        "print(len(rating_df))\n",
        "rating_df.head()"
      ],
      "execution_count": 12,
      "outputs": [
        {
          "output_type": "stream",
          "text": [
            "76359\n"
          ],
          "name": "stdout"
        },
        {
          "output_type": "execute_result",
          "data": {
            "text/html": [
              "<div>\n",
              "<style scoped>\n",
              "    .dataframe tbody tr th:only-of-type {\n",
              "        vertical-align: middle;\n",
              "    }\n",
              "\n",
              "    .dataframe tbody tr th {\n",
              "        vertical-align: top;\n",
              "    }\n",
              "\n",
              "    .dataframe thead th {\n",
              "        text-align: right;\n",
              "    }\n",
              "</style>\n",
              "<table border=\"1\" class=\"dataframe\">\n",
              "  <thead>\n",
              "    <tr style=\"text-align: right;\">\n",
              "      <th></th>\n",
              "      <th>userID</th>\n",
              "      <th>productID</th>\n",
              "      <th>rating</th>\n",
              "    </tr>\n",
              "  </thead>\n",
              "  <tbody>\n",
              "    <tr>\n",
              "      <th>492</th>\n",
              "      <td>A3CLWR1UUZT6TG</td>\n",
              "      <td>0972683275</td>\n",
              "      <td>5.0</td>\n",
              "    </tr>\n",
              "    <tr>\n",
              "      <th>631</th>\n",
              "      <td>A3TAS1AG6FMBQW</td>\n",
              "      <td>0972683275</td>\n",
              "      <td>5.0</td>\n",
              "    </tr>\n",
              "    <tr>\n",
              "      <th>1138</th>\n",
              "      <td>A25RTRAPQAJBDJ</td>\n",
              "      <td>0972683275</td>\n",
              "      <td>5.0</td>\n",
              "    </tr>\n",
              "    <tr>\n",
              "      <th>1310</th>\n",
              "      <td>A3LDPF5FMB782Z</td>\n",
              "      <td>1400501466</td>\n",
              "      <td>5.0</td>\n",
              "    </tr>\n",
              "    <tr>\n",
              "      <th>1322</th>\n",
              "      <td>A1A5KUIIIHFF4U</td>\n",
              "      <td>1400501466</td>\n",
              "      <td>1.0</td>\n",
              "    </tr>\n",
              "  </tbody>\n",
              "</table>\n",
              "</div>"
            ],
            "text/plain": [
              "              userID   productID  rating\n",
              "492   A3CLWR1UUZT6TG  0972683275     5.0\n",
              "631   A3TAS1AG6FMBQW  0972683275     5.0\n",
              "1138  A25RTRAPQAJBDJ  0972683275     5.0\n",
              "1310  A3LDPF5FMB782Z  1400501466     5.0\n",
              "1322  A1A5KUIIIHFF4U  1400501466     1.0"
            ]
          },
          "metadata": {
            "tags": []
          },
          "execution_count": 12
        }
      ]
    },
    {
      "cell_type": "markdown",
      "metadata": {
        "id": "0f0nQTOp5akZ",
        "colab_type": "text"
      },
      "source": [
        "# Create popularity based model"
      ]
    },
    {
      "cell_type": "code",
      "metadata": {
        "id": "OxFHUWqMOsPb",
        "colab_type": "code",
        "colab": {
          "base_uri": "https://localhost:8080/",
          "height": 359
        },
        "outputId": "2d40b0c8-01cf-4036-e6af-69aa12419c6a"
      },
      "source": [
        "# Popularity based model\n",
        "#Create a dataframe \n",
        "popular_product = pd.DataFrame(columns=['score','avg_rating','rank'])\n",
        "\n",
        "#get Score based on no of ratings provided to the prodict \n",
        "popular_product['score'] = rating_df.groupby('productID')['rating'].count()\n",
        "\n",
        "#Get Avarage Rating given to the product\n",
        "popular_product['avg_rating'] = rating_df.groupby('productID')['rating'].mean()\n",
        "\n",
        "#Sort dataframe based on Score (no of ratings)\n",
        "popular_product = popular_product.sort_values(by=['score','avg_rating'],ascending = False).reset_index()\n",
        "\n",
        "# Add rank after sorting\n",
        "popular_product['rank'] = popular_product['score'].rank(ascending=0, method='first')\n",
        "\n",
        "#display first 10 recommendation\n",
        "popular_product.head(10)"
      ],
      "execution_count": 13,
      "outputs": [
        {
          "output_type": "execute_result",
          "data": {
            "text/html": [
              "<div>\n",
              "<style scoped>\n",
              "    .dataframe tbody tr th:only-of-type {\n",
              "        vertical-align: middle;\n",
              "    }\n",
              "\n",
              "    .dataframe tbody tr th {\n",
              "        vertical-align: top;\n",
              "    }\n",
              "\n",
              "    .dataframe thead th {\n",
              "        text-align: right;\n",
              "    }\n",
              "</style>\n",
              "<table border=\"1\" class=\"dataframe\">\n",
              "  <thead>\n",
              "    <tr style=\"text-align: right;\">\n",
              "      <th></th>\n",
              "      <th>productID</th>\n",
              "      <th>score</th>\n",
              "      <th>avg_rating</th>\n",
              "      <th>rank</th>\n",
              "    </tr>\n",
              "  </thead>\n",
              "  <tbody>\n",
              "    <tr>\n",
              "      <th>0</th>\n",
              "      <td>B0088CJT4U</td>\n",
              "      <td>204</td>\n",
              "      <td>4.215686</td>\n",
              "      <td>1.0</td>\n",
              "    </tr>\n",
              "    <tr>\n",
              "      <th>1</th>\n",
              "      <td>B003ES5ZUU</td>\n",
              "      <td>177</td>\n",
              "      <td>4.858757</td>\n",
              "      <td>2.0</td>\n",
              "    </tr>\n",
              "    <tr>\n",
              "      <th>2</th>\n",
              "      <td>B000N99BBC</td>\n",
              "      <td>163</td>\n",
              "      <td>4.773006</td>\n",
              "      <td>3.0</td>\n",
              "    </tr>\n",
              "    <tr>\n",
              "      <th>3</th>\n",
              "      <td>B007WTAJTO</td>\n",
              "      <td>156</td>\n",
              "      <td>4.692308</td>\n",
              "      <td>4.0</td>\n",
              "    </tr>\n",
              "    <tr>\n",
              "      <th>4</th>\n",
              "      <td>B00829TIEK</td>\n",
              "      <td>146</td>\n",
              "      <td>4.431507</td>\n",
              "      <td>5.0</td>\n",
              "    </tr>\n",
              "    <tr>\n",
              "      <th>5</th>\n",
              "      <td>B008DWCRQW</td>\n",
              "      <td>135</td>\n",
              "      <td>4.088889</td>\n",
              "      <td>6.0</td>\n",
              "    </tr>\n",
              "    <tr>\n",
              "      <th>6</th>\n",
              "      <td>B00829THK0</td>\n",
              "      <td>132</td>\n",
              "      <td>4.409091</td>\n",
              "      <td>7.0</td>\n",
              "    </tr>\n",
              "    <tr>\n",
              "      <th>7</th>\n",
              "      <td>B002R5AM7C</td>\n",
              "      <td>127</td>\n",
              "      <td>4.118110</td>\n",
              "      <td>8.0</td>\n",
              "    </tr>\n",
              "    <tr>\n",
              "      <th>8</th>\n",
              "      <td>B004CLYEDC</td>\n",
              "      <td>117</td>\n",
              "      <td>4.666667</td>\n",
              "      <td>9.0</td>\n",
              "    </tr>\n",
              "    <tr>\n",
              "      <th>9</th>\n",
              "      <td>B002SZEOLG</td>\n",
              "      <td>108</td>\n",
              "      <td>4.287037</td>\n",
              "      <td>10.0</td>\n",
              "    </tr>\n",
              "  </tbody>\n",
              "</table>\n",
              "</div>"
            ],
            "text/plain": [
              "    productID  score  avg_rating  rank\n",
              "0  B0088CJT4U    204    4.215686   1.0\n",
              "1  B003ES5ZUU    177    4.858757   2.0\n",
              "2  B000N99BBC    163    4.773006   3.0\n",
              "3  B007WTAJTO    156    4.692308   4.0\n",
              "4  B00829TIEK    146    4.431507   5.0\n",
              "5  B008DWCRQW    135    4.088889   6.0\n",
              "6  B00829THK0    132    4.409091   7.0\n",
              "7  B002R5AM7C    127    4.118110   8.0\n",
              "8  B004CLYEDC    117    4.666667   9.0\n",
              "9  B002SZEOLG    108    4.287037  10.0"
            ]
          },
          "metadata": {
            "tags": []
          },
          "execution_count": 13
        }
      ]
    },
    {
      "cell_type": "markdown",
      "metadata": {
        "id": "yvnWHGhGGg2Y",
        "colab_type": "text"
      },
      "source": [
        "\n",
        "\n",
        "```\n",
        "Above recommendation will be same for all user as popularity based model is not personalised\n",
        "```\n",
        "\n"
      ]
    },
    {
      "cell_type": "code",
      "metadata": {
        "id": "cvYoWYxjMCO3",
        "colab_type": "code",
        "colab": {
          "base_uri": "https://localhost:8080/",
          "height": 664
        },
        "outputId": "5a4721ca-45e8-426b-866f-20c59d503d11"
      },
      "source": [
        "import matplotlib.pyplot as plt  \n",
        "import seaborn as sns  \n",
        "sns.set_style('dark')  \n",
        "%matplotlib inline\n",
        "\n",
        "plt.figure(figsize=(8,6))  \n",
        "plt.rcParams['patch.force_edgecolor'] = True  \n",
        "popular_product['score'][(popular_product['score']>10) & (popular_product['score']<=50)].hist(bins=50)\n",
        "print(\"Products between 10 to 50 Ratings\")\n",
        "plt.show()\n",
        "popular_product['score'][popular_product['score']>50].hist(bins=50) \n",
        "print(\"Products above 50 Ratings\")\n",
        "plt.show()"
      ],
      "execution_count": 14,
      "outputs": [
        {
          "output_type": "stream",
          "text": [
            "Products between 10 to 50 Ratings\n"
          ],
          "name": "stdout"
        },
        {
          "output_type": "display_data",
          "data": {
            "image/png": "[encoded data removed]",
            "text/plain": [
              "<Figure size 576x432 with 1 Axes>"
            ]
          },
          "metadata": {
            "tags": []
          }
        },
        {
          "output_type": "stream",
          "text": [
            "Products above 50 Ratings\n"
          ],
          "name": "stdout"
        },
        {
          "output_type": "display_data",
          "data": {
            "image/png": "[encoded data removed]",
            "text/plain": [
              "<Figure size 432x288 with 1 Axes>"
            ]
          },
          "metadata": {
            "tags": []
          }
        }
      ]
    },
    {
      "cell_type": "markdown",
      "metadata": {
        "id": "fLdBp7sW3w2i",
        "colab_type": "text"
      },
      "source": [
        "# Build Collaborative Filtering model."
      ]
    },
    {
      "cell_type": "code",
      "metadata": {
        "id": "nBregtkiC5ym",
        "colab_type": "code",
        "outputId": "7d527d99-7da9-4d07-b8ef-71eb255bbb4e",
        "colab": {
          "base_uri": "https://localhost:8080/",
          "height": 119
        }
      },
      "source": [
        "# Install surprise package as it is not installed by default in colab\n",
        "! pip install surprise"
      ],
      "execution_count": 15,
      "outputs": [
        {
          "output_type": "stream",
          "text": [
            "Requirement already satisfied: surprise in /usr/local/lib/python3.6/dist-packages (0.1)\n",
            "Requirement already satisfied: scikit-surprise in /usr/local/lib/python3.6/dist-packages (from surprise) (1.0.6)\n",
            "Requirement already satisfied: joblib>=0.11 in /usr/local/lib/python3.6/dist-packages (from scikit-surprise->surprise) (0.13.2)\n",
            "Requirement already satisfied: scipy>=1.0.0 in /usr/local/lib/python3.6/dist-packages (from scikit-surprise->surprise) (1.3.0)\n",
            "Requirement already satisfied: numpy>=1.11.2 in /usr/local/lib/python3.6/dist-packages (from scikit-surprise->surprise) (1.16.4)\n",
            "Requirement already satisfied: six>=1.10.0 in /usr/local/lib/python3.6/dist-packages (from scikit-surprise->surprise) (1.12.0)\n"
          ],
          "name": "stdout"
        }
      ]
    },
    {
      "cell_type": "code",
      "metadata": {
        "id": "HNZYvn9sBbk3",
        "colab_type": "code",
        "colab": {}
      },
      "source": [
        "# Import surpise library\n",
        "\n",
        "from surprise import SVD, SVDpp, SlopeOne, NMF, NormalPredictor, KNNBaseline, KNNBasic, KNNWithMeans, KNNWithZScore, BaselineOnly, CoClustering, accuracy\n",
        "from surprise import Dataset, Reader\n",
        "from surprise import evaluate, print_perf\n",
        "from surprise.model_selection import cross_validate, train_test_split"
      ],
      "execution_count": 0,
      "outputs": []
    },
    {
      "cell_type": "code",
      "metadata": {
        "id": "Tx04OJceCqYa",
        "colab_type": "code",
        "colab": {}
      },
      "source": [
        "# Create surprice dataset\n",
        "reader = Reader(rating_scale=(1, 5))\n",
        "data = Dataset.load_from_df(rating_df[['userID','productID','rating']],reader)"
      ],
      "execution_count": 0,
      "outputs": []
    },
    {
      "cell_type": "code",
      "metadata": {
        "id": "lUL8-yHNlQcy",
        "colab_type": "code",
        "colab": {
          "base_uri": "https://localhost:8080/",
          "height": 34
        },
        "outputId": "e1056659-9ffd-49d4-bcd0-efa5aa5cd365"
      },
      "source": [
        "# Split data in train and test\n",
        "trainset, testset = train_test_split(data,test_size=0.25,random_state=10)\n",
        "type(trainset)"
      ],
      "execution_count": 18,
      "outputs": [
        {
          "output_type": "execute_result",
          "data": {
            "text/plain": [
              "surprise.trainset.Trainset"
            ]
          },
          "metadata": {
            "tags": []
          },
          "execution_count": 18
        }
      ]
    },
    {
      "cell_type": "code",
      "metadata": {
        "id": "wEyCfXBllxsS",
        "colab_type": "code",
        "colab": {
          "base_uri": "https://localhost:8080/",
          "height": 102
        },
        "outputId": "6344f93a-ca54-4489-8980-43400442ead8"
      },
      "source": [
        "# KNN for Item based collaborative filter\n",
        "item_algo = KNNWithMeans(k=5,sim_options={'name':'pearson','user_based':False})\n",
        "item_algo.fit(trainset)\n",
        "\n",
        "# KNN for User based collaborative filter\n",
        "user_algo = KNNWithMeans(k=5,sim_options={'name':'pearson','user_based':True})\n",
        "user_algo.fit(trainset)"
      ],
      "execution_count": 19,
      "outputs": [
        {
          "output_type": "stream",
          "text": [
            "Computing the pearson similarity matrix...\n",
            "Done computing similarity matrix.\n",
            "Computing the pearson similarity matrix...\n",
            "Done computing similarity matrix.\n"
          ],
          "name": "stdout"
        },
        {
          "output_type": "execute_result",
          "data": {
            "text/plain": [
              "<surprise.prediction_algorithms.knns.KNNWithMeans at 0x7f654e264390>"
            ]
          },
          "metadata": {
            "tags": []
          },
          "execution_count": 19
        }
      ]
    },
    {
      "cell_type": "code",
      "metadata": {
        "id": "ALClTuwonHSn",
        "colab_type": "code",
        "colab": {}
      },
      "source": [
        "user_test_pred = user_algo.test(testset)\n",
        "#print(\"Accuracy of user based collaborative folter is: \", accuracy.rmse(user_test_pred))\n",
        "\n",
        "item_test_pred = item_algo.test(testset)\n",
        "#print(\"Accuracy of item based collaborative folter is: \",accuracy.rmse(item_test_pred))"
      ],
      "execution_count": 0,
      "outputs": []
    },
    {
      "cell_type": "code",
      "metadata": {
        "id": "7Nols0vznczw",
        "colab_type": "code",
        "colab": {
          "base_uri": "https://localhost:8080/",
          "height": 51
        },
        "outputId": "38127e47-4cc3-42db-9f3a-4f0cece7496a"
      },
      "source": [
        "print (user_test_pred[1])\n",
        "print (item_test_pred[1])"
      ],
      "execution_count": 21,
      "outputs": [
        {
          "output_type": "stream",
          "text": [
            "user: A18FLOC8YQY0P8 item: B0075SUK14 r_ui = 5.00   est = 4.37   {'actual_k': 0, 'was_impossible': False}\n",
            "user: A18FLOC8YQY0P8 item: B0075SUK14 r_ui = 5.00   est = 4.75   {'actual_k': 0, 'was_impossible': False}\n"
          ],
          "name": "stdout"
        }
      ]
    },
    {
      "cell_type": "code",
      "metadata": {
        "id": "dEC2SScFpi36",
        "colab_type": "code",
        "colab": {}
      },
      "source": [
        "user_pred_df = pd.DataFrame([[x.uid,x.iid,x.est] for x in user_test_pred],columns=['userID','productID','Estimated_Rating'])\n",
        "user_pred_df['Algo'] = \"User Based\"\n",
        "item_pred_df = pd.DataFrame([[x.uid,x.iid,x.est] for x in item_test_pred],columns=['userID','productID','Estimated_Rating'])\n",
        "item_pred_df['Algo'] = \"Item Based\""
      ],
      "execution_count": 0,
      "outputs": []
    },
    {
      "cell_type": "markdown",
      "metadata": {
        "id": "94nXQgjB3obH",
        "colab_type": "text"
      },
      "source": [
        "**Create SVD Based algorithm**"
      ]
    },
    {
      "cell_type": "code",
      "metadata": {
        "id": "KZuoPKmhPbBL",
        "colab_type": "code",
        "colab": {}
      },
      "source": [
        "svd_algo = SVD(n_factors=5, biased=False)\n",
        "svd_algo.fit(trainset)\n",
        "\n",
        "svd_pred = svd_algo.test(testset)\n",
        "\n",
        "svd_pred_df = pd.DataFrame([[x.uid,x.iid,x.est] for x in svd_pred],columns=['userID','productID','Estimated_Rating'])\n",
        "svd_pred_df['Algo'] = \"SVD\""
      ],
      "execution_count": 0,
      "outputs": []
    },
    {
      "cell_type": "code",
      "metadata": {
        "id": "55tXg1Qk4fkh",
        "colab_type": "code",
        "colab": {}
      },
      "source": [
        "userID = 'A3CLWR1UUZT6TG'"
      ],
      "execution_count": 0,
      "outputs": []
    },
    {
      "cell_type": "code",
      "metadata": {
        "id": "HE-GUC_YMBc2",
        "colab_type": "code",
        "colab": {
          "base_uri": "https://localhost:8080/",
          "height": 207
        },
        "outputId": "28aa5bdc-87c2-4738-f978-57e3bc137432"
      },
      "source": [
        "# Check top recommendation for user base collaborative model\n",
        "#user_pred_df[(user_pred_df['userID']==userID) & (user_pred_df['Estimated_Rating']>4)].sort_values(by=['Estimated_Rating'],ascending=False).head(5)\n",
        "print(\"Accuracy of user based collaborative filter is: \", accuracy.rmse(user_test_pred))\n",
        "user_pred_df[(user_pred_df['userID']==userID)].sort_values(by=['Estimated_Rating'],ascending=False).head(5)"
      ],
      "execution_count": 25,
      "outputs": [
        {
          "output_type": "stream",
          "text": [
            "RMSE: 1.0281\n",
            "Accuracy of user based collaborative filter is:  1.0280631936225737\n"
          ],
          "name": "stdout"
        },
        {
          "output_type": "execute_result",
          "data": {
            "text/html": [
              "<div>\n",
              "<style scoped>\n",
              "    .dataframe tbody tr th:only-of-type {\n",
              "        vertical-align: middle;\n",
              "    }\n",
              "\n",
              "    .dataframe tbody tr th {\n",
              "        vertical-align: top;\n",
              "    }\n",
              "\n",
              "    .dataframe thead th {\n",
              "        text-align: right;\n",
              "    }\n",
              "</style>\n",
              "<table border=\"1\" class=\"dataframe\">\n",
              "  <thead>\n",
              "    <tr style=\"text-align: right;\">\n",
              "      <th></th>\n",
              "      <th>userID</th>\n",
              "      <th>productID</th>\n",
              "      <th>Estimated_Rating</th>\n",
              "      <th>Algo</th>\n",
              "    </tr>\n",
              "  </thead>\n",
              "  <tbody>\n",
              "    <tr>\n",
              "      <th>2698</th>\n",
              "      <td>A3CLWR1UUZT6TG</td>\n",
              "      <td>B0093HGD2K</td>\n",
              "      <td>4.578947</td>\n",
              "      <td>User Based</td>\n",
              "    </tr>\n",
              "    <tr>\n",
              "      <th>4449</th>\n",
              "      <td>A3CLWR1UUZT6TG</td>\n",
              "      <td>B0057AVXJA</td>\n",
              "      <td>4.578947</td>\n",
              "      <td>User Based</td>\n",
              "    </tr>\n",
              "    <tr>\n",
              "      <th>18480</th>\n",
              "      <td>A3CLWR1UUZT6TG</td>\n",
              "      <td>B0097BEFYA</td>\n",
              "      <td>4.578947</td>\n",
              "      <td>User Based</td>\n",
              "    </tr>\n",
              "    <tr>\n",
              "      <th>801</th>\n",
              "      <td>A3CLWR1UUZT6TG</td>\n",
              "      <td>B0034XDTF8</td>\n",
              "      <td>4.302031</td>\n",
              "      <td>User Based</td>\n",
              "    </tr>\n",
              "  </tbody>\n",
              "</table>\n",
              "</div>"
            ],
            "text/plain": [
              "               userID   productID  Estimated_Rating        Algo\n",
              "2698   A3CLWR1UUZT6TG  B0093HGD2K          4.578947  User Based\n",
              "4449   A3CLWR1UUZT6TG  B0057AVXJA          4.578947  User Based\n",
              "18480  A3CLWR1UUZT6TG  B0097BEFYA          4.578947  User Based\n",
              "801    A3CLWR1UUZT6TG  B0034XDTF8          4.302031  User Based"
            ]
          },
          "metadata": {
            "tags": []
          },
          "execution_count": 25
        }
      ]
    },
    {
      "cell_type": "code",
      "metadata": {
        "id": "Rtt38ZzJN4Ne",
        "colab_type": "code",
        "colab": {
          "base_uri": "https://localhost:8080/",
          "height": 207
        },
        "outputId": "113b969a-06e6-45ad-8c90-8ad6d217d61c"
      },
      "source": [
        "#item_pred_df[(item_pred_df['userID']==userID) & (item_pred_df['Estimated_Rating']>4)].sort_values(by=['Estimated_Rating'],ascending=False).head(5)\n",
        "print(\"Accuracy of item based collaborative filter is: \",accuracy.rmse(item_test_pred))\n",
        "item_pred_df[(item_pred_df['userID']==userID)].sort_values(by=['Estimated_Rating'],ascending=False).head(5)"
      ],
      "execution_count": 26,
      "outputs": [
        {
          "output_type": "stream",
          "text": [
            "RMSE: 1.1332\n",
            "Accuracy of item based collaborative filter is:  1.1332324591467895\n"
          ],
          "name": "stdout"
        },
        {
          "output_type": "execute_result",
          "data": {
            "text/html": [
              "<div>\n",
              "<style scoped>\n",
              "    .dataframe tbody tr th:only-of-type {\n",
              "        vertical-align: middle;\n",
              "    }\n",
              "\n",
              "    .dataframe tbody tr th {\n",
              "        vertical-align: top;\n",
              "    }\n",
              "\n",
              "    .dataframe thead th {\n",
              "        text-align: right;\n",
              "    }\n",
              "</style>\n",
              "<table border=\"1\" class=\"dataframe\">\n",
              "  <thead>\n",
              "    <tr style=\"text-align: right;\">\n",
              "      <th></th>\n",
              "      <th>userID</th>\n",
              "      <th>productID</th>\n",
              "      <th>Estimated_Rating</th>\n",
              "      <th>Algo</th>\n",
              "    </tr>\n",
              "  </thead>\n",
              "  <tbody>\n",
              "    <tr>\n",
              "      <th>4449</th>\n",
              "      <td>A3CLWR1UUZT6TG</td>\n",
              "      <td>B0057AVXJA</td>\n",
              "      <td>4.500000</td>\n",
              "      <td>Item Based</td>\n",
              "    </tr>\n",
              "    <tr>\n",
              "      <th>801</th>\n",
              "      <td>A3CLWR1UUZT6TG</td>\n",
              "      <td>B0034XDTF8</td>\n",
              "      <td>4.302031</td>\n",
              "      <td>Item Based</td>\n",
              "    </tr>\n",
              "    <tr>\n",
              "      <th>2698</th>\n",
              "      <td>A3CLWR1UUZT6TG</td>\n",
              "      <td>B0093HGD2K</td>\n",
              "      <td>4.285714</td>\n",
              "      <td>Item Based</td>\n",
              "    </tr>\n",
              "    <tr>\n",
              "      <th>18480</th>\n",
              "      <td>A3CLWR1UUZT6TG</td>\n",
              "      <td>B0097BEFYA</td>\n",
              "      <td>3.015385</td>\n",
              "      <td>Item Based</td>\n",
              "    </tr>\n",
              "  </tbody>\n",
              "</table>\n",
              "</div>"
            ],
            "text/plain": [
              "               userID   productID  Estimated_Rating        Algo\n",
              "4449   A3CLWR1UUZT6TG  B0057AVXJA          4.500000  Item Based\n",
              "801    A3CLWR1UUZT6TG  B0034XDTF8          4.302031  Item Based\n",
              "2698   A3CLWR1UUZT6TG  B0093HGD2K          4.285714  Item Based\n",
              "18480  A3CLWR1UUZT6TG  B0097BEFYA          3.015385  Item Based"
            ]
          },
          "metadata": {
            "tags": []
          },
          "execution_count": 26
        }
      ]
    },
    {
      "cell_type": "code",
      "metadata": {
        "id": "GoaeGZjl3M2U",
        "colab_type": "code",
        "colab": {
          "base_uri": "https://localhost:8080/",
          "height": 207
        },
        "outputId": "438c7bc5-dd5f-4033-df1d-ecd45742960e"
      },
      "source": [
        "#svd_pred_df[(svd_pred_df['userID']==userID) & (svd_pred_df['Estimated_Rating']>4)].sort_values(by=['Estimated_Rating'],ascending=False).head(5)\n",
        "print(\"Accuracy of SVD based collaborative filter is: \",accuracy.rmse(svd_pred))\n",
        "svd_pred_df[(svd_pred_df['userID']==userID)].sort_values(by=['Estimated_Rating'],ascending=False).head(5)"
      ],
      "execution_count": 27,
      "outputs": [
        {
          "output_type": "stream",
          "text": [
            "RMSE: 1.6584\n",
            "Accuracy of SVD based collaborative filter is:  1.6584255929592564\n"
          ],
          "name": "stdout"
        },
        {
          "output_type": "execute_result",
          "data": {
            "text/html": [
              "<div>\n",
              "<style scoped>\n",
              "    .dataframe tbody tr th:only-of-type {\n",
              "        vertical-align: middle;\n",
              "    }\n",
              "\n",
              "    .dataframe tbody tr th {\n",
              "        vertical-align: top;\n",
              "    }\n",
              "\n",
              "    .dataframe thead th {\n",
              "        text-align: right;\n",
              "    }\n",
              "</style>\n",
              "<table border=\"1\" class=\"dataframe\">\n",
              "  <thead>\n",
              "    <tr style=\"text-align: right;\">\n",
              "      <th></th>\n",
              "      <th>userID</th>\n",
              "      <th>productID</th>\n",
              "      <th>Estimated_Rating</th>\n",
              "      <th>Algo</th>\n",
              "    </tr>\n",
              "  </thead>\n",
              "  <tbody>\n",
              "    <tr>\n",
              "      <th>2698</th>\n",
              "      <td>A3CLWR1UUZT6TG</td>\n",
              "      <td>B0093HGD2K</td>\n",
              "      <td>4.663975</td>\n",
              "      <td>SVD</td>\n",
              "    </tr>\n",
              "    <tr>\n",
              "      <th>18480</th>\n",
              "      <td>A3CLWR1UUZT6TG</td>\n",
              "      <td>B0097BEFYA</td>\n",
              "      <td>4.653016</td>\n",
              "      <td>SVD</td>\n",
              "    </tr>\n",
              "    <tr>\n",
              "      <th>801</th>\n",
              "      <td>A3CLWR1UUZT6TG</td>\n",
              "      <td>B0034XDTF8</td>\n",
              "      <td>4.302031</td>\n",
              "      <td>SVD</td>\n",
              "    </tr>\n",
              "    <tr>\n",
              "      <th>4449</th>\n",
              "      <td>A3CLWR1UUZT6TG</td>\n",
              "      <td>B0057AVXJA</td>\n",
              "      <td>4.062517</td>\n",
              "      <td>SVD</td>\n",
              "    </tr>\n",
              "  </tbody>\n",
              "</table>\n",
              "</div>"
            ],
            "text/plain": [
              "               userID   productID  Estimated_Rating Algo\n",
              "2698   A3CLWR1UUZT6TG  B0093HGD2K          4.663975  SVD\n",
              "18480  A3CLWR1UUZT6TG  B0097BEFYA          4.653016  SVD\n",
              "801    A3CLWR1UUZT6TG  B0034XDTF8          4.302031  SVD\n",
              "4449   A3CLWR1UUZT6TG  B0057AVXJA          4.062517  SVD"
            ]
          },
          "metadata": {
            "tags": []
          },
          "execution_count": 27
        }
      ]
    },
    {
      "cell_type": "markdown",
      "metadata": {
        "id": "lRpCfXZ77_B_",
        "colab_type": "text"
      },
      "source": [
        "*We see that all three algoriths have predicted same top 5 Product for a given user but the predicted rating slightly varies*"
      ]
    }
  ]
}