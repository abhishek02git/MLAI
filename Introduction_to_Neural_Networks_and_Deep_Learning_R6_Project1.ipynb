{
  "nbformat": 4,
  "nbformat_minor": 0,
  "metadata": {
    "kernelspec": {
      "display_name": "Python 3",
      "language": "python",
      "name": "python3"
    },
    "language_info": {
      "codemirror_mode": {
        "name": "ipython",
        "version": 3
      },
      "file_extension": ".py",
      "mimetype": "text/x-python",
      "name": "python",
      "nbconvert_exporter": "python",
      "pygments_lexer": "ipython3",
      "version": "3.7.3"
    },
    "colab": {
      "name": "Introduction to Neural Networks and Deep Learning_R6_Project1.ipynb",
      "version": "0.3.2",
      "provenance": [],
      "include_colab_link": true
    }
  },
  "cells": [
    {
      "cell_type": "markdown",
      "metadata": {
        "id": "view-in-github",
        "colab_type": "text"
      },
      "source": [
        "<a href=\"https://colab.research.google.com/github/GreatLearningAIML1/gurgaon-feb-batch-abhishek02git/blob/master/Introduction_to_Neural_Networks_and_Deep_Learning_R6_Project1.ipynb\" target=\"_parent\"><img src=\"https://colab.research.google.com/assets/colab-badge.svg\" alt=\"Open In Colab\"/></a>"
      ]
    },
    {
      "cell_type": "code",
      "metadata": {
        "id": "THttLpl1kKOw",
        "colab_type": "code",
        "colab": {}
      },
      "source": [
        "data_file = \"http://h0.ai/static/bank.csv\""
      ],
      "execution_count": 0,
      "outputs": []
    },
    {
      "cell_type": "code",
      "metadata": {
        "id": "Wdl7rIVmkKO0",
        "colab_type": "code",
        "colab": {}
      },
      "source": [
        "import pandas as pd\n",
        "import matplotlib.pyplot as plt\n",
        "import seaborn as sns\n",
        "import numpy as np\n",
        "\n",
        "from sklearn.preprocessing import LabelEncoder, OneHotEncoder\n"
      ],
      "execution_count": 0,
      "outputs": []
    },
    {
      "cell_type": "code",
      "metadata": {
        "id": "v0ZPshA2kKO4",
        "colab_type": "code",
        "colab": {}
      },
      "source": [
        "df = pd.read_csv(data_file)"
      ],
      "execution_count": 0,
      "outputs": []
    },
    {
      "cell_type": "code",
      "metadata": {
        "id": "LkjsUAEakKO7",
        "colab_type": "code",
        "colab": {},
        "outputId": "57ccabd5-1e34-430f-8650-e4489c683aec"
      },
      "source": [
        "df.head()"
      ],
      "execution_count": 0,
      "outputs": [
        {
          "output_type": "execute_result",
          "data": {
            "text/html": [
              "<div>\n",
              "<style scoped>\n",
              "    .dataframe tbody tr th:only-of-type {\n",
              "        vertical-align: middle;\n",
              "    }\n",
              "\n",
              "    .dataframe tbody tr th {\n",
              "        vertical-align: top;\n",
              "    }\n",
              "\n",
              "    .dataframe thead th {\n",
              "        text-align: right;\n",
              "    }\n",
              "</style>\n",
              "<table border=\"1\" class=\"dataframe\">\n",
              "  <thead>\n",
              "    <tr style=\"text-align: right;\">\n",
              "      <th></th>\n",
              "      <th>RowNumber</th>\n",
              "      <th>CustomerId</th>\n",
              "      <th>Surname</th>\n",
              "      <th>CreditScore</th>\n",
              "      <th>Geography</th>\n",
              "      <th>Gender</th>\n",
              "      <th>Age</th>\n",
              "      <th>Tenure</th>\n",
              "      <th>Balance</th>\n",
              "      <th>NumOfProducts</th>\n",
              "      <th>HasCrCard</th>\n",
              "      <th>IsActiveMember</th>\n",
              "      <th>EstimatedSalary</th>\n",
              "      <th>Exited</th>\n",
              "    </tr>\n",
              "  </thead>\n",
              "  <tbody>\n",
              "    <tr>\n",
              "      <th>0</th>\n",
              "      <td>1</td>\n",
              "      <td>15634602</td>\n",
              "      <td>Hargrave</td>\n",
              "      <td>619</td>\n",
              "      <td>France</td>\n",
              "      <td>Female</td>\n",
              "      <td>42</td>\n",
              "      <td>2</td>\n",
              "      <td>0.00</td>\n",
              "      <td>1</td>\n",
              "      <td>1</td>\n",
              "      <td>1</td>\n",
              "      <td>101348.88</td>\n",
              "      <td>1</td>\n",
              "    </tr>\n",
              "    <tr>\n",
              "      <th>1</th>\n",
              "      <td>2</td>\n",
              "      <td>15647311</td>\n",
              "      <td>Hill</td>\n",
              "      <td>608</td>\n",
              "      <td>Spain</td>\n",
              "      <td>Female</td>\n",
              "      <td>41</td>\n",
              "      <td>1</td>\n",
              "      <td>83807.86</td>\n",
              "      <td>1</td>\n",
              "      <td>0</td>\n",
              "      <td>1</td>\n",
              "      <td>112542.58</td>\n",
              "      <td>0</td>\n",
              "    </tr>\n",
              "    <tr>\n",
              "      <th>2</th>\n",
              "      <td>3</td>\n",
              "      <td>15619304</td>\n",
              "      <td>Onio</td>\n",
              "      <td>502</td>\n",
              "      <td>France</td>\n",
              "      <td>Female</td>\n",
              "      <td>42</td>\n",
              "      <td>8</td>\n",
              "      <td>159660.80</td>\n",
              "      <td>3</td>\n",
              "      <td>1</td>\n",
              "      <td>0</td>\n",
              "      <td>113931.57</td>\n",
              "      <td>1</td>\n",
              "    </tr>\n",
              "    <tr>\n",
              "      <th>3</th>\n",
              "      <td>4</td>\n",
              "      <td>15701354</td>\n",
              "      <td>Boni</td>\n",
              "      <td>699</td>\n",
              "      <td>France</td>\n",
              "      <td>Female</td>\n",
              "      <td>39</td>\n",
              "      <td>1</td>\n",
              "      <td>0.00</td>\n",
              "      <td>2</td>\n",
              "      <td>0</td>\n",
              "      <td>0</td>\n",
              "      <td>93826.63</td>\n",
              "      <td>0</td>\n",
              "    </tr>\n",
              "    <tr>\n",
              "      <th>4</th>\n",
              "      <td>5</td>\n",
              "      <td>15737888</td>\n",
              "      <td>Mitchell</td>\n",
              "      <td>850</td>\n",
              "      <td>Spain</td>\n",
              "      <td>Female</td>\n",
              "      <td>43</td>\n",
              "      <td>2</td>\n",
              "      <td>125510.82</td>\n",
              "      <td>1</td>\n",
              "      <td>1</td>\n",
              "      <td>1</td>\n",
              "      <td>79084.10</td>\n",
              "      <td>0</td>\n",
              "    </tr>\n",
              "  </tbody>\n",
              "</table>\n",
              "</div>"
            ],
            "text/plain": [
              "   RowNumber  CustomerId   Surname  CreditScore Geography  Gender  Age  \\\n",
              "0          1    15634602  Hargrave          619    France  Female   42   \n",
              "1          2    15647311      Hill          608     Spain  Female   41   \n",
              "2          3    15619304      Onio          502    France  Female   42   \n",
              "3          4    15701354      Boni          699    France  Female   39   \n",
              "4          5    15737888  Mitchell          850     Spain  Female   43   \n",
              "\n",
              "   Tenure    Balance  NumOfProducts  HasCrCard  IsActiveMember  \\\n",
              "0       2       0.00              1          1               1   \n",
              "1       1   83807.86              1          0               1   \n",
              "2       8  159660.80              3          1               0   \n",
              "3       1       0.00              2          0               0   \n",
              "4       2  125510.82              1          1               1   \n",
              "\n",
              "   EstimatedSalary  Exited  \n",
              "0        101348.88       1  \n",
              "1        112542.58       0  \n",
              "2        113931.57       1  \n",
              "3         93826.63       0  \n",
              "4         79084.10       0  "
            ]
          },
          "metadata": {
            "tags": []
          },
          "execution_count": 4
        }
      ]
    },
    {
      "cell_type": "code",
      "metadata": {
        "id": "qsH1lY1_kKPA",
        "colab_type": "code",
        "colab": {},
        "outputId": "9c8b7089-477e-4437-aa4e-6a10f9503d56"
      },
      "source": [
        "df.info()"
      ],
      "execution_count": 0,
      "outputs": [
        {
          "output_type": "stream",
          "text": [
            "<class 'pandas.core.frame.DataFrame'>\n",
            "RangeIndex: 10000 entries, 0 to 9999\n",
            "Data columns (total 14 columns):\n",
            "RowNumber          10000 non-null int64\n",
            "CustomerId         10000 non-null int64\n",
            "Surname            10000 non-null object\n",
            "CreditScore        10000 non-null int64\n",
            "Geography          10000 non-null object\n",
            "Gender             10000 non-null object\n",
            "Age                10000 non-null int64\n",
            "Tenure             10000 non-null int64\n",
            "Balance            10000 non-null float64\n",
            "NumOfProducts      10000 non-null int64\n",
            "HasCrCard          10000 non-null int64\n",
            "IsActiveMember     10000 non-null int64\n",
            "EstimatedSalary    10000 non-null float64\n",
            "Exited             10000 non-null int64\n",
            "dtypes: float64(2), int64(9), object(3)\n",
            "memory usage: 1.1+ MB\n"
          ],
          "name": "stdout"
        }
      ]
    },
    {
      "cell_type": "code",
      "metadata": {
        "id": "tmLJ3qNTkKPD",
        "colab_type": "code",
        "colab": {},
        "outputId": "99fe836f-de7a-41f0-8ee8-73c707f6f7de"
      },
      "source": [
        "df.describe()"
      ],
      "execution_count": 0,
      "outputs": [
        {
          "output_type": "execute_result",
          "data": {
            "text/html": [
              "<div>\n",
              "<style scoped>\n",
              "    .dataframe tbody tr th:only-of-type {\n",
              "        vertical-align: middle;\n",
              "    }\n",
              "\n",
              "    .dataframe tbody tr th {\n",
              "        vertical-align: top;\n",
              "    }\n",
              "\n",
              "    .dataframe thead th {\n",
              "        text-align: right;\n",
              "    }\n",
              "</style>\n",
              "<table border=\"1\" class=\"dataframe\">\n",
              "  <thead>\n",
              "    <tr style=\"text-align: right;\">\n",
              "      <th></th>\n",
              "      <th>RowNumber</th>\n",
              "      <th>CustomerId</th>\n",
              "      <th>CreditScore</th>\n",
              "      <th>Age</th>\n",
              "      <th>Tenure</th>\n",
              "      <th>Balance</th>\n",
              "      <th>NumOfProducts</th>\n",
              "      <th>HasCrCard</th>\n",
              "      <th>IsActiveMember</th>\n",
              "      <th>EstimatedSalary</th>\n",
              "      <th>Exited</th>\n",
              "    </tr>\n",
              "  </thead>\n",
              "  <tbody>\n",
              "    <tr>\n",
              "      <th>count</th>\n",
              "      <td>10000.00000</td>\n",
              "      <td>1.000000e+04</td>\n",
              "      <td>10000.000000</td>\n",
              "      <td>10000.000000</td>\n",
              "      <td>10000.000000</td>\n",
              "      <td>10000.000000</td>\n",
              "      <td>10000.000000</td>\n",
              "      <td>10000.00000</td>\n",
              "      <td>10000.000000</td>\n",
              "      <td>10000.000000</td>\n",
              "      <td>10000.000000</td>\n",
              "    </tr>\n",
              "    <tr>\n",
              "      <th>mean</th>\n",
              "      <td>5000.50000</td>\n",
              "      <td>1.569094e+07</td>\n",
              "      <td>650.528800</td>\n",
              "      <td>38.921800</td>\n",
              "      <td>5.012800</td>\n",
              "      <td>76485.889288</td>\n",
              "      <td>1.530200</td>\n",
              "      <td>0.70550</td>\n",
              "      <td>0.515100</td>\n",
              "      <td>100090.239881</td>\n",
              "      <td>0.203700</td>\n",
              "    </tr>\n",
              "    <tr>\n",
              "      <th>std</th>\n",
              "      <td>2886.89568</td>\n",
              "      <td>7.193619e+04</td>\n",
              "      <td>96.653299</td>\n",
              "      <td>10.487806</td>\n",
              "      <td>2.892174</td>\n",
              "      <td>62397.405202</td>\n",
              "      <td>0.581654</td>\n",
              "      <td>0.45584</td>\n",
              "      <td>0.499797</td>\n",
              "      <td>57510.492818</td>\n",
              "      <td>0.402769</td>\n",
              "    </tr>\n",
              "    <tr>\n",
              "      <th>min</th>\n",
              "      <td>1.00000</td>\n",
              "      <td>1.556570e+07</td>\n",
              "      <td>350.000000</td>\n",
              "      <td>18.000000</td>\n",
              "      <td>0.000000</td>\n",
              "      <td>0.000000</td>\n",
              "      <td>1.000000</td>\n",
              "      <td>0.00000</td>\n",
              "      <td>0.000000</td>\n",
              "      <td>11.580000</td>\n",
              "      <td>0.000000</td>\n",
              "    </tr>\n",
              "    <tr>\n",
              "      <th>25%</th>\n",
              "      <td>2500.75000</td>\n",
              "      <td>1.562853e+07</td>\n",
              "      <td>584.000000</td>\n",
              "      <td>32.000000</td>\n",
              "      <td>3.000000</td>\n",
              "      <td>0.000000</td>\n",
              "      <td>1.000000</td>\n",
              "      <td>0.00000</td>\n",
              "      <td>0.000000</td>\n",
              "      <td>51002.110000</td>\n",
              "      <td>0.000000</td>\n",
              "    </tr>\n",
              "    <tr>\n",
              "      <th>50%</th>\n",
              "      <td>5000.50000</td>\n",
              "      <td>1.569074e+07</td>\n",
              "      <td>652.000000</td>\n",
              "      <td>37.000000</td>\n",
              "      <td>5.000000</td>\n",
              "      <td>97198.540000</td>\n",
              "      <td>1.000000</td>\n",
              "      <td>1.00000</td>\n",
              "      <td>1.000000</td>\n",
              "      <td>100193.915000</td>\n",
              "      <td>0.000000</td>\n",
              "    </tr>\n",
              "    <tr>\n",
              "      <th>75%</th>\n",
              "      <td>7500.25000</td>\n",
              "      <td>1.575323e+07</td>\n",
              "      <td>718.000000</td>\n",
              "      <td>44.000000</td>\n",
              "      <td>7.000000</td>\n",
              "      <td>127644.240000</td>\n",
              "      <td>2.000000</td>\n",
              "      <td>1.00000</td>\n",
              "      <td>1.000000</td>\n",
              "      <td>149388.247500</td>\n",
              "      <td>0.000000</td>\n",
              "    </tr>\n",
              "    <tr>\n",
              "      <th>max</th>\n",
              "      <td>10000.00000</td>\n",
              "      <td>1.581569e+07</td>\n",
              "      <td>850.000000</td>\n",
              "      <td>92.000000</td>\n",
              "      <td>10.000000</td>\n",
              "      <td>250898.090000</td>\n",
              "      <td>4.000000</td>\n",
              "      <td>1.00000</td>\n",
              "      <td>1.000000</td>\n",
              "      <td>199992.480000</td>\n",
              "      <td>1.000000</td>\n",
              "    </tr>\n",
              "  </tbody>\n",
              "</table>\n",
              "</div>"
            ],
            "text/plain": [
              "         RowNumber    CustomerId   CreditScore           Age        Tenure  \\\n",
              "count  10000.00000  1.000000e+04  10000.000000  10000.000000  10000.000000   \n",
              "mean    5000.50000  1.569094e+07    650.528800     38.921800      5.012800   \n",
              "std     2886.89568  7.193619e+04     96.653299     10.487806      2.892174   \n",
              "min        1.00000  1.556570e+07    350.000000     18.000000      0.000000   \n",
              "25%     2500.75000  1.562853e+07    584.000000     32.000000      3.000000   \n",
              "50%     5000.50000  1.569074e+07    652.000000     37.000000      5.000000   \n",
              "75%     7500.25000  1.575323e+07    718.000000     44.000000      7.000000   \n",
              "max    10000.00000  1.581569e+07    850.000000     92.000000     10.000000   \n",
              "\n",
              "             Balance  NumOfProducts    HasCrCard  IsActiveMember  \\\n",
              "count   10000.000000   10000.000000  10000.00000    10000.000000   \n",
              "mean    76485.889288       1.530200      0.70550        0.515100   \n",
              "std     62397.405202       0.581654      0.45584        0.499797   \n",
              "min         0.000000       1.000000      0.00000        0.000000   \n",
              "25%         0.000000       1.000000      0.00000        0.000000   \n",
              "50%     97198.540000       1.000000      1.00000        1.000000   \n",
              "75%    127644.240000       2.000000      1.00000        1.000000   \n",
              "max    250898.090000       4.000000      1.00000        1.000000   \n",
              "\n",
              "       EstimatedSalary        Exited  \n",
              "count     10000.000000  10000.000000  \n",
              "mean     100090.239881      0.203700  \n",
              "std       57510.492818      0.402769  \n",
              "min          11.580000      0.000000  \n",
              "25%       51002.110000      0.000000  \n",
              "50%      100193.915000      0.000000  \n",
              "75%      149388.247500      0.000000  \n",
              "max      199992.480000      1.000000  "
            ]
          },
          "metadata": {
            "tags": []
          },
          "execution_count": 6
        }
      ]
    },
    {
      "cell_type": "code",
      "metadata": {
        "id": "mSfEs7h3kKPH",
        "colab_type": "code",
        "colab": {},
        "outputId": "651e4fb9-62cb-4eb4-ff7e-5c53b805b376"
      },
      "source": [
        "s_names = len(df['Surname'].unique())\n",
        "print (\"Total unique Surnames are: %0.0f\"  %(s_names))\n",
        "#df['Surname'].value_counts()"
      ],
      "execution_count": 0,
      "outputs": [
        {
          "output_type": "stream",
          "text": [
            "Total unique Surnames are: 2932\n"
          ],
          "name": "stdout"
        }
      ]
    },
    {
      "cell_type": "code",
      "metadata": {
        "id": "VH2Cn23JkKPK",
        "colab_type": "code",
        "colab": {}
      },
      "source": [
        "# columns 'RowNumber', 'CustomerId', 'Surname' to be dropped\n",
        "df_bank = df.drop(labels=['RowNumber','CustomerId','Surname'],axis=1)"
      ],
      "execution_count": 0,
      "outputs": []
    },
    {
      "cell_type": "code",
      "metadata": {
        "id": "FhdxfX-JkKPN",
        "colab_type": "code",
        "colab": {}
      },
      "source": [
        "#User Label encoder for Gender and Geogrpahy to convert into categorical numbers\n",
        "l_encoder = LabelEncoder()\n",
        "df_bank['Gender'] = l_encoder.fit_transform(df['Gender'])\n",
        "df_bank['Geography'] = l_encoder.fit_transform(df['Geography'])"
      ],
      "execution_count": 0,
      "outputs": []
    },
    {
      "cell_type": "code",
      "metadata": {
        "scrolled": false,
        "id": "QetVMPF8kKPP",
        "colab_type": "code",
        "colab": {}
      },
      "source": [
        "# Plot Pair plot for visual analysis of distribution of data in 2 dimension \n",
        "#sns.pairplot(df_bank,diag_kind='kde',hue='Exited')"
      ],
      "execution_count": 0,
      "outputs": []
    },
    {
      "cell_type": "code",
      "metadata": {
        "id": "6NdYP2ldkKPR",
        "colab_type": "code",
        "colab": {}
      },
      "source": [
        "X = df_bank.copy()\n",
        "y = X.pop('Exited')"
      ],
      "execution_count": 0,
      "outputs": []
    },
    {
      "cell_type": "code",
      "metadata": {
        "id": "Pc7k2CGhkKPU",
        "colab_type": "code",
        "colab": {},
        "outputId": "708b6f3c-58ad-43ce-aca5-6a78a4adda3b"
      },
      "source": [
        "#User one hot encoding for Geography as \n",
        "oh_encoder = OneHotEncoder(sparse=False, categorical_features=[1])\n",
        "X = oh_encoder.fit_transform(df_bank)"
      ],
      "execution_count": 0,
      "outputs": [
        {
          "output_type": "stream",
          "text": [
            "/var/anaconda/lib/python3.7/site-packages/sklearn/preprocessing/_encoders.py:371: FutureWarning: The handling of integer data will change in version 0.22. Currently, the categories are determined based on the range [0, max(values)], while in the future they will be determined based on the unique values.\n",
            "If you want the future behaviour and silence this warning, you can specify \"categories='auto'\".\n",
            "In case you used a LabelEncoder before this OneHotEncoder to convert the categories to integers, then you can now use the OneHotEncoder directly.\n",
            "  warnings.warn(msg, FutureWarning)\n",
            "/var/anaconda/lib/python3.7/site-packages/sklearn/preprocessing/_encoders.py:392: DeprecationWarning: The 'categorical_features' keyword is deprecated in version 0.20 and will be removed in 0.22. You can use the ColumnTransformer instead.\n",
            "  \"use the ColumnTransformer instead.\", DeprecationWarning)\n"
          ],
          "name": "stderr"
        }
      ]
    },
    {
      "cell_type": "code",
      "metadata": {
        "id": "dUVaP5pHkKPX",
        "colab_type": "code",
        "colab": {},
        "outputId": "2a570d50-a367-4024-aae7-5b80055c187d"
      },
      "source": [
        "X.shape, y.shape"
      ],
      "execution_count": 0,
      "outputs": [
        {
          "output_type": "execute_result",
          "data": {
            "text/plain": [
              "((10000, 13), (10000,))"
            ]
          },
          "metadata": {
            "tags": []
          },
          "execution_count": 13
        }
      ]
    },
    {
      "cell_type": "code",
      "metadata": {
        "id": "F-4hn8e7kKPb",
        "colab_type": "code",
        "colab": {}
      },
      "source": [
        "# Split data into train and test\n",
        "from sklearn.model_selection import train_test_split\n",
        "X_train, X_test, y_train, y_test = train_test_split(X,y,test_size=0.3,random_state = 10)"
      ],
      "execution_count": 0,
      "outputs": []
    },
    {
      "cell_type": "code",
      "metadata": {
        "id": "9ZOxG9iKkKPe",
        "colab_type": "code",
        "colab": {}
      },
      "source": [
        "# Scale data\n",
        "from sklearn.preprocessing import StandardScaler\n",
        "scaler = StandardScaler()\n",
        "\n",
        "X_train = scaler.fit_transform(X_train)\n",
        "X_test = scaler.fit_transform(X_test)"
      ],
      "execution_count": 0,
      "outputs": []
    },
    {
      "cell_type": "code",
      "metadata": {
        "id": "AGN3axKekKPh",
        "colab_type": "code",
        "colab": {},
        "outputId": "c376504e-5505-4e7d-ee09-b45242f9ab7d"
      },
      "source": [
        "# Checking accuracy with Logistic Regression\n",
        "from sklearn.linear_model import LogisticRegression\n",
        "\n",
        "lr = LogisticRegression()\n",
        "lr.fit(X_train,y_train)\n",
        "lr_pred = lr.predict(X_test)\n",
        "\n",
        "from sklearn.metrics import confusion_matrix\n",
        "cm = confusion_matrix(y_test, lr_pred)\n",
        "print(cm)"
      ],
      "execution_count": 0,
      "outputs": [
        {
          "output_type": "stream",
          "text": [
            "[[2380    0]\n",
            " [   0  620]]\n"
          ],
          "name": "stdout"
        },
        {
          "output_type": "stream",
          "text": [
            "/var/anaconda/lib/python3.7/site-packages/sklearn/linear_model/logistic.py:433: FutureWarning: Default solver will be changed to 'lbfgs' in 0.22. Specify a solver to silence this warning.\n",
            "  FutureWarning)\n"
          ],
          "name": "stderr"
        }
      ]
    },
    {
      "cell_type": "code",
      "metadata": {
        "id": "TbQRmDf8kKPk",
        "colab_type": "code",
        "colab": {},
        "outputId": "5ebdca49-0ac1-4e88-d53d-8071329683fc"
      },
      "source": [
        "# create ANN\n",
        "import tensorflow as tf\n",
        "tf.__version__"
      ],
      "execution_count": 0,
      "outputs": [
        {
          "output_type": "execute_result",
          "data": {
            "text/plain": [
              "'2.0.0-alpha0'"
            ]
          },
          "metadata": {
            "tags": []
          },
          "execution_count": 17
        }
      ]
    },
    {
      "cell_type": "code",
      "metadata": {
        "id": "Emen2-TYkKPp",
        "colab_type": "code",
        "colab": {}
      },
      "source": [
        "from tensorflow.keras.models import Sequential\n",
        "from tensorflow.keras.layers import Dense"
      ],
      "execution_count": 0,
      "outputs": []
    },
    {
      "cell_type": "code",
      "metadata": {
        "id": "oAhpmze9kKPs",
        "colab_type": "code",
        "colab": {}
      },
      "source": [
        "y_train = tf.keras.utils.to_categorical(y_train, num_classes=2)\n",
        "y_test = tf.keras.utils.to_categorical(y_test, num_classes=2)"
      ],
      "execution_count": 0,
      "outputs": []
    },
    {
      "cell_type": "code",
      "metadata": {
        "id": "y6F_64G5kKPw",
        "colab_type": "code",
        "colab": {}
      },
      "source": [
        "model = Sequential()\n",
        "model.add(Dense(units=6, input_shape=(13,),activation='relu'))\n",
        "model.add(Dense(units=3, activation='relu'))\n",
        "model.add(Dense(units=2,activation='sigmoid'))"
      ],
      "execution_count": 0,
      "outputs": []
    },
    {
      "cell_type": "code",
      "metadata": {
        "id": "VYU079xbkKPz",
        "colab_type": "code",
        "colab": {},
        "outputId": "3f9ecf50-cc8f-401d-836c-216c8704a693"
      },
      "source": [
        "model.compile(optimizer='sgd',loss='categorical_crossentropy', metrics=['accuracy'])\n",
        "model.summary()"
      ],
      "execution_count": 0,
      "outputs": [
        {
          "output_type": "stream",
          "text": [
            "Model: \"sequential\"\n",
            "_________________________________________________________________\n",
            "Layer (type)                 Output Shape              Param #   \n",
            "=================================================================\n",
            "dense (Dense)                (None, 6)                 84        \n",
            "_________________________________________________________________\n",
            "dense_1 (Dense)              (None, 3)                 21        \n",
            "_________________________________________________________________\n",
            "dense_2 (Dense)              (None, 2)                 8         \n",
            "=================================================================\n",
            "Total params: 113\n",
            "Trainable params: 113\n",
            "Non-trainable params: 0\n",
            "_________________________________________________________________\n"
          ],
          "name": "stdout"
        }
      ]
    },
    {
      "cell_type": "code",
      "metadata": {
        "id": "KESqlfsekKP6",
        "colab_type": "code",
        "colab": {},
        "outputId": "91ae3a44-036f-4ad3-e890-cc72e5df0f6c"
      },
      "source": [
        "model.fit(X_train, y_train, \n",
        "          validation_data=(X_test, y_test), \n",
        "          epochs=100,\n",
        "          batch_size=32)"
      ],
      "execution_count": 0,
      "outputs": [
        {
          "output_type": "stream",
          "text": [
            "Train on 7000 samples, validate on 3000 samples\n",
            "Epoch 1/100\n",
            "7000/7000 [==============================] - 1s 107us/sample - loss: 0.7373 - accuracy: 0.3037 - val_loss: 0.7111 - val_accuracy: 0.5023\n",
            "Epoch 2/100\n",
            "7000/7000 [==============================] - 0s 57us/sample - loss: 0.6888 - accuracy: 0.5767 - val_loss: 0.6683 - val_accuracy: 0.6660\n",
            "Epoch 3/100\n",
            "7000/7000 [==============================] - 0s 63us/sample - loss: 0.6498 - accuracy: 0.7406 - val_loss: 0.6322 - val_accuracy: 0.7763\n",
            "Epoch 4/100\n",
            "7000/7000 [==============================] - 0s 64us/sample - loss: 0.6156 - accuracy: 0.7897 - val_loss: 0.5995 - val_accuracy: 0.7910\n",
            "Epoch 5/100\n",
            "7000/7000 [==============================] - 0s 63us/sample - loss: 0.5839 - accuracy: 0.7950 - val_loss: 0.5687 - val_accuracy: 0.7943\n",
            "Epoch 6/100\n",
            "7000/7000 [==============================] - 0s 70us/sample - loss: 0.5536 - accuracy: 0.7973 - val_loss: 0.5391 - val_accuracy: 0.7943\n",
            "Epoch 7/100\n",
            "7000/7000 [==============================] - 0s 67us/sample - loss: 0.5243 - accuracy: 0.7990 - val_loss: 0.5104 - val_accuracy: 0.7940\n",
            "Epoch 8/100\n",
            "7000/7000 [==============================] - 0s 70us/sample - loss: 0.4959 - accuracy: 0.7989 - val_loss: 0.4829 - val_accuracy: 0.7930\n",
            "Epoch 9/100\n",
            "7000/7000 [==============================] - 0s 62us/sample - loss: 0.4688 - accuracy: 0.7990 - val_loss: 0.4569 - val_accuracy: 0.7930\n",
            "Epoch 10/100\n",
            "7000/7000 [==============================] - 0s 56us/sample - loss: 0.4432 - accuracy: 0.7991 - val_loss: 0.4328 - val_accuracy: 0.7930\n",
            "Epoch 11/100\n",
            "7000/7000 [==============================] - 0s 59us/sample - loss: 0.4196 - accuracy: 0.7989 - val_loss: 0.4106 - val_accuracy: 0.7933\n",
            "Epoch 12/100\n",
            "7000/7000 [==============================] - 0s 62us/sample - loss: 0.3978 - accuracy: 0.7990 - val_loss: 0.3904 - val_accuracy: 0.7937\n",
            "Epoch 13/100\n",
            "7000/7000 [==============================] - 0s 64us/sample - loss: 0.3781 - accuracy: 0.7989 - val_loss: 0.3722 - val_accuracy: 0.7937\n",
            "Epoch 14/100\n",
            "7000/7000 [==============================] - 1s 80us/sample - loss: 0.3603 - accuracy: 0.7989 - val_loss: 0.3557 - val_accuracy: 0.7937\n",
            "Epoch 15/100\n",
            "7000/7000 [==============================] - 1s 81us/sample - loss: 0.3441 - accuracy: 0.7989 - val_loss: 0.3408 - val_accuracy: 0.7937\n",
            "Epoch 16/100\n",
            "7000/7000 [==============================] - 0s 67us/sample - loss: 0.3295 - accuracy: 0.7991 - val_loss: 0.3272 - val_accuracy: 0.7937\n",
            "Epoch 17/100\n",
            "7000/7000 [==============================] - 0s 69us/sample - loss: 0.3162 - accuracy: 0.7994 - val_loss: 0.3147 - val_accuracy: 0.7937\n",
            "Epoch 18/100\n",
            "7000/7000 [==============================] - 0s 64us/sample - loss: 0.3040 - accuracy: 0.7997 - val_loss: 0.3032 - val_accuracy: 0.7940\n",
            "Epoch 19/100\n",
            "7000/7000 [==============================] - 1s 76us/sample - loss: 0.2927 - accuracy: 0.7999 - val_loss: 0.2924 - val_accuracy: 0.7943\n",
            "Epoch 20/100\n",
            "7000/7000 [==============================] - 1s 75us/sample - loss: 0.2821 - accuracy: 0.8003 - val_loss: 0.2822 - val_accuracy: 0.7947\n",
            "Epoch 21/100\n",
            "7000/7000 [==============================] - 0s 71us/sample - loss: 0.2722 - accuracy: 0.8009 - val_loss: 0.2726 - val_accuracy: 0.7963\n",
            "Epoch 22/100\n",
            "7000/7000 [==============================] - 1s 73us/sample - loss: 0.2627 - accuracy: 0.8023 - val_loss: 0.2633 - val_accuracy: 0.7987\n",
            "Epoch 23/100\n",
            "7000/7000 [==============================] - 0s 59us/sample - loss: 0.2536 - accuracy: 0.8041 - val_loss: 0.2544 - val_accuracy: 0.8023\n",
            "Epoch 24/100\n",
            "7000/7000 [==============================] - 0s 60us/sample - loss: 0.2448 - accuracy: 0.8071 - val_loss: 0.2457 - val_accuracy: 0.8050\n",
            "Epoch 25/100\n",
            "7000/7000 [==============================] - 0s 62us/sample - loss: 0.2362 - accuracy: 0.8124 - val_loss: 0.2372 - val_accuracy: 0.8083\n",
            "Epoch 26/100\n",
            "7000/7000 [==============================] - 0s 65us/sample - loss: 0.2277 - accuracy: 0.8180 - val_loss: 0.2286 - val_accuracy: 0.8150\n",
            "Epoch 27/100\n",
            "7000/7000 [==============================] - 0s 71us/sample - loss: 0.2193 - accuracy: 0.8281 - val_loss: 0.2201 - val_accuracy: 0.8240\n",
            "Epoch 28/100\n",
            "7000/7000 [==============================] - 0s 71us/sample - loss: 0.2108 - accuracy: 0.8436 - val_loss: 0.2116 - val_accuracy: 0.8403\n",
            "Epoch 29/100\n",
            "7000/7000 [==============================] - 0s 63us/sample - loss: 0.2025 - accuracy: 0.8646 - val_loss: 0.2032 - val_accuracy: 0.8623\n",
            "Epoch 30/100\n",
            "7000/7000 [==============================] - 0s 67us/sample - loss: 0.1942 - accuracy: 0.8927 - val_loss: 0.1949 - val_accuracy: 0.8920\n",
            "Epoch 31/100\n",
            "7000/7000 [==============================] - 0s 65us/sample - loss: 0.1861 - accuracy: 0.9170 - val_loss: 0.1867 - val_accuracy: 0.9163\n",
            "Epoch 32/100\n",
            "7000/7000 [==============================] - 0s 62us/sample - loss: 0.1780 - accuracy: 0.9444 - val_loss: 0.1786 - val_accuracy: 0.9467\n",
            "Epoch 33/100\n",
            "7000/7000 [==============================] - 0s 62us/sample - loss: 0.1700 - accuracy: 0.9606 - val_loss: 0.1704 - val_accuracy: 0.9667\n",
            "Epoch 34/100\n",
            "7000/7000 [==============================] - 0s 65us/sample - loss: 0.1621 - accuracy: 0.9744 - val_loss: 0.1624 - val_accuracy: 0.9790\n",
            "Epoch 35/100\n",
            "7000/7000 [==============================] - 0s 62us/sample - loss: 0.1542 - accuracy: 0.9839 - val_loss: 0.1545 - val_accuracy: 0.9850\n",
            "Epoch 36/100\n",
            "7000/7000 [==============================] - 0s 66us/sample - loss: 0.1464 - accuracy: 0.9896 - val_loss: 0.1465 - val_accuracy: 0.9887\n",
            "Epoch 37/100\n",
            "7000/7000 [==============================] - 0s 66us/sample - loss: 0.1386 - accuracy: 0.9931 - val_loss: 0.1387 - val_accuracy: 0.9920\n",
            "Epoch 38/100\n",
            "7000/7000 [==============================] - 0s 63us/sample - loss: 0.1309 - accuracy: 0.9953 - val_loss: 0.1310 - val_accuracy: 0.9943\n",
            "Epoch 39/100\n",
            "7000/7000 [==============================] - 0s 62us/sample - loss: 0.1234 - accuracy: 0.9957 - val_loss: 0.1233 - val_accuracy: 0.9953\n",
            "Epoch 40/100\n",
            "7000/7000 [==============================] - 0s 66us/sample - loss: 0.1160 - accuracy: 0.9959 - val_loss: 0.1159 - val_accuracy: 0.9973\n",
            "Epoch 41/100\n",
            "7000/7000 [==============================] - 0s 67us/sample - loss: 0.1088 - accuracy: 0.9967 - val_loss: 0.1086 - val_accuracy: 0.9983\n",
            "Epoch 42/100\n",
            "7000/7000 [==============================] - 0s 55us/sample - loss: 0.1018 - accuracy: 0.9977 - val_loss: 0.1016 - val_accuracy: 0.9987\n",
            "Epoch 43/100\n",
            "7000/7000 [==============================] - 0s 62us/sample - loss: 0.0951 - accuracy: 0.9980 - val_loss: 0.0949 - val_accuracy: 0.9990\n",
            "Epoch 44/100\n",
            "7000/7000 [==============================] - 0s 56us/sample - loss: 0.0887 - accuracy: 0.9986 - val_loss: 0.0884 - val_accuracy: 0.9993\n",
            "Epoch 45/100\n",
            "7000/7000 [==============================] - 0s 57us/sample - loss: 0.0826 - accuracy: 0.9986 - val_loss: 0.0823 - val_accuracy: 0.9993\n",
            "Epoch 46/100\n",
            "7000/7000 [==============================] - 0s 58us/sample - loss: 0.0768 - accuracy: 0.9989 - val_loss: 0.0765 - val_accuracy: 0.9997\n",
            "Epoch 47/100\n",
            "7000/7000 [==============================] - 0s 57us/sample - loss: 0.0714 - accuracy: 0.9990 - val_loss: 0.0711 - val_accuracy: 1.0000\n",
            "Epoch 48/100\n",
            "7000/7000 [==============================] - 0s 64us/sample - loss: 0.0663 - accuracy: 0.9993 - val_loss: 0.0661 - val_accuracy: 1.0000\n",
            "Epoch 49/100\n",
            "7000/7000 [==============================] - 0s 58us/sample - loss: 0.0616 - accuracy: 0.9994 - val_loss: 0.0614 - val_accuracy: 1.0000\n",
            "Epoch 50/100\n",
            "7000/7000 [==============================] - 0s 64us/sample - loss: 0.0573 - accuracy: 0.9996 - val_loss: 0.0571 - val_accuracy: 1.0000\n",
            "Epoch 51/100\n",
            "7000/7000 [==============================] - 0s 60us/sample - loss: 0.0533 - accuracy: 0.9997 - val_loss: 0.0532 - val_accuracy: 1.0000\n",
            "Epoch 52/100\n",
            "7000/7000 [==============================] - 0s 66us/sample - loss: 0.0496 - accuracy: 0.9997 - val_loss: 0.0495 - val_accuracy: 1.0000\n",
            "Epoch 53/100\n",
            "7000/7000 [==============================] - 0s 62us/sample - loss: 0.0462 - accuracy: 0.9997 - val_loss: 0.0462 - val_accuracy: 1.0000\n",
            "Epoch 54/100\n",
            "7000/7000 [==============================] - 0s 59us/sample - loss: 0.0432 - accuracy: 0.9997 - val_loss: 0.0431 - val_accuracy: 1.0000\n",
            "Epoch 55/100\n",
            "7000/7000 [==============================] - 0s 58us/sample - loss: 0.0403 - accuracy: 0.9999 - val_loss: 0.0403 - val_accuracy: 1.0000\n"
          ],
          "name": "stdout"
        },
        {
          "output_type": "stream",
          "text": [
            "Epoch 56/100\n",
            "7000/7000 [==============================] - 0s 64us/sample - loss: 0.0378 - accuracy: 0.9999 - val_loss: 0.0377 - val_accuracy: 1.0000\n",
            "Epoch 57/100\n",
            "7000/7000 [==============================] - 0s 61us/sample - loss: 0.0354 - accuracy: 0.9999 - val_loss: 0.0354 - val_accuracy: 1.0000\n",
            "Epoch 58/100\n",
            "7000/7000 [==============================] - 0s 57us/sample - loss: 0.0332 - accuracy: 0.9999 - val_loss: 0.0332 - val_accuracy: 1.0000\n",
            "Epoch 59/100\n",
            "7000/7000 [==============================] - 0s 56us/sample - loss: 0.0313 - accuracy: 0.9999 - val_loss: 0.0313 - val_accuracy: 1.0000\n",
            "Epoch 60/100\n",
            "7000/7000 [==============================] - 0s 57us/sample - loss: 0.0294 - accuracy: 0.9999 - val_loss: 0.0295 - val_accuracy: 1.0000\n",
            "Epoch 61/100\n",
            "7000/7000 [==============================] - 0s 63us/sample - loss: 0.0278 - accuracy: 0.9999 - val_loss: 0.0278 - val_accuracy: 1.0000\n",
            "Epoch 62/100\n",
            "7000/7000 [==============================] - 0s 62us/sample - loss: 0.0263 - accuracy: 0.9999 - val_loss: 0.0263 - val_accuracy: 1.0000\n",
            "Epoch 63/100\n",
            "7000/7000 [==============================] - 0s 60us/sample - loss: 0.0248 - accuracy: 1.0000 - val_loss: 0.0249 - val_accuracy: 1.0000\n",
            "Epoch 64/100\n",
            "7000/7000 [==============================] - 0s 62us/sample - loss: 0.0236 - accuracy: 1.0000 - val_loss: 0.0236 - val_accuracy: 1.0000\n",
            "Epoch 65/100\n",
            "7000/7000 [==============================] - 0s 67us/sample - loss: 0.0224 - accuracy: 1.0000 - val_loss: 0.0224 - val_accuracy: 1.0000\n",
            "Epoch 66/100\n",
            "7000/7000 [==============================] - 0s 65us/sample - loss: 0.0213 - accuracy: 1.0000 - val_loss: 0.0213 - val_accuracy: 1.0000\n",
            "Epoch 67/100\n",
            "7000/7000 [==============================] - 0s 63us/sample - loss: 0.0202 - accuracy: 1.0000 - val_loss: 0.0203 - val_accuracy: 1.0000\n",
            "Epoch 68/100\n",
            "7000/7000 [==============================] - 0s 59us/sample - loss: 0.0193 - accuracy: 1.0000 - val_loss: 0.0194 - val_accuracy: 1.0000\n",
            "Epoch 69/100\n",
            "7000/7000 [==============================] - 0s 55us/sample - loss: 0.0184 - accuracy: 1.0000 - val_loss: 0.0185 - val_accuracy: 1.0000\n",
            "Epoch 70/100\n",
            "7000/7000 [==============================] - 0s 61us/sample - loss: 0.0176 - accuracy: 1.0000 - val_loss: 0.0177 - val_accuracy: 1.0000\n",
            "Epoch 71/100\n",
            "7000/7000 [==============================] - 0s 62us/sample - loss: 0.0168 - accuracy: 1.0000 - val_loss: 0.0169 - val_accuracy: 1.0000\n",
            "Epoch 72/100\n",
            "7000/7000 [==============================] - 0s 63us/sample - loss: 0.0161 - accuracy: 1.0000 - val_loss: 0.0162 - val_accuracy: 1.0000\n",
            "Epoch 73/100\n",
            "7000/7000 [==============================] - 0s 55us/sample - loss: 0.0155 - accuracy: 1.0000 - val_loss: 0.0155 - val_accuracy: 1.0000\n",
            "Epoch 74/100\n",
            "7000/7000 [==============================] - 0s 61us/sample - loss: 0.0148 - accuracy: 1.0000 - val_loss: 0.0149 - val_accuracy: 1.0000\n",
            "Epoch 75/100\n",
            "7000/7000 [==============================] - 0s 56us/sample - loss: 0.0142 - accuracy: 1.0000 - val_loss: 0.0143 - val_accuracy: 1.0000\n",
            "Epoch 76/100\n",
            "7000/7000 [==============================] - 0s 66us/sample - loss: 0.0137 - accuracy: 1.0000 - val_loss: 0.0138 - val_accuracy: 1.0000\n",
            "Epoch 77/100\n",
            "7000/7000 [==============================] - 0s 64us/sample - loss: 0.0132 - accuracy: 1.0000 - val_loss: 0.0133 - val_accuracy: 1.0000\n",
            "Epoch 78/100\n",
            "7000/7000 [==============================] - 0s 55us/sample - loss: 0.0127 - accuracy: 1.0000 - val_loss: 0.0128 - val_accuracy: 1.0000\n",
            "Epoch 79/100\n",
            "7000/7000 [==============================] - 0s 61us/sample - loss: 0.0123 - accuracy: 1.0000 - val_loss: 0.0123 - val_accuracy: 1.0000\n",
            "Epoch 80/100\n",
            "7000/7000 [==============================] - 0s 57us/sample - loss: 0.0118 - accuracy: 1.0000 - val_loss: 0.0119 - val_accuracy: 1.0000\n",
            "Epoch 81/100\n",
            "7000/7000 [==============================] - 0s 60us/sample - loss: 0.0114 - accuracy: 1.0000 - val_loss: 0.0115 - val_accuracy: 1.0000\n",
            "Epoch 82/100\n",
            "7000/7000 [==============================] - 0s 60us/sample - loss: 0.0110 - accuracy: 1.0000 - val_loss: 0.0111 - val_accuracy: 1.0000\n",
            "Epoch 83/100\n",
            "7000/7000 [==============================] - 0s 70us/sample - loss: 0.0107 - accuracy: 1.0000 - val_loss: 0.0107 - val_accuracy: 1.0000\n",
            "Epoch 84/100\n",
            "7000/7000 [==============================] - 0s 63us/sample - loss: 0.0103 - accuracy: 1.0000 - val_loss: 0.0104 - val_accuracy: 1.0000\n",
            "Epoch 85/100\n",
            "7000/7000 [==============================] - 0s 66us/sample - loss: 0.0100 - accuracy: 1.0000 - val_loss: 0.0101 - val_accuracy: 1.0000\n",
            "Epoch 86/100\n",
            "7000/7000 [==============================] - 0s 61us/sample - loss: 0.0097 - accuracy: 1.0000 - val_loss: 0.0098 - val_accuracy: 1.0000\n",
            "Epoch 87/100\n",
            "7000/7000 [==============================] - 0s 57us/sample - loss: 0.0094 - accuracy: 1.0000 - val_loss: 0.0095 - val_accuracy: 1.0000\n",
            "Epoch 88/100\n",
            "7000/7000 [==============================] - 0s 67us/sample - loss: 0.0091 - accuracy: 1.0000 - val_loss: 0.0092 - val_accuracy: 1.0000\n",
            "Epoch 89/100\n",
            "7000/7000 [==============================] - 0s 67us/sample - loss: 0.0089 - accuracy: 1.0000 - val_loss: 0.0089 - val_accuracy: 1.0000\n",
            "Epoch 90/100\n",
            "7000/7000 [==============================] - 0s 57us/sample - loss: 0.0086 - accuracy: 1.0000 - val_loss: 0.0087 - val_accuracy: 1.0000\n",
            "Epoch 91/100\n",
            "7000/7000 [==============================] - 0s 59us/sample - loss: 0.0084 - accuracy: 1.0000 - val_loss: 0.0084 - val_accuracy: 1.0000\n",
            "Epoch 92/100\n",
            "7000/7000 [==============================] - 0s 61us/sample - loss: 0.0082 - accuracy: 1.0000 - val_loss: 0.0082 - val_accuracy: 1.0000\n",
            "Epoch 93/100\n",
            "7000/7000 [==============================] - 0s 68us/sample - loss: 0.0079 - accuracy: 1.0000 - val_loss: 0.0080 - val_accuracy: 1.0000\n",
            "Epoch 94/100\n",
            "7000/7000 [==============================] - 0s 63us/sample - loss: 0.0077 - accuracy: 1.0000 - val_loss: 0.0078 - val_accuracy: 1.0000\n",
            "Epoch 95/100\n",
            "7000/7000 [==============================] - 0s 59us/sample - loss: 0.0075 - accuracy: 1.0000 - val_loss: 0.0076 - val_accuracy: 1.0000\n",
            "Epoch 96/100\n",
            "7000/7000 [==============================] - 0s 58us/sample - loss: 0.0073 - accuracy: 1.0000 - val_loss: 0.0074 - val_accuracy: 1.0000\n",
            "Epoch 97/100\n",
            "7000/7000 [==============================] - 0s 59us/sample - loss: 0.0072 - accuracy: 1.0000 - val_loss: 0.0072 - val_accuracy: 1.0000\n",
            "Epoch 98/100\n",
            "7000/7000 [==============================] - 0s 66us/sample - loss: 0.0070 - accuracy: 1.0000 - val_loss: 0.0070 - val_accuracy: 1.0000\n",
            "Epoch 99/100\n",
            "7000/7000 [==============================] - 1s 72us/sample - loss: 0.0068 - accuracy: 1.0000 - val_loss: 0.0068 - val_accuracy: 1.0000\n",
            "Epoch 100/100\n",
            "7000/7000 [==============================] - 1s 78us/sample - loss: 0.0067 - accuracy: 1.0000 - val_loss: 0.0067 - val_accuracy: 1.0000\n"
          ],
          "name": "stdout"
        },
        {
          "output_type": "execute_result",
          "data": {
            "text/plain": [
              "<tensorflow.python.keras.callbacks.History at 0x7f03b41c1eb8>"
            ]
          },
          "metadata": {
            "tags": []
          },
          "execution_count": 22
        }
      ]
    },
    {
      "cell_type": "code",
      "metadata": {
        "id": "Hg1Fgoi0kKP8",
        "colab_type": "code",
        "colab": {}
      },
      "source": [
        "y_pred_cat = model.predict(X_test)"
      ],
      "execution_count": 0,
      "outputs": []
    },
    {
      "cell_type": "code",
      "metadata": {
        "id": "IP_8Ej0nkKP_",
        "colab_type": "code",
        "colab": {}
      },
      "source": [
        "y_pred=[]\n",
        "y_actual =[]\n",
        "for i in range(len(y_pred_cat)):\n",
        "    y_pred.append(np.argmax(y_pred_cat[i]))\n",
        "    y_actual.append(np.argmax(y_test[i]))"
      ],
      "execution_count": 0,
      "outputs": []
    },
    {
      "cell_type": "code",
      "metadata": {
        "id": "-x-toQMmkKQC",
        "colab_type": "code",
        "colab": {},
        "outputId": "8d96a314-0d3d-4fa9-dbaf-b35b194729ee"
      },
      "source": [
        "from sklearn.metrics import confusion_matrix\n",
        "cm = confusion_matrix(y_actual, y_pred)\n",
        "print(cm)"
      ],
      "execution_count": 0,
      "outputs": [
        {
          "output_type": "stream",
          "text": [
            "[[2380    0]\n",
            " [   0  620]]\n"
          ],
          "name": "stdout"
        }
      ]
    }
  ]
}