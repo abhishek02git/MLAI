{
  "nbformat": 4,
  "nbformat_minor": 0,
  "metadata": {
    "colab": {
      "name": "SeqNLP_Project1_Answers.ipynb",
      "provenance": [],
      "collapsed_sections": [],
      "include_colab_link": true
    },
    "kernelspec": {
      "name": "python3",
      "display_name": "Python 3"
    },
    "accelerator": "GPU"
  },
  "cells": [
    {
      "cell_type": "markdown",
      "metadata": {
        "id": "view-in-github",
        "colab_type": "text"
      },
      "source": [
        "<a href=\"https://colab.research.google.com/github/GreatLearningAIML1/gurgaon-feb-batch-abhishek02git/blob/master/SeqNLP_Project1_Answers.ipynb\" target=\"_parent\"><img src=\"https://colab.research.google.com/assets/colab-badge.svg\" alt=\"Open In Colab\"/></a>"
      ]
    },
    {
      "cell_type": "markdown",
      "metadata": {
        "colab_type": "text",
        "id": "xT7MKZuMRaCg"
      },
      "source": [
        "# Sentiment Classification\n"
      ]
    },
    {
      "cell_type": "code",
      "metadata": {
        "id": "tyIeD46LSfLb",
        "colab_type": "code",
        "outputId": "6478af03-0de6-4b2f-fe53-98d44cf01dbd",
        "colab": {
          "base_uri": "https://localhost:8080/",
          "height": 121
        }
      },
      "source": [
        "from google.colab import drive\n",
        "drive.mount('/gdrive')"
      ],
      "execution_count": 0,
      "outputs": [
        {
          "output_type": "stream",
          "text": [
            "Go to this URL in a browser: https://accounts.google.com/o/oauth2/auth?client_id=947318989803-6bn6qk8qdgf4n4g3pfee6491hc0brc4i.apps.googleusercontent.com&redirect_uri=urn%3aietf%3awg%3aoauth%3a2.0%3aoob&response_type=code&scope=email%20https%3a%2f%2fwww.googleapis.com%2fauth%2fdocs.test%20https%3a%2f%2fwww.googleapis.com%2fauth%2fdrive%20https%3a%2f%2fwww.googleapis.com%2fauth%2fdrive.photos.readonly%20https%3a%2f%2fwww.googleapis.com%2fauth%2fpeopleapi.readonly\n",
            "\n",
            "Enter your authorization code:\n",
            "··········\n",
            "Mounted at /gdrive\n"
          ],
          "name": "stdout"
        }
      ]
    },
    {
      "cell_type": "markdown",
      "metadata": {
        "colab_type": "text",
        "id": "Wq4RCyyPSYRp"
      },
      "source": [
        "## Loading the dataset"
      ]
    },
    {
      "cell_type": "code",
      "metadata": {
        "colab_type": "code",
        "id": "NGCtiXUhSWss",
        "colab": {}
      },
      "source": [
        "from keras.datasets import imdb\n",
        "\n",
        "vocab_size = 10000 #vocab size\n",
        "\n",
        "(x_train, y_train), (x_test, y_test) = imdb.load_data(num_words=vocab_size) # vocab_size is no.of words to consider from the dataset, ordering based on frequency."
      ],
      "execution_count": 0,
      "outputs": []
    },
    {
      "cell_type": "code",
      "metadata": {
        "id": "1dzEOTNgZiOg",
        "colab_type": "code",
        "outputId": "be6c7d03-f85d-4f33-8497-780d0d4d8527",
        "colab": {
          "base_uri": "https://localhost:8080/",
          "height": 134
        }
      },
      "source": [
        "x_train"
      ],
      "execution_count": 0,
      "outputs": [
        {
          "output_type": "execute_result",
          "data": {
            "text/plain": [
              "array([[   0,    0,    0, ...,   19,  178,   32],\n",
              "       [   0,    0,    0, ...,   16,  145,   95],\n",
              "       [   0,    0,    0, ...,    7,  129,  113],\n",
              "       ...,\n",
              "       [   0,    0,    0, ...,    4, 3586,    2],\n",
              "       [   0,    0,    0, ...,   12,    9,   23],\n",
              "       [   0,    0,    0, ...,  204,  131,    9]], dtype=int32)"
            ]
          },
          "metadata": {
            "tags": []
          },
          "execution_count": 63
        }
      ]
    },
    {
      "cell_type": "code",
      "metadata": {
        "id": "fCPC_WN-eCyw",
        "colab_type": "code",
        "colab": {}
      },
      "source": [
        "from keras.preprocessing.sequence import pad_sequences\n",
        "vocab_size = 10000 #vocab size\n",
        "maxlen = 300  #number of word used from each review"
      ],
      "execution_count": 0,
      "outputs": []
    },
    {
      "cell_type": "markdown",
      "metadata": {
        "id": "qMEsHYrWxdtk",
        "colab_type": "text"
      },
      "source": [
        "## Train test split"
      ]
    },
    {
      "cell_type": "code",
      "metadata": {
        "id": "h0g381XzeCyz",
        "colab_type": "code",
        "colab": {}
      },
      "source": [
        "#load dataset as a list of ints\n",
        "(x_train, y_train), (x_test, y_test) = imdb.load_data(num_words=vocab_size)\n",
        "#make all sequences of the same length\n",
        "x_train = pad_sequences(x_train, maxlen=maxlen)\n",
        "x_test =  pad_sequences(x_test, maxlen=maxlen)"
      ],
      "execution_count": 0,
      "outputs": []
    },
    {
      "cell_type": "code",
      "metadata": {
        "id": "Jy6n-uM2eCy2",
        "colab_type": "code",
        "outputId": "15f32347-865b-4aa8-bf59-7c2b92ce8503",
        "colab": {
          "base_uri": "https://localhost:8080/",
          "height": 134
        }
      },
      "source": [
        "x_test"
      ],
      "execution_count": 0,
      "outputs": [
        {
          "output_type": "execute_result",
          "data": {
            "text/plain": [
              "array([[   0,    0,    0, ...,   14,    6,  717],\n",
              "       [   0,    0,    0, ...,  125,    4, 3077],\n",
              "       [1239, 5189,  137, ...,    9,   57,  975],\n",
              "       ...,\n",
              "       [   0,    0,    0, ...,   21,  846, 5518],\n",
              "       [   0,    0,    0, ..., 2302,    7,  470],\n",
              "       [   0,    0,    0, ...,   34, 2005, 2643]], dtype=int32)"
            ]
          },
          "metadata": {
            "tags": []
          },
          "execution_count": 35
        }
      ]
    },
    {
      "cell_type": "code",
      "metadata": {
        "id": "ejfeDYy8L1VM",
        "colab_type": "code",
        "colab": {}
      },
      "source": [
        "# Creating the key value pair with index and value\n",
        "word_index = imdb.get_word_index()                                    \n",
        "reverse_word_index = dict([(value,key) for (key,value) in sorted(word_index.items())])"
      ],
      "execution_count": 0,
      "outputs": []
    },
    {
      "cell_type": "code",
      "metadata": {
        "id": "prTvwaqKOOZ0",
        "colab_type": "code",
        "outputId": "738dea30-043c-4c6f-835a-3b008d0665ef",
        "colab": {
          "base_uri": "https://localhost:8080/",
          "height": 1000
        }
      },
      "source": [
        "reverse_word_index"
      ],
      "execution_count": 0,
      "outputs": [
        {
          "output_type": "execute_result",
          "data": {
            "text/plain": [
              "{68893: '\\x08\\x08\\x08\\x08a',\n",
              " 70879: '\\x10own',\n",
              " 755: \"'\",\n",
              " 17448: \"''\",\n",
              " 57351: \"''a\",\n",
              " 64015: \"''after\",\n",
              " 72030: \"''bad\",\n",
              " 58448: \"''cannibal\",\n",
              " 80824: \"''clients''\",\n",
              " 66872: \"''dark''\",\n",
              " 52876: \"''empire\",\n",
              " 85943: \"''family\",\n",
              " 58747: \"''gaslight''\",\n",
              " 75354: \"''heart''\",\n",
              " 66908: \"''high\",\n",
              " 83565: \"''holy\",\n",
              " 61364: \"''human''\",\n",
              " 88090: \"''humans''\",\n",
              " 61351: \"''i'm\",\n",
              " 62727: \"''if\",\n",
              " 61770: \"''inuyasha''\",\n",
              " 58164: \"''little''\",\n",
              " 85895: \"''maison\",\n",
              " 62202: \"''ned''\",\n",
              " 76149: \"''negative''\",\n",
              " 57008: \"''nice\",\n",
              " 45418: \"''oh\",\n",
              " 66910: \"''on\",\n",
              " 75509: \"''oversexed''\",\n",
              " 81867: \"''peeping\",\n",
              " 76109: \"''professionals''\",\n",
              " 44903: \"''ranma\",\n",
              " 70722: \"''raptors''\",\n",
              " 55138: \"''return\",\n",
              " 51394: \"''saint\",\n",
              " 51257: \"''scarface''\",\n",
              " 49404: \"''sea\",\n",
              " 84926: \"''talent\",\n",
              " 81627: \"''terrorists''\",\n",
              " 20197: \"''the\",\n",
              " 84051: \"''their\",\n",
              " 66430: \"''this\",\n",
              " 87604: \"''thunderball\",\n",
              " 79833: \"''troubled''\",\n",
              " 66417: \"''unpleasant\",\n",
              " 71277: \"''villain\",\n",
              " 70370: \"''voyeur''\",\n",
              " 66244: \"''we're\",\n",
              " 65559: \"''while''\",\n",
              " 65411: \"''your\",\n",
              " 47109: \"''zero\",\n",
              " 79347: \"'0\",\n",
              " 30582: \"'00s\",\n",
              " 24377: \"'01\",\n",
              " 32858: \"'02\",\n",
              " 32859: \"'03\",\n",
              " 32856: \"'04\",\n",
              " 38134: \"'05\",\n",
              " 32857: \"'06\",\n",
              " 34094: \"'07\",\n",
              " 47119: \"'08\",\n",
              " 79346: \"'1\",\n",
              " 39270: \"'1'\",\n",
              " 79074: \"'10\",\n",
              " 24957: \"'10'\",\n",
              " 24746: \"'12\",\n",
              " 69312: \"'1408'\",\n",
              " 65699: \"'1902'\",\n",
              " 60730: \"'1909\",\n",
              " 75118: \"'1940'\",\n",
              " 35883: \"'2'\",\n",
              " 69564: \"'2001\",\n",
              " 60473: \"'20s\",\n",
              " 87592: \"'24\",\n",
              " 40710: \"'24'\",\n",
              " 35882: \"'28\",\n",
              " 65650: \"'30\",\n",
              " 18972: \"'30's\",\n",
              " 12641: \"'30s\",\n",
              " 32136: \"'34\",\n",
              " 65652: \"'38\",\n",
              " 65651: \"'39\",\n",
              " 73766: \"'3rd\",\n",
              " 49196: \"'4\",\n",
              " 44164: \"'4'\",\n",
              " 82137: \"'40\",\n",
              " 18786: \"'40's\",\n",
              " 14047: \"'40s\",\n",
              " 62912: \"'41\",\n",
              " 28530: \"'42\",\n",
              " 58169: \"'42nd\",\n",
              " 44167: \"'43\",\n",
              " 36549: \"'44\",\n",
              " 62913: \"'45\",\n",
              " 44168: \"'46\",\n",
              " 62914: \"'47\",\n",
              " 44169: \"'48\",\n",
              " 53118: \"'4th\",\n",
              " 70028: \"'5'\",\n",
              " 20059: \"'50's\",\n",
              " 10858: \"'50s\",\n",
              " 32577: \"'51\",\n",
              " 27785: \"'54\",\n",
              " 70030: \"'55\",\n",
              " 86437: \"'56\",\n",
              " 18164: \"'60's\",\n",
              " 73411: \"'60ies\",\n",
              " 7490: \"'60s\",\n",
              " 34412: \"'61\",\n",
              " 51222: \"'62\",\n",
              " 21818: \"'63\",\n",
              " 86010: \"'65\",\n",
              " 30360: \"'66\",\n",
              " 86008: \"'67\",\n",
              " 20524: \"'68\",\n",
              " 51220: \"'69\",\n",
              " 35449: \"'70\",\n",
              " 14305: \"'70's\",\n",
              " 53965: \"'70ies\",\n",
              " 5816: \"'70s\",\n",
              " 68388: \"'70s'\",\n",
              " 48839: \"'71\",\n",
              " 58118: \"'72\",\n",
              " 9282: \"'73\",\n",
              " 62089: \"'74'\",\n",
              " 48838: \"'75\",\n",
              " 27952: \"'76\",\n",
              " 19633: \"'77\",\n",
              " 31069: \"'78\",\n",
              " 39115: \"'79\",\n",
              " 29837: \"'8\",\n",
              " 36727: \"'80\",\n",
              " 12122: \"'80's\",\n",
              " 88466: \"'80ies\",\n",
              " 7420: \"'80s\",\n",
              " 70047: \"'82\",\n",
              " 25423: \"'83\",\n",
              " 30909: \"'84\",\n",
              " 82162: \"'84'\",\n",
              " 35211: \"'85\",\n",
              " 25422: \"'86\",\n",
              " 41678: \"'87\",\n",
              " 66068: \"'87'\",\n",
              " 25424: \"'88\",\n",
              " 35212: \"'89\",\n",
              " 79348: \"'9\",\n",
              " 20937: \"'90\",\n",
              " 86179: \"'90'\",\n",
              " 18181: \"'90's\",\n",
              " 14327: \"'90s\",\n",
              " 36308: \"'91\",\n",
              " 85582: \"'91'd\",\n",
              " 31675: \"'92\",\n",
              " 31674: \"'93\",\n",
              " 28413: \"'94\",\n",
              " 31673: \"'95\",\n",
              " 23859: \"'96\",\n",
              " 25869: \"'97\",\n",
              " 28414: \"'98\",\n",
              " 43724: \"'99\",\n",
              " 8140: \"'a\",\n",
              " 21806: \"'a'\",\n",
              " 75995: \"'aakrosh'\",\n",
              " 42542: \"'aankhen'\",\n",
              " 53623: \"'aavjo\",\n",
              " 82625: \"'abandon\",\n",
              " 67975: \"'abbot'\",\n",
              " 87765: \"'able'\",\n",
              " 40869: \"'about\",\n",
              " 76848: \"'above\",\n",
              " 85562: \"'absence\",\n",
              " 82790: \"'absorbed'\",\n",
              " 62725: \"'accident'\",\n",
              " 86618: \"'accidental'\",\n",
              " 43773: \"'accidentally'\",\n",
              " 55315: \"'accidently'\",\n",
              " 80326: \"'accidents'\",\n",
              " 70057: \"'accurate'\",\n",
              " 62100: \"'ace\",\n",
              " 87740: \"'achcha\",\n",
              " 62099: \"'ack\",\n",
              " 29162: \"'act'\",\n",
              " 61270: \"'acting\",\n",
              " 24609: \"'acting'\",\n",
              " 35174: \"'action\",\n",
              " 34548: \"'action'\",\n",
              " 46795: \"'actor'\",\n",
              " 22045: \"'actors'\",\n",
              " 41224: \"'actress'\",\n",
              " 72637: \"'acts'\",\n",
              " 64458: \"'addiction'\",\n",
              " 76884: \"'additional\",\n",
              " 71204: \"'adelaide'\",\n",
              " 81996: \"'admire'\",\n",
              " 79017: \"'adolescent'\",\n",
              " 54616: \"'adopts'\",\n",
              " 45305: \"'adult\",\n",
              " 23330: \"'adult'\",\n",
              " 82462: \"'adulthood'\",\n",
              " 69484: \"'adventures\",\n",
              " 59915: \"'adventures'\",\n",
              " 56226: \"'adviser'\",\n",
              " 69050: \"'advisor'\",\n",
              " 71179: \"'afraid'\",\n",
              " 61061: \"'africa'\",\n",
              " 43367: \"'after\",\n",
              " 54085: \"'afternoon\",\n",
              " 51106: \"'ah\",\n",
              " 68785: \"'ahhh'\",\n",
              " 58130: \"'ahlan\",\n",
              " 78839: \"'aimee\",\n",
              " 68174: \"'aint\",\n",
              " 43520: \"'airplane'\",\n",
              " 58455: \"'airs\",\n",
              " 80580: \"'akira'\",\n",
              " 72267: \"'al\",\n",
              " 56338: \"'aladdin'\",\n",
              " 42725: \"'alan\",\n",
              " 71960: \"'alberta\",\n",
              " 71427: \"'aldar\",\n",
              " 57397: \"'alex'\",\n",
              " 75773: \"'alice'\",\n",
              " 27755: \"'alien'\",\n",
              " 67776: \"'alienator\",\n",
              " 48730: \"'aliens'\",\n",
              " 17687: \"'all\",\n",
              " 56832: \"'all'\",\n",
              " 86911: \"'allergic\",\n",
              " 69756: \"'alley\",\n",
              " 53227: \"'alligator\",\n",
              " 42303: \"'allo\",\n",
              " 80023: \"'allows'\",\n",
              " 79851: \"'almighty\",\n",
              " 37821: \"'almost\",\n",
              " 87001: \"'alone\",\n",
              " 82964: \"'alpha\",\n",
              " 58023: \"'alrite'\",\n",
              " 52355: \"'always\",\n",
              " 74094: \"'always'\",\n",
              " 85660: \"'am\",\n",
              " 70873: \"'amadeus'\",\n",
              " 63252: \"'amateur\",\n",
              " 84164: \"'amateur'\",\n",
              " 53602: \"'amatuerish'\",\n",
              " 53998: \"'amazing\",\n",
              " 84830: \"'amazon\",\n",
              " 84902: \"'america's\",\n",
              " 24162: \"'american\",\n",
              " 81470: \"'americana'\",\n",
              " 54121: \"'americans\",\n",
              " 58984: \"'amusement\",\n",
              " 20512: \"'an\",\n",
              " 80178: \"'anaesthetic\",\n",
              " 57118: \"'anastasia\",\n",
              " 41917: \"'anatomy\",\n",
              " 33385: \"'and\",\n",
              " 59091: \"'andres\",\n",
              " 55944: \"'andy'\",\n",
              " 66098: \"'angel\",\n",
              " 80536: \"'angel'\",\n",
              " 53478: \"'angles\",\n",
              " 76646: \"'animal\",\n",
              " 61958: \"'animals'\",\n",
              " 72415: \"'animatronics'\",\n",
              " 65242: \"'anime\",\n",
              " 51864: \"'anita\",\n",
              " 69073: \"'ankhein'\",\n",
              " 53897: \"'annie'\",\n",
              " 82781: \"'annihilate'\",\n",
              " 75254: \"'anniyan'\",\n",
              " 51290: \"'annoying'\",\n",
              " 53464: \"'anonymous\",\n",
              " 50971: \"'anonymous'\",\n",
              " 87569: \"'another\",\n",
              " 77449: \"'anthony'\",\n",
              " 31663: \"'anti\",\n",
              " 82000: \"'anti'\",\n",
              " 73146: \"'anticlimactic'\",\n",
              " 84827: \"'antigone'\",\n",
              " 37277: \"'antz'\",\n",
              " 77079: \"'any\",\n",
              " 76716: \"'anywhere\",\n",
              " 60390: \"'ape\",\n",
              " 55055: \"'apocalypse\",\n",
              " 66325: \"'apocalypto'\",\n",
              " 61025: \"'apparently'\",\n",
              " 43443: \"'arc'\",\n",
              " 32361: \"'are\",\n",
              " 70243: \"'aren't\",\n",
              " 68872: \"'arm'scene\",\n",
              " 74274: \"'arms\",\n",
              " 79462: \"'arold\",\n",
              " 67204: \"'arrangement'\",\n",
              " 62903: \"'arriba\",\n",
              " 80029: \"'arse'\",\n",
              " 24138: \"'art\",\n",
              " 26080: \"'art'\",\n",
              " 70538: \"'arthouse\",\n",
              " 79738: \"'arthur\",\n",
              " 30107: \"'arthur'\",\n",
              " 59659: \"'artistic\",\n",
              " 43672: \"'artistic'\",\n",
              " 44736: \"'artsy'\",\n",
              " 75374: \"'arty'\",\n",
              " 52962: \"'aruman'\",\n",
              " 40357: \"'as\",\n",
              " 67735: \"'asian\",\n",
              " 60748: \"'ask\",\n",
              " 66092: \"'asked'\",\n",
              " 76218: \"'aspidistra'\",\n",
              " 57139: \"'assa'\",\n",
              " 79215: \"'assassins'\",\n",
              " 76052: \"'assi\",\n",
              " 48523: \"'assistants'\",\n",
              " 77328: \"'associates'\",\n",
              " 40356: \"'at\",\n",
              " 64062: \"'atlantis'\",\n",
              " 41348: \"'attack\",\n",
              " 74611: \"'attack'\",\n",
              " 59078: \"'attacker'\",\n",
              " 50847: \"'attacks'\",\n",
              " 57753: \"'attonment'\",\n",
              " 44528: \"'attractive'\",\n",
              " 76751: \"'attributes'\",\n",
              " 85658: \"'au\",\n",
              " 50570: \"'auctions'\",\n",
              " 79027: \"'audience'\",\n",
              " 44597: \"'audition'\",\n",
              " 64936: \"'auf\",\n",
              " 61130: \"'aunt\",\n",
              " 49642: \"'aura'\",\n",
              " 42069: \"'auscrit'\",\n",
              " 77849: \"'aussie'\",\n",
              " 88343: \"'austin\",\n",
              " 53837: \"'auteur\",\n",
              " 66970: \"'authenticity'\",\n",
              " 55187: \"'author's\",\n",
              " 60336: \"'avalon'\",\n",
              " 68047: \"'avanti\",\n",
              " 42878: \"'average'\",\n",
              " 61704: \"'aving\",\n",
              " 85657: \"'aw\",\n",
              " 83230: \"'awakening\",\n",
              " 59082: \"'awakenings'\",\n",
              " 70319: \"'away\",\n",
              " 75964: \"'awe\",\n",
              " 35707: \"'awful'\",\n",
              " 85656: \"'ax\",\n",
              " 79355: \"'b\",\n",
              " 15723: \"'b'\",\n",
              " 59567: \"'baap'\",\n",
              " 54674: \"'babban'\",\n",
              " 33376: \"'babe'\",\n",
              " 45413: \"'baby\",\n",
              " 86579: \"'baby'\",\n",
              " 79912: \"'bachchan\",\n",
              " 25768: \"'back\",\n",
              " 68940: \"'backbeat'\",\n",
              " 53559: \"'backdrop'\",\n",
              " 57401: \"'backstage\",\n",
              " 57205: \"'backstage'\",\n",
              " 52707: \"'backwards\",\n",
              " 13768: \"'bad\",\n",
              " 18053: \"'bad'\",\n",
              " 82730: \"'baddies'\",\n",
              " 71222: \"'bade\",\n",
              " 86421: \"'badguys'\",\n",
              " 83498: \"'bagman'\",\n",
              " 60912: \"'bake\",\n",
              " 61451: \"'balderdash\",\n",
              " 72589: \"'balderdash'\",\n",
              " 88488: \"'balkanized'\",\n",
              " 52222: \"'ball\",\n",
              " 76773: \"'ballplayer'\",\n",
              " 59594: \"'baloney'\",\n",
              " 75048: \"'band\",\n",
              " 80914: \"'banjo\",\n",
              " 34765: \"'baptists\",\n",
              " 44844: \"'bar\",\n",
              " 76284: \"'barbara\",\n",
              " 49838: \"'baretta's\",\n",
              " 63613: \"'bargain\",\n",
              " 83201: \"'barnaby\",\n",
              " 62617: \"'baroque'\",\n",
              " 74925: \"'barry\",\n",
              " 58877: \"'basanti'\",\n",
              " 36512: \"'based\",\n",
              " 65077: \"'based'\",\n",
              " 84712: \"'baseketball'\",\n",
              " 53455: \"'basic\",\n",
              " 68077: \"'bastards\",\n",
              " 37603: \"'batman\",\n",
              " 53519: \"'batman'\",\n",
              " 71336: \"'battle\",\n",
              " 69478: \"'bavarian'\",\n",
              " 52601: \"'bawdy\",\n",
              " 35772: \"'bazza'\",\n",
              " 36966: \"'be\",\n",
              " 65247: \"'be'\",\n",
              " 83751: \"'beaches'\",\n",
              " 73831: \"'beano'\",\n",
              " 58173: \"'bear'\",\n",
              " 74034: \"'beard'\",\n",
              " 61118: \"'beards'\",\n",
              " 44855: \"'beast\",\n",
              " 46733: \"'beast'\",\n",
              " 51766: \"'beat\",\n",
              " 87892: \"'beau\",\n",
              " 47955: \"'beautiful\",\n",
              " 40257: \"'beautiful'\",\n",
              " 32145: \"'beauty\",\n",
              " 68155: \"'beauty'\",\n",
              " 83687: \"'beckham'\",\n",
              " 35711: \"'bedazzled'\",\n",
              " 52267: \"'bedchamber\",\n",
              " 43427: \"'been\",\n",
              " 53888: \"'beetle\",\n",
              " 49908: \"'before\",\n",
              " 78142: \"'begin'\",\n",
              " 76550: \"'beginning\",\n",
              " 80161: \"'behind\",\n",
              " 70808: \"'beiderbecke'\",\n",
              " 31040: \"'being\",\n",
              " 62084: \"'bejeebers'\",\n",
              " 58161: \"'believable'\",\n",
              " 39351: \"'bellini'\",\n",
              " 63018: \"'below\",\n",
              " 72878: \"'bend\",\n",
              " 78562: \"'benjy'\",\n",
              " 78898: \"'beryl'\",\n",
              " 38663: \"'best\",\n",
              " 47758: \"'best'\",\n",
              " 55954: \"'betaab'\",\n",
              " 58078: \"'betcha\",\n",
              " 75123: \"'beverly\",\n",
              " 46911: \"'bewafaa'\",\n",
              " 76161: \"'bewitched'\",\n",
              " 51181: \"'beyond\",\n",
              " 76207: \"'bibbity\",\n",
              " 16210: \"'big\",\n",
              " 29765: \"'big'\",\n",
              " 52785: \"'bigger\",\n",
              " 48557: \"'bill\",\n",
              " 83067: \"'biloxi'\",\n",
              " 64003: \"'bingham'\",\n",
              " 75416: \"'bipolarity'\",\n",
              " 48905: \"'birth\",\n",
              " 47237: \"'birthday\",\n",
              " 83107: \"'bismillahhirrahmannirrahim\",\n",
              " 65211: \"'bite'\",\n",
              " 53501: \"'bizet's\",\n",
              " 16925: \"'black\",\n",
              " 78405: \"'black'\",\n",
              " 71821: \"'blackadder\",\n",
              " 61747: \"'blackboard\",\n",
              " 57545: \"'blackie'\",\n",
              " 64788: \"'blacky'\",\n",
              " 38484: \"'blade\",\n",
              " 64169: \"'blair\",\n",
              " 64074: \"'blankman'\",\n",
              " 54569: \"'blarney'\",\n",
              " 52363: \"'bleedmedry\",\n",
              " 43417: \"'blessed\",\n",
              " 50830: \"'blind\",\n",
              " 45912: \"'blind'\",\n",
              " 74286: \"'blithe\",\n",
              " 57214: \"'blockbuster'\",\n",
              " 73260: \"'blockbusters'\",\n",
              " 53791: \"'blonde\",\n",
              " 62169: \"'blonde'\",\n",
              " 76233: \"'blondie'\",\n",
              " 19768: \"'blood\",\n",
              " 45250: \"'blood'\",\n",
              " 52922: \"'bloodsucking\",\n",
              " 37343: \"'bloodsurfing'\",\n",
              " 66343: \"'bloody\",\n",
              " 73242: \"'bloopers'\",\n",
              " 22556: \"'blue\",\n",
              " 45795: \"'body\",\n",
              " 80303: \"'boeing\",\n",
              " 87679: \"'bogey'\",\n",
              " 40294: \"'bogus\",\n",
              " 38583: \"'bogus'\",\n",
              " 44574: \"'bohemian\",\n",
              " 85496: \"'boils'\",\n",
              " 65203: \"'bollbuster'\",\n",
              " 67294: \"'bombadier'\",\n",
              " 45978: \"'bonanza'\",\n",
              " 78735: \"'bond'\",\n",
              " 51594: \"'bonjour\",\n",
              " 41922: \"'bonnie\",\n",
              " 62623: \"'bonus'\",\n",
              " 55928: \"'boo'\",\n",
              " 50983: \"'boogey\",\n",
              " 48114: \"'boogie\",\n",
              " 42019: \"'book\",\n",
              " 84084: \"'boom'\",\n",
              " 70470: \"'border'\",\n",
              " 71403: \"'boriac\",\n",
              " 77754: \"'borrow'\",\n",
              " 44402: \"'boss'\",\n",
              " 46609: \"'bot\",\n",
              " 62435: \"'bother'\",\n",
              " 62994: \"'bought\",\n",
              " 19744: \"'bout\",\n",
              " 26476: \"'boy\",\n",
              " 87314: \"'boy'\",\n",
              " 78530: \"'boys'\",\n",
              " 86893: \"'brain\",\n",
              " 41669: \"'brand\",\n",
              " 56797: \"'brass\",\n",
              " 35112: \"'brave\",\n",
              " 86857: \"'braveheart\",\n",
              " 74524: \"'bravery'\",\n",
              " 42472: \"'break\",\n",
              " 81762: \"'breakdancing'\",\n",
              " 60854: \"'breaker\",\n",
              " 34723: \"'breakfast\",\n",
              " 70176: \"'breakfast'\",\n",
              " 64746: \"'breakin'\",\n",
              " 44749: \"'breaking\",\n",
              " 52430: \"'breather'\",\n",
              " 55938: \"'brella\",\n",
              " 70027: \"'bride\",\n",
              " 61758: \"'brideless\",\n",
              " 77639: \"'brides'\",\n",
              " 52353: \"'bridge\",\n",
              " 57501: \"'brief\",\n",
              " 72166: \"'bright\",\n",
              " 62164: \"'brilliant\",\n",
              " 81901: \"'bring\",\n",
              " 81608: \"'british\",\n",
              " 48717: \"'broken\",\n",
              " 44510: \"'brooklyn'\",\n",
              " 63439: \"'brotherly\",\n",
              " 72244: \"'brothers\",\n",
              " 50313: \"'bruce\",\n",
              " 63943: \"'brutal\",\n",
              " 59667: \"'btk\",\n",
              " 76714: \"'bub'\",\n",
              " 88521: \"'bubbling'\",\n",
              " 69857: \"'bubbly'\",\n",
              " 31842: \"'bud'\",\n",
              " 43878: \"'buddy\",\n",
              " 53629: \"'budget\",\n",
              " 86678: \"'budget'\",\n",
              " 78887: \"'build\",\n",
              " 84809: \"'bullied'\",\n",
              " 59283: \"'bullshit'\",\n",
              " 55415: \"'bully'\",\n",
              " 73177: \"'bulu'\",\n",
              " 69589: \"'bunny\",\n",
              " 66672: \"'bunny'\",\n",
              " 77878: \"'burbs\",\n",
              " 70540: \"'burlesque\",\n",
              " 60528: \"'burners'\",\n",
              " 64988: \"'burning\",\n",
              " 68853: \"'bus'\",\n",
              " 71911: \"'buses'\",\n",
              " 57329: \"'bushwhackers'\",\n",
              " 26206: \"'but\",\n",
              " 57624: \"'butch\",\n",
              " 44873: \"'butcher\",\n",
              " 78994: \"'butterfield\",\n",
              " 54129: \"'butthorn'\",\n",
              " 45327: \"'buy\",\n",
              " 64531: \"'buys\",\n",
              " 66151: \"'buzz'\",\n",
              " 44936: \"'by\",\n",
              " 79354: \"'c\",\n",
              " 47028: \"'c'\",\n",
              " 37932: \"'cabin\",\n",
              " 59335: \"'caca\",\n",
              " 62060: \"'cafe\",\n",
              " 81342: \"'caitlin\",\n",
              " 77068: \"'cake\",\n",
              " 79491: \"'calamity\",\n",
              " 75538: \"'california\",\n",
              " 49970: \"'call'\",\n",
              " 52414: \"'calm'\",\n",
              " 63509: \"'came\",\n",
              " 63511: \"'camp\",\n",
              " 33708: \"'camp'\",\n",
              " 78596: \"'campy'\",\n",
              " 32163: \"'can\",\n",
              " 66976: \"'candid'\",\n",
              " 75621: \"'candy\",\n",
              " 75266: \"'candy'\",\n",
              " 70227: \"'cannes'\",\n",
              " 43345: \"'cannibal\",\n",
              " 73115: \"'cape\",\n",
              " 66696: \"'caper\",\n",
              " 45890: \"'capital\",\n",
              " 88312: \"'caprica'\",\n",
              " 39621: \"'captain\",\n",
              " 45108: \"'car\",\n",
              " 64837: \"'care\",\n",
              " 48770: \"'care'\",\n",
              " 81850: \"'careful\",\n",
              " 70418: \"'caricature'\",\n",
              " 71267: \"'caring'\",\n",
              " 82220: \"'carlos\",\n",
              " 56779: \"'carmen\",\n",
              " 51516: \"'carmilla'\",\n",
              " 87763: \"'carol's\",\n",
              " 62433: \"'carousel\",\n",
              " 86165: \"'carrie'\",\n",
              " 58002: \"'carriers'\",\n",
              " 47417: \"'carter'\",\n",
              " 82784: \"'cartoonish'\",\n",
              " 51979: \"'cartoons'\",\n",
              " 83459: \"'cartwheels'\",\n",
              " 46053: \"'casablanca'\",\n",
              " 84920: \"'casino\",\n",
              " 60627: \"'cast\",\n",
              " 75333: \"'castaway'\",\n",
              " 40734: \"'castle\",\n",
              " 37060: \"'cat\",\n",
              " 67689: \"'cat'\",\n",
              " 56600: \"'catch\",\n",
              " 79241: \"'categories'\",\n",
              " 45405: \"'caught'\",\n",
              " 6745: \"'cause\",\n",
              " 86288: \"'cbs\",\n",
              " 61430: \"'celebrity\",\n",
              " 54947: \"'celebrity'\",\n",
              " 85139: \"'celeste\",\n",
              " 59973: \"'central'\",\n",
              " 88192: \"'certain\",\n",
              " 86658: \"'chairman'\",\n",
              " 56396: \"'challenge'\",\n",
              " 60766: \"'chameleon'\",\n",
              " 55211: \"'chance'\",\n",
              " 55223: \"'chances\",\n",
              " 68026: \"'chandler's\",\n",
              " 59496: \"'change\",\n",
              " 59969: \"'change'\",\n",
              " 75213: \"'chaplain\",\n",
              " 59386: \"'chapters'\",\n",
              " 59086: \"'character\",\n",
              " 34743: \"'character'\",\n",
              " 69808: \"'characterisation'\",\n",
              " 51182: \"'characters'\",\n",
              " 44006: \"'chariots\",\n",
              " 71225: \"'charismatic'\",\n",
              " 63968: \"'charlie's\",\n",
              " 77277: \"'charlotte'\",\n",
              " 65349: \"'charm\",\n",
              " 74199: \"'charming'\",\n",
              " 72337: \"'chase\",\n",
              " 63123: \"'chasers'\",\n",
              " 59366: \"'chatty'\",\n",
              " 30940: \"'che\",\n",
              " 36569: \"'che'\",\n",
              " 43218: \"'cheap'\",\n",
              " 55634: \"'check\",\n",
              " 61516: \"'check'\",\n",
              " 57011: \"'cheepnis\",\n",
              " 83001: \"'cheese'\",\n",
              " 79887: \"'cheesefest\",\n",
              " 61680: \"'cheesiness'\",\n",
              " 66376: \"'cheesy'\",\n",
              " 70823: \"'chelsea\",\n",
              " 59111: \"'cherchez\",\n",
              " 53818: \"'chi'\",\n",
              " 28098: \"'chick\",\n",
              " 81094: \"'child\",\n",
              " 38335: \"'child'\",\n",
              " 43852: \"'children'\",\n",
              " 68767: \"'chill\",\n",
              " 47427: \"'chinese\",\n",
              " 73181: \"'chip'\",\n",
              " 62168: \"'chrissy'\",\n",
              " 71486: \"'christian\",\n",
              " 64904: \"'christian'\",\n",
              " 65053: \"'christiany'\",\n",
              " 42366: \"'christmas\",\n",
              " 65897: \"'chundering'\",\n",
              " 60262: \"'ciao\",\n",
              " 62752: \"'cinderella\",\n",
              " 46121: \"'cinema\",\n",
              " 76820: \"'cinema'\",\n",
              " 78474: \"'cinemagic\",\n",
              " 76269: \"'cinéma\",\n",
              " 21946: \"'citizen\",\n",
              " 44607: \"'city\",\n",
              " 41269: \"'civilization'\",\n",
              " 58401: \"'clair\",\n",
              " 36190: \"'class'\",\n",
              " 54589: \"'classes'\",\n",
              " 80558: \"'classic\",\n",
              " 20562: \"'classic'\",\n",
              " 33007: \"'classics'\",\n",
              " 58492: \"'classified'\",\n",
              " 81819: \"'classy'\",\n",
              " 73465: \"'claw'\",\n",
              " 62071: \"'clean\",\n",
              " 29878: \"'clean'\",\n",
              " 68113: \"'cleans'\",\n",
              " 56633: \"'cleo'\",\n",
              " 58929: \"'clerks'\",\n",
              " 77399: \"'clever'\",\n",
              " 68544: \"'click'\",\n",
              " 67558: \"'clickety\",\n",
              " 61992: \"'cliff\",\n",
              " 29280: \"'cliffhanger'\",\n",
              " 63412: \"'clime\",\n",
              " 60376: \"'cliques'\",\n",
              " 65933: \"'clobber\",\n",
              " 63280: \"'clockstoppers'\",\n",
              " 40878: \"'clockwork\",\n",
              " 52434: \"'close'\",\n",
              " 74659: \"'clowning'\",\n",
              " 64077: \"'club\",\n",
              " 44609: \"'clue'\",\n",
              " 64256: \"'clueless'\",\n",
              " 74521: \"'coast\",\n",
              " 78114: \"'cockney'\",\n",
              " 66685: \"'coerced\",\n",
              " 62653: \"'cojones'\",\n",
              " 79555: \"'collide'\",\n",
              " 88171: \"'colorful'\",\n",
              " 58857: \"'colorization'\",\n",
              " 42359: \"'colossus'\",\n",
              " 38076: \"'columbo'\",\n",
              " 74829: \"'columbu'\",\n",
              " 80002: \"'combo'\",\n",
              " 70535: \"'combusts'\",\n",
              " 39585: \"'come\",\n",
              " 85742: \"'comedic\",\n",
              " 41690: \"'comedies'\",\n",
              " 50750: \"'comedy\",\n",
              " 19561: \"'comedy'\",\n",
              " 46772: \"'comic\",\n",
              " 84851: \"'comics\",\n",
              " 34299: \"'coming\",\n",
              " 56288: \"'comment'\",\n",
              " 58520: \"'comments\",\n",
              " 74445: \"'common\",\n",
              " 77779: \"'communist'\",\n",
              " 66812: \"'communistophobia'\",\n",
              " 60119: \"'companion'\",\n",
              " 66436: \"'companions'\",\n",
              " 60774: \"'company'\",\n",
              " 46983: \"'complete'\",\n",
              " 57701: \"'completionists'\",\n",
              " 73887: \"'compulsion'\",\n",
              " 56366: \"'conceit'\",\n",
              " 75612: \"'conceiving\",\n",
              " 63938: \"'concert'\",\n",
              " 72263: \"'concho'\",\n",
              " 70110: \"'concider\",\n",
              " 49180: \"'conflict'\",\n",
              " 83050: \"'conformist'\",\n",
              " 84023: \"'confused\",\n",
              " 39327: \"'congorilla'\",\n",
              " 67338: \"'connect'\",\n",
              " 64740: \"'conquerors'\",\n",
              " 70673: \"'conquest'\",\n",
              " 66329: \"'conservative\",\n",
              " 78656: \"'conspiracy\",\n",
              " 67529: \"'consumer\",\n",
              " 76985: \"'contaminated\",\n",
              " 62826: \"'contaminating'\",\n",
              " 71677: \"'contamination\",\n",
              " 61060: \"'contemplative\",\n",
              " 71946: \"'contemporary'\",\n",
              " 52401: \"'contract'\",\n",
              " 87966: \"'control'\",\n",
              " 48541: \"'controversial'\",\n",
              " 70002: \"'conventional'\",\n",
              " 65025: \"'cookie\",\n",
              " 28121: \"'cool\",\n",
              " 38793: \"'cool'\",\n",
              " 70141: \"'cooze'\",\n",
              " 71531: \"'cop\",\n",
              " 66135: \"'cop'\",\n",
              " 66144: \"'cops\",\n",
              " 54934: \"'cops'\",\n",
              " 87550: \"'copy'\",\n",
              " 41964: \"'corky\",\n",
              " 52117: \"'corny'\",\n",
              " 80655: \"'corporate\",\n",
              " 80944: \"'corporations\",\n",
              " 78052: \"'corrective\",\n",
              " 28213: \"'cos\",\n",
              " 61369: \"'costumes'\",\n",
              " 73238: \"'could\",\n",
              " 50254: \"'could'\",\n",
              " 54704: \"'council'\",\n",
              " 55281: \"'count'\",\n",
              " 58687: \"'counter\",\n",
              " 37016: \"'country\",\n",
              " 60101: \"'courageous'\",\n",
              " 85489: \"'course\",\n",
              " 72356: \"'court\",\n",
              " 71942: \"'cousin\",\n",
              " 60470: \"'cowardice'\",\n",
              " 47400: \"'cowboy'\",\n",
              " 46790: \"'coz\",\n",
              " 73676: \"'cradle\",\n",
              " 84169: \"'craft\",\n",
              " 52303: \"'craig'\",\n",
              " 81899: \"'crains'\",\n",
              " 65347: \"'crammed'\",\n",
              " 59785: \"'crap'\",\n",
              " 49739: \"'crashers'\",\n",
              " 41882: \"'crazy'\",\n",
              " 54866: \"'creamed'\",\n",
              " 63877: \"'creaming'\",\n",
              " 83810: \"'create'\",\n",
              " 52871: \"'created\",\n",
              " 60727: \"'creative\",\n",
              " 78929: \"'creators'\",\n",
              " 19563: \"'creature\",\n",
              " 41214: \"'creature'\",\n",
              " 79665: \"'creatures'\\x85or\",\n",
              " 60585: \"'credit'\",\n",
              " 33941: \"'creep'\",\n",
              " 73674: \"'cretinism'\",\n",
              " 73046: \"'cretins'\",\n",
              " 56590: \"'crew'\",\n",
              " 80554: \"'cries\",\n",
              " 61710: \"'crime\",\n",
              " 77538: \"'crimes\",\n",
              " 57427: \"'criminals\",\n",
              " 60586: \"'criminals'\",\n",
              " 48939: \"'critters'\",\n",
              " 46171: \"'crocodile\",\n",
              " 61295: \"'crocodile'\",\n",
              " 51243: \"'crossroads'\",\n",
              " 71890: \"'crowd'\",\n",
              " 46189: \"'cruel\",\n",
              " 70869: \"'cruel'\",\n",
              " 81066: \"'crunching'\",\n",
              " 51713: \"'cry\",\n",
              " 79625: \"'cuban'\",\n",
              " 65821: \"'cube\",\n",
              " 42718: \"'cube'\",\n",
              " 34780: \"'cult\",\n",
              " 49479: \"'cult'\",\n",
              " 79869: \"'cultural\",\n",
              " 77803: \"'culture\",\n",
              " 73776: \"'curdled'\",\n",
              " 85567: \"'cured'\",\n",
              " 56932: \"'cures'\",\n",
              " 55278: \"'curry\",\n",
              " 77904: \"'cursed'\",\n",
              " 80705: \"'curtain'\",\n",
              " 85641: \"'curves'\",\n",
              " 83306: \"'customised'\",\n",
              " 76636: \"'cut\",\n",
              " 26509: \"'cut'\",\n",
              " 27877: \"'cute'\",\n",
              " 63474: \"'cutsey'\",\n",
              " 57822: \"'cutting\",\n",
              " 39323: \"'d\",\n",
              " 75194: \"'d'amato\",\n",
              " 36476: \"'dad's\",\n",
              " 67428: \"'daft'\",\n",
              " 59063: \"'dagger\",\n",
              " 66798: \"'daisy'\",\n",
              " 87619: \"'damaged'\",\n",
              " 69533: \"'dame'\",\n",
              " 75023: \"'dames'\",\n",
              " 83554: \"'damien'\",\n",
              " 64235: \"'damsel'\",\n",
              " 82586: \"'dan\",\n",
              " 81422: \"'dancer\",\n",
              " 62416: \"'dancer'\",\n",
              " 69052: \"'dancers'\",\n",
              " 60228: \"'dancing'\",\n",
              " 85176: \"'danger\",\n",
              " 61427: \"'dangerous'\",\n",
              " 55668: \"'daniel\",\n",
              " 70947: \"'daniel'\",\n",
              " 79798: \"'danse\",\n",
              " 79335: \"'darby\",\n",
              " 59961: \"'daring'\",\n",
              " 29517: \"'dark\",\n",
              " 45530: \"'dark'\",\n",
              " 71130: \"'darkies'\",\n",
              " 33159: \"'darkness\",\n",
              " 83672: \"'darling'\",\n",
              " 52324: \"'date\",\n",
              " 69171: \"'date'\",\n",
              " 78435: \"'dated'\",\n",
              " 63561: \"'dates'\",\n",
              " 47654: \"'daughters'\",\n",
              " 43125: \"'david\",\n",
              " 58772: \"'dawn\",\n",
              " 73803: \"'day'\",\n",
              " 73104: \"'daydream'\",\n",
              " 80184: \"'daydreams'\",\n",
              " 74384: \"'dazzling'\",\n",
              " 21219: \"'de\",\n",
              " 20795: \"'dead\",\n",
              " 28643: \"'dead'\",\n",
              " 56959: \"'deadly\",\n",
              " 57390: \"'deaf\",\n",
              " 57393: \"'dear\",\n",
              " 22450: \"'death\",\n",
              " 36446: \"'death'\",\n",
              " 86144: \"'debacle'\",\n",
              " 52660: \"'debut'\",\n",
              " 63569: \"'decadence'\",\n",
              " 67786: \"'deceived'\",\n",
              " 67483: \"'decency'\",\n",
              " 78257: \"'deeds'\",\n",
              " 32288: \"'deep\",\n",
              " 87973: \"'deep'\",\n",
              " 88497: \"'deepness'\",\n",
              " 83735: \"'deewana\",\n",
              " 61555: \"'defeat'\",\n",
              " 66684: \"'dehavilland\",\n",
              " 69942: \"'dekho\",\n",
              " 70924: \"'delightful'\",\n",
              " 59848: \"'delights'\",\n",
              " 34298: \"'delirious'\",\n",
              " 59435: \"'deliver\",\n",
              " 34449: \"'deliverance'\",\n",
              " 79861: \"'deliverance's\",\n",
              " 65112: \"'delivery'\",\n",
              " 59399: \"'delta\",\n",
              " 54654: \"'demented'\",\n",
              " 68533: \"'demolishing\",\n",
              " 48603: \"'demons\",\n",
              " 34935: \"'demons'\",\n",
              " 70941: \"'depraved'\",\n",
              " 61522: \"'depressing'\",\n",
              " 65323: \"'depth'\",\n",
              " 55603: \"'der\",\n",
              " 80584: \"'derek\",\n",
              " 70010: \"'descendant'\",\n",
              " 77424: \"'descent'\",\n",
              " 49818: \"'desperate\",\n",
              " 81675: \"'desperately'\",\n",
              " 52645: \"'destiny'\",\n",
              " 62009: \"'destruction\",\n",
              " 71882: \"'detached'\",\n",
              " 60981: \"'detail'\",\n",
              " 87348: \"'detailed\",\n",
              " 68447: \"'detective'\",\n",
              " 61972: \"'detectives'\",\n",
              " 79492: \"'deus'\",\n",
              " 61949: \"'device'\",\n",
              " 56708: \"'devil\",\n",
              " 40776: \"'devil'\",\n",
              " 67002: \"'dharam\",\n",
              " 44953: \"'diagnosis\",\n",
              " 87411: \"'dialect'\",\n",
              " 80925: \"'dialog'\",\n",
              " 52170: \"'dickie'\",\n",
              " 65093: \"'did\",\n",
              " 77319: \"'did'\",\n",
              " 53437: \"'didn't\",\n",
              " 27687: \"'die\",\n",
              " 34982: \"'different'\",\n",
              " 36935: \"'dig\",\n",
              " 57265: \"'digga\",\n",
              " 69051: \"'dilemmas'\",\n",
              " 68618: \"'dillinger\",\n",
              " 23534: \"'dillinger'\",\n",
              " 71522: \"'dim'\",\n",
              " 63170: \"'dine\",\n",
              " 60261: \"'dingle\",\n",
              " 71542: \"'dinnerladies'\",\n",
              " 78349: \"'direct\",\n",
              " 78166: \"'directing'\",\n",
              " 63718: \"'director'\",\n",
              " 46190: \"'director's\",\n",
              " 28635: \"'dirty\",\n",
              " 55268: \"'dirty'\",\n",
              " 82493: \"'disappear'\",\n",
              " 86509: \"'discovering\",\n",
              " 72883: \"'disgustingly\",\n",
              " 41957: \"'disney'\",\n",
              " 72222: \"'distant\",\n",
              " 61953: \"'distinct\",\n",
              " 79830: \"'distorted'\",\n",
              " 39434: \"'distortion'\",\n",
              " 72112: \"'ditsy'\",\n",
              " 62538: \"'divine\",\n",
              " 66647: \"'divorce\",\n",
              " 72053: \"'dj'\",\n",
              " 26386: \"'do\",\n",
              " 31347: \"'doctor\",\n",
              " 65689: \"'doctor'\",\n",
              " 85015: \"'doctors'\",\n",
              " 69873: \"'docudrama'\",\n",
              " 30815: \"'documentary'\",\n",
              " 87917: \"'dodgy'\",\n",
              " 81695: \"'does\",\n",
              " 51915: \"'dog\",\n",
              " 30306: \"'doghi'\",\n",
              " 43055: \"'dogma'\",\n",
              " 82974: \"'dogville'\",\n",
              " 72161: \"'doing\",\n",
              " 74252: \"'doll'\",\n",
              " 82399: \"'dollman\",\n",
              " ...}"
            ]
          },
          "metadata": {
            "tags": []
          },
          "execution_count": 49
        }
      ]
    },
    {
      "cell_type": "markdown",
      "metadata": {
        "id": "dybtUgUReCy8",
        "colab_type": "text"
      },
      "source": [
        "## Build Keras Embedding Layer Model\n",
        "We can think of the Embedding layer as a dicionary that maps a index assigned to a word to a word vector. This layer is very flexible and can be used in a few ways:\n",
        "\n",
        "* The embedding layer can be used at the start of a larger deep learning model. \n",
        "* Also we could load pre-train word embeddings into the embedding layer when we create our model.\n",
        "* Use the embedding layer to train our own word2vec models.\n",
        "\n",
        "The keras embedding layer doesn't require us to onehot encode our words, instead we have to give each word a unqiue intger number as an id. For the imdb dataset we've loaded this has already been done, but if this wasn't the case we could use sklearn [LabelEncoder](http://scikit-learn.org/stable/modules/generated/sklearn.preprocessing.LabelEncoder.html)."
      ]
    },
    {
      "cell_type": "code",
      "metadata": {
        "id": "A5OLM4eBeCy9",
        "colab_type": "code",
        "colab": {}
      },
      "source": [
        "import keras\n",
        "import tensorflow as tf\n",
        "from keras.layers import LSTM,Dense,Embedding\n",
        "from keras.models import Sequential\n",
        "from keras.callbacks import ModelCheckpoint, EarlyStopping\n",
        "from keras.preprocessing.text import Tokenizer"
      ],
      "execution_count": 0,
      "outputs": []
    },
    {
      "cell_type": "code",
      "metadata": {
        "id": "TxNDNhrseCzA",
        "colab_type": "code",
        "colab": {}
      },
      "source": [
        "# Creating model on our own Embeddings. \n",
        "model = Sequential()\n",
        "model.add(Embedding(vocab_size+1,\n",
        "                    50,\n",
        "                    input_length = maxlen))\n",
        "model.add(LSTM(256, dropout = 0.2, recurrent_dropout= 0.2))\n",
        "model.add(Dense(1, activation= 'sigmoid'))"
      ],
      "execution_count": 0,
      "outputs": []
    },
    {
      "cell_type": "code",
      "metadata": {
        "id": "L3CSVVPPeCzD",
        "colab_type": "code",
        "colab": {}
      },
      "source": [
        "model.compile(optimizer='adam',loss='binary_crossentropy',metrics=['accuracy'])"
      ],
      "execution_count": 0,
      "outputs": []
    },
    {
      "cell_type": "code",
      "metadata": {
        "id": "Ybj53yD_Ej7F",
        "colab_type": "code",
        "colab": {}
      },
      "source": [
        "# filepath=\"/gdrive/My Drive/NLP/Sequence Modelling/Weights/weights.best.hdf5\"\n",
        "# checkpoint = ModelCheckpoint(filepath, monitor='val_acc', verbose=1, save_best_only=True, mode='max')\n",
        "# ES = EarlyStopping(monitor='val_acc', min_delta=0, patience=0, mode='auto', baseline=None, restore_best_weights=False)\n",
        "# callbacks_list = [ES]"
      ],
      "execution_count": 0,
      "outputs": []
    },
    {
      "cell_type": "code",
      "metadata": {
        "id": "AuOlmoaaEyOE",
        "colab_type": "code",
        "outputId": "4d9426b6-dc03-4742-d861-37a1bcb9a7de",
        "colab": {
          "base_uri": "https://localhost:8080/",
          "height": 386
        }
      },
      "source": [
        "model.fit(x_train,y_train,\n",
        "          epochs=10,\n",
        "          batch_size=128,          \n",
        "          validation_data=(x_test, y_test),\n",
        "         verbose=1)"
      ],
      "execution_count": 0,
      "outputs": [
        {
          "output_type": "stream",
          "text": [
            "Train on 25000 samples, validate on 25000 samples\n",
            "Epoch 1/10\n",
            "25000/25000 [==============================] - 127s 5ms/step - loss: 0.1654 - acc: 0.9380 - val_loss: 0.4560 - val_acc: 0.8214\n",
            "Epoch 2/10\n",
            "25000/25000 [==============================] - 126s 5ms/step - loss: 0.1442 - acc: 0.9489 - val_loss: 0.4211 - val_acc: 0.8408\n",
            "Epoch 3/10\n",
            "25000/25000 [==============================] - 126s 5ms/step - loss: 0.1238 - acc: 0.9557 - val_loss: 0.4937 - val_acc: 0.8476\n",
            "Epoch 4/10\n",
            "25000/25000 [==============================] - 126s 5ms/step - loss: 0.0993 - acc: 0.9654 - val_loss: 0.5432 - val_acc: 0.8410\n",
            "Epoch 5/10\n",
            "25000/25000 [==============================] - 127s 5ms/step - loss: 0.0903 - acc: 0.9688 - val_loss: 0.5693 - val_acc: 0.8349\n",
            "Epoch 6/10\n",
            "25000/25000 [==============================] - 126s 5ms/step - loss: 0.0789 - acc: 0.9738 - val_loss: 0.6118 - val_acc: 0.8355\n",
            "Epoch 7/10\n",
            "25000/25000 [==============================] - 126s 5ms/step - loss: 0.0735 - acc: 0.9748 - val_loss: 0.6994 - val_acc: 0.8285\n",
            "Epoch 8/10\n",
            "25000/25000 [==============================] - 125s 5ms/step - loss: 0.0627 - acc: 0.9804 - val_loss: 0.6990 - val_acc: 0.8358\n",
            "Epoch 9/10\n",
            "25000/25000 [==============================] - 125s 5ms/step - loss: 0.0647 - acc: 0.9784 - val_loss: 0.6638 - val_acc: 0.8339\n",
            "Epoch 10/10\n",
            "25000/25000 [==============================] - 126s 5ms/step - loss: 0.0447 - acc: 0.9859 - val_loss: 0.7271 - val_acc: 0.8403\n"
          ],
          "name": "stdout"
        },
        {
          "output_type": "execute_result",
          "data": {
            "text/plain": [
              "<keras.callbacks.History at 0x7f85d34b24e0>"
            ]
          },
          "metadata": {
            "tags": []
          },
          "execution_count": 141
        }
      ]
    },
    {
      "cell_type": "code",
      "metadata": {
        "id": "PdSk00Mzjurp",
        "colab_type": "code",
        "outputId": "a8cff6fe-b7b4-4dd8-a270-cc78cddc4ee0",
        "colab": {
          "base_uri": "https://localhost:8080/",
          "height": 84
        }
      },
      "source": [
        "print (model.evaluate(x_train,y_train))\n",
        "print (model.evaluate(x_test,y_test))"
      ],
      "execution_count": 0,
      "outputs": [
        {
          "output_type": "stream",
          "text": [
            "25000/25000 [==============================] - 131s 5ms/step\n",
            "[0.02132713037803769, 0.99516]\n",
            "25000/25000 [==============================] - 131s 5ms/step\n",
            "[0.7270638479340077, 0.84032]\n"
          ],
          "name": "stdout"
        }
      ]
    },
    {
      "cell_type": "code",
      "metadata": {
        "id": "l1ohdz7YnFDv",
        "colab_type": "code",
        "colab": {}
      },
      "source": [
        "# Accuracy on Test set is 84% while Trainin is 99%."
      ],
      "execution_count": 0,
      "outputs": []
    },
    {
      "cell_type": "code",
      "metadata": {
        "id": "6EClnwouRuCy",
        "colab_type": "code",
        "colab": {}
      },
      "source": [
        "# Generating Embeddings from the Word2Vec Model"
      ],
      "execution_count": 0,
      "outputs": []
    },
    {
      "cell_type": "code",
      "metadata": {
        "id": "8QGHGqh-R_Di",
        "colab_type": "code",
        "outputId": "cb0aed2f-87f9-40dc-c62d-245b5a7bc3f8",
        "colab": {
          "base_uri": "https://localhost:8080/",
          "height": 70
        }
      },
      "source": [
        "import gensim\n",
        "import numpy as np\n",
        "word2vec = gensim.models.Word2Vec.load('/gdrive/My Drive/NLP/Sequence Modelling/Weights/word2vec-movie-50') # Using pre trained model on reviews dataset."
      ],
      "execution_count": 0,
      "outputs": [
        {
          "output_type": "stream",
          "text": [
            "/usr/local/lib/python3.6/dist-packages/smart_open/smart_open_lib.py:402: UserWarning: This function is deprecated, use smart_open.open instead. See the migration notes for details: https://github.com/RaRe-Technologies/smart_open/blob/master/README.rst#migrating-to-the-new-open-function\n",
            "  'See the migration notes for details: %s' % _MIGRATION_NOTES_URL\n"
          ],
          "name": "stderr"
        }
      ]
    },
    {
      "cell_type": "code",
      "metadata": {
        "id": "vI0GSScxZcCc",
        "colab_type": "code",
        "colab": {}
      },
      "source": [
        "vocab_size = 10000 #vocab size\n",
        "maxlen = 300 "
      ],
      "execution_count": 0,
      "outputs": []
    },
    {
      "cell_type": "code",
      "metadata": {
        "id": "9Fzw3YLZV31_",
        "colab_type": "code",
        "outputId": "270c65d8-19da-42ae-bce9-a06f62c24562",
        "colab": {
          "base_uri": "https://localhost:8080/",
          "height": 118
        }
      },
      "source": [
        "# Creating the embedding matrix on the pre trained model.\n",
        "\n",
        "print (word2vec.wv.syn0.shape)\n",
        "embedding_vector_length = word2vec.wv.syn0.shape[1]\n",
        "print (embedding_vector_length)\n",
        "embedding_matrix = np.zeros((vocab_size + 1, embedding_vector_length))"
      ],
      "execution_count": 0,
      "outputs": [
        {
          "output_type": "stream",
          "text": [
            "(28322, 50)\n",
            "50\n"
          ],
          "name": "stdout"
        },
        {
          "output_type": "stream",
          "text": [
            "/usr/local/lib/python3.6/dist-packages/ipykernel_launcher.py:1: DeprecationWarning: Call to deprecated `syn0` (Attribute will be removed in 4.0.0, use self.wv.vectors instead).\n",
            "  \"\"\"Entry point for launching an IPython kernel.\n",
            "/usr/local/lib/python3.6/dist-packages/ipykernel_launcher.py:2: DeprecationWarning: Call to deprecated `syn0` (Attribute will be removed in 4.0.0, use self.wv.vectors instead).\n",
            "  \n"
          ],
          "name": "stderr"
        }
      ]
    },
    {
      "cell_type": "code",
      "metadata": {
        "id": "9rTMy5wiX_eI",
        "colab_type": "code",
        "outputId": "982b6346-7ede-4144-9b58-625ef906c50b",
        "colab": {
          "base_uri": "https://localhost:8080/",
          "height": 34
        }
      },
      "source": [
        "embedding_matrix.shape"
      ],
      "execution_count": 0,
      "outputs": [
        {
          "output_type": "execute_result",
          "data": {
            "text/plain": [
              "(10001, 50)"
            ]
          },
          "metadata": {
            "tags": []
          },
          "execution_count": 88
        }
      ]
    },
    {
      "cell_type": "code",
      "metadata": {
        "id": "nchRba6AXCFL",
        "colab_type": "code",
        "colab": {}
      },
      "source": [
        "word_index = imdb.get_word_index() # getting the imdb word index and then sorting the numbers from the above trained model.\n",
        "\n",
        "for word, i in sorted(word_index.items(),key=lambda x:x[1]):\n",
        "    if i > vocab_size:\n",
        "        break\n",
        "    if word in word2vec.wv.vocab:\n",
        "        embedding_vector = word2vec.wv[word]\n",
        "        embedding_matrix[i] = embedding_vector"
      ],
      "execution_count": 0,
      "outputs": []
    },
    {
      "cell_type": "code",
      "metadata": {
        "id": "bcvHgMNPXXYY",
        "colab_type": "code",
        "outputId": "652ea49b-8563-42a8-dedf-aa731aa9edc7",
        "colab": {
          "base_uri": "https://localhost:8080/",
          "height": 235
        }
      },
      "source": [
        "embedding_matrix"
      ],
      "execution_count": 0,
      "outputs": [
        {
          "output_type": "execute_result",
          "data": {
            "text/plain": [
              "array([[ 0.00000000e+00,  0.00000000e+00,  0.00000000e+00, ...,\n",
              "         0.00000000e+00,  0.00000000e+00,  0.00000000e+00],\n",
              "       [ 1.16866052e+00, -7.70397484e-01,  5.36463439e-01, ...,\n",
              "         4.05603141e-01,  1.03146255e+00,  5.40008426e-01],\n",
              "       [ 1.81770131e-01, -3.19990814e-01, -1.54910731e+00, ...,\n",
              "         5.80117047e-01,  1.93074954e+00,  2.35541433e-01],\n",
              "       ...,\n",
              "       [ 3.41043323e-01,  1.10295914e-01, -4.41503316e-01, ...,\n",
              "        -3.05411249e-01,  8.40625614e-02, -1.12593189e-01],\n",
              "       [ 3.31337422e-01,  2.60454744e-01, -2.44804904e-01, ...,\n",
              "         7.71929562e-01, -4.43852991e-02, -1.11080392e-03],\n",
              "       [ 3.35533053e-01,  2.15908974e-01,  3.63179684e-01, ...,\n",
              "        -8.98603499e-02,  3.16696137e-01,  1.12234205e-01]])"
            ]
          },
          "metadata": {
            "tags": []
          },
          "execution_count": 93
        }
      ]
    },
    {
      "cell_type": "code",
      "metadata": {
        "id": "mPns5xoYXdwE",
        "colab_type": "code",
        "colab": {}
      },
      "source": [
        "# Making the Embedding layer false so it does not train again and we have less training time.\n",
        "model_Embedding_Pretrained = Sequential()\n",
        "model_Embedding_Pretrained.add(Embedding(vocab_size + 1,\n",
        "                    embedding_vector_length,\n",
        "                    input_length=maxlen,\n",
        "                   weights=[embedding_matrix],\n",
        "                   trainable=False)\n",
        "         )\n",
        "model_Embedding_Pretrained.add(LSTM(256, dropout = 0.2, recurrent_dropout= 0.2))\n",
        "model_Embedding_Pretrained.add(Dense(1, activation= 'sigmoid'))"
      ],
      "execution_count": 0,
      "outputs": []
    },
    {
      "cell_type": "code",
      "metadata": {
        "id": "mm_Fw7lcbrAu",
        "colab_type": "code",
        "colab": {}
      },
      "source": [
        "model_Embedding_Pretrained.compile(optimizer='adam',loss='binary_crossentropy',metrics=['accuracy'])"
      ],
      "execution_count": 0,
      "outputs": []
    },
    {
      "cell_type": "code",
      "metadata": {
        "id": "0ybeNWcraLuu",
        "colab_type": "code",
        "colab": {}
      },
      "source": [
        "# filepath=\"/gdrive/My Drive/NLP/Sequence Modelling/Weights/weights.best.hdf5\"\n",
        "# checkpoint = ModelCheckpoint(filepath, monitor='val_acc', verbose=1, save_best_only=True, mode='max')\n",
        "ES = EarlyStopping(monitor='val_acc', min_delta=0, patience=0, mode='auto', baseline=None, restore_best_weights=False)\n",
        "callbacks_list = [ES]"
      ],
      "execution_count": 0,
      "outputs": []
    },
    {
      "cell_type": "code",
      "metadata": {
        "id": "-IbiPb1PbyON",
        "colab_type": "code",
        "outputId": "c6f383cb-7871-463d-c179-ba98f3ec0a70",
        "colab": {
          "base_uri": "https://localhost:8080/",
          "height": 319
        }
      },
      "source": [
        "%%time\n",
        "model_Embedding_Pretrained.fit(x_train,y_train,\n",
        "          epochs=10,\n",
        "          batch_size=128,          \n",
        "          validation_data=(x_test, y_test),\n",
        "         verbose=1, callbacks = callbacks_list)"
      ],
      "execution_count": 0,
      "outputs": [
        {
          "output_type": "stream",
          "text": [
            "Train on 25000 samples, validate on 25000 samples\n",
            "Epoch 1/10\n",
            "25000/25000 [==============================] - 128s 5ms/step - loss: 0.6436 - acc: 0.6226 - val_loss: 0.5765 - val_acc: 0.6934\n",
            "Epoch 2/10\n",
            "25000/25000 [==============================] - 125s 5ms/step - loss: 0.5745 - acc: 0.6972 - val_loss: 0.5281 - val_acc: 0.7366\n",
            "Epoch 3/10\n",
            "25000/25000 [==============================] - 125s 5ms/step - loss: 0.5271 - acc: 0.7322 - val_loss: 0.5206 - val_acc: 0.7500\n",
            "Epoch 4/10\n",
            "25000/25000 [==============================] - 123s 5ms/step - loss: 0.4887 - acc: 0.7594 - val_loss: 0.4884 - val_acc: 0.7839\n",
            "Epoch 5/10\n",
            "25000/25000 [==============================] - 122s 5ms/step - loss: 0.4484 - acc: 0.7888 - val_loss: 0.4293 - val_acc: 0.8044\n",
            "Epoch 6/10\n",
            "25000/25000 [==============================] - 120s 5ms/step - loss: 0.4229 - acc: 0.8041 - val_loss: 0.4103 - val_acc: 0.8115\n",
            "Epoch 7/10\n",
            "25000/25000 [==============================] - 120s 5ms/step - loss: 0.4101 - acc: 0.8093 - val_loss: 0.4272 - val_acc: 0.8067\n",
            "CPU times: user 20min 37s, sys: 1min 37s, total: 22min 15s\n",
            "Wall time: 14min 23s\n"
          ],
          "name": "stdout"
        },
        {
          "output_type": "execute_result",
          "data": {
            "text/plain": [
              "<keras.callbacks.History at 0x7f85d31c0a90>"
            ]
          },
          "metadata": {
            "tags": []
          },
          "execution_count": 139
        }
      ]
    },
    {
      "cell_type": "markdown",
      "metadata": {
        "id": "Igq8Qm8GeCzG",
        "colab_type": "text"
      },
      "source": [
        "## Retrive the output of each layer in keras for a given single test sample from the trained model you built"
      ]
    },
    {
      "cell_type": "code",
      "metadata": {
        "id": "iTxreu4pczN1",
        "colab_type": "code",
        "outputId": "9b4a91e7-6040-4c68-ff0d-194b394c495c",
        "colab": {
          "base_uri": "https://localhost:8080/",
          "height": 134
        }
      },
      "source": [
        "# Predicting using model created by training on our own embeddings\n",
        "model.predict_classes(x_test)"
      ],
      "execution_count": 0,
      "outputs": [
        {
          "output_type": "execute_result",
          "data": {
            "text/plain": [
              "array([[0],\n",
              "       [1],\n",
              "       [0],\n",
              "       ...,\n",
              "       [0],\n",
              "       [0],\n",
              "       [1]], dtype=int32)"
            ]
          },
          "metadata": {
            "tags": []
          },
          "execution_count": 149
        }
      ]
    },
    {
      "cell_type": "code",
      "metadata": {
        "id": "Wq_5FhH9c7gM",
        "colab_type": "code",
        "outputId": "9e7c7f77-c3c4-499d-ac84-5e589a819b81",
        "colab": {
          "base_uri": "https://localhost:8080/",
          "height": 134
        }
      },
      "source": [
        "# Predicting using pretrained model\n",
        "model_Embedding_Pretrained.predict_classes(x_test)"
      ],
      "execution_count": 0,
      "outputs": [
        {
          "output_type": "execute_result",
          "data": {
            "text/plain": [
              "array([[0],\n",
              "       [1],\n",
              "       [1],\n",
              "       ...,\n",
              "       [0],\n",
              "       [0],\n",
              "       [1]], dtype=int32)"
            ]
          },
          "metadata": {
            "tags": []
          },
          "execution_count": 150
        }
      ]
    },
    {
      "cell_type": "code",
      "metadata": {
        "id": "0AqOnLa2eCzH",
        "colab_type": "code",
        "colab": {}
      },
      "source": [
        "decoded_review = ' '.join([reverse_word_index.get(i, \"\") for i in x_test[2]])"
      ],
      "execution_count": 0,
      "outputs": []
    },
    {
      "cell_type": "code",
      "metadata": {
        "id": "142gP8Qra2Nz",
        "colab_type": "code",
        "outputId": "3a10e5b4-6797-4fdf-aba6-a19d59b9535f",
        "colab": {
          "base_uri": "https://localhost:8080/",
          "height": 54
        }
      },
      "source": [
        "decoded_review"
      ],
      "execution_count": 0,
      "outputs": [
        {
          "output_type": "execute_result",
          "data": {
            "text/plain": [
              "\"grade marc go and but be lot it oliver movie is and picture and feel this of ensue like different just clichéd girl at finds is and no and glory any is children's just moment like mixing any of and leaving for as it even cliche to purchased is money easily egypt and glory any is and i i liam film as and set actually easily like outdated sequel any of and ryan made film is and br and constant and of 90s letting deep in act made of road in of and movie and rural vhs of share in reaching fact of and polly spinal of 90s to them book are is unfamiliar mercy and mode they funniest is white courage and vegas wooden br of gender and unfortunately of 1968 no of years hokey and true up and and but 3 all ordinary be oblivious to and were deserve film clone and of creative br comes their kung who is assuming bias out new all it incomprehensible it episode much that's including i i cartoon of my certain no as rooting over you with way to cartoon of enough for that with way who is finished and they of rukh br for and expressing stunts black that story at actual in can as movie is and has though songs and action it's action his one me and grass this second no all way and not lee and be moves br figure of you boss movie is and 9 br propaganda and and after at of smoke splendid snow saturday it's results this of load it's think class br think cop for games make southern things to it jolly who and if is boyfriend you which is tony by this make residents too not make above it even background\""
            ]
          },
          "metadata": {
            "tags": []
          },
          "execution_count": 133
        }
      ]
    },
    {
      "cell_type": "code",
      "metadata": {
        "id": "Tskt_1npeCzP",
        "colab_type": "code",
        "outputId": "d7e76307-473e-4181-8115-42899d5c7870",
        "colab": {
          "base_uri": "https://localhost:8080/",
          "height": 34
        }
      },
      "source": [
        "print (model_Embedding_Pretrained.predict_classes(x_test[2:3]))\n",
        "# print (model.predict_classes(decoded_review))"
      ],
      "execution_count": 0,
      "outputs": [
        {
          "output_type": "stream",
          "text": [
            "[[1]]\n"
          ],
          "name": "stdout"
        }
      ]
    },
    {
      "cell_type": "code",
      "metadata": {
        "id": "IVDh6Oa-nX-S",
        "colab_type": "code",
        "colab": {}
      },
      "source": [
        ""
      ],
      "execution_count": 0,
      "outputs": []
    }
  ]
}